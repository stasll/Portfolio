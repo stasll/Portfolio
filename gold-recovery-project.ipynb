{
 "cells": [
  {
   "cell_type": "markdown",
   "metadata": {},
   "source": [
    "# Проект \"Восстановление золота из руды\""
   ]
  },
  {
   "cell_type": "markdown",
   "metadata": {},
   "source": [
    "## Описание проекта"
   ]
  },
  {
   "cell_type": "markdown",
   "metadata": {},
   "source": [
    "Мы работаем с компанией, которая разрабатывает решения для эффективной работы промышленных предприятий. Наша основная задача:\n",
    "> **Подготовить прототип модели машинного обучения.** Модель должна предсказать коэффициент восстановления золота из золотосодержащей руды.\n",
    "\n",
    "Модель поможет оптимизировать производство, чтобы не запускать предприятие с убыточными характеристиками.\n",
    "\n",
    "В нашем распоряжении есть данные с параметрами добычи и очистки. "
   ]
  },
  {
   "cell_type": "markdown",
   "metadata": {},
   "source": [
    "## План проекта\n",
    "\n",
    "- 1. [Подготовка данных](#get_ready)\n",
    "    - 1.1 [Открытие и изучение](#open)\n",
    "    - 1.2 [Проверка эффективности обогащения](#efficiency)\n",
    "    - 1.3 [Пропущенные столбцы в тестовой выборке](#test)\n",
    "    - 1.4 [Пропуски в датафрейме](#miss)\n",
    "- 2. [Анализ данных](#analys)\n",
    "    - 2.1 [Концентрация металлов (Au, Ag, Pb) на различных этапах очистки](#auagpb)\n",
    "    - 2.2 [Размер гранул сырья на обучающей и тестовой выборках](#size)\n",
    "    - 2.3 [Суммарные концентрации всех веществ на разных стадиях](#sumconc)\n",
    "- 3. [Построение моделей](#models)\n",
    "    - 3.1 [Функция для вычисления sMAPE](#func)\n",
    "    - 3.2 [Обучение моделей](#learn)\n",
    "    - 3.3 [Итоговое sMAPE](#finalsMAPE)"
   ]
  },
  {
   "cell_type": "markdown",
   "metadata": {},
   "source": [
    "<a id=get_ready></a>\n",
    "## 1. Подготовка данных"
   ]
  },
  {
   "cell_type": "markdown",
   "metadata": {},
   "source": [
    "<a id=open></a>\n",
    "### 1.1 Открытие и изучение"
   ]
  },
  {
   "cell_type": "markdown",
   "metadata": {},
   "source": [
    "Откроем файлы с данными и сохраним их в переменные: \n",
    "- `df_train` - обучающая выборка\n",
    "- `df_test` - тестовая выборка\n",
    "- `df_full` - весь датафрейм"
   ]
  },
  {
   "cell_type": "code",
   "execution_count": 1,
   "metadata": {},
   "outputs": [],
   "source": [
    "import pandas as pd\n",
    "import numpy as np\n",
    "import matplotlib.pyplot as plt\n",
    "import seaborn as sns\n",
    "\n",
    "from sklearn.tree import DecisionTreeRegressor\n",
    "from sklearn.ensemble import RandomForestRegressor\n",
    "from sklearn.linear_model import LinearRegression\n",
    "from sklearn.model_selection import train_test_split, cross_val_score\n",
    "from sklearn.metrics import mean_absolute_error, mean_squared_error, make_scorer\n",
    "from sklearn.linear_model import LinearRegression\n",
    "from sklearn.dummy import DummyRegressor\n",
    "from sklearn.preprocessing import StandardScaler"
   ]
  },
  {
   "cell_type": "code",
   "execution_count": 2,
   "metadata": {},
   "outputs": [],
   "source": [
    "\n",
    "try:\n",
    "    df_train = pd.read_csv('/datasets/gold_recovery_train_new.csv')\n",
    "except:\n",
    "    df_train = pd.read_csv('c://Users/User/Downloads/gold_recovery_train_new.csv')\n",
    "    \n",
    "try:\n",
    "    df_test = pd.read_csv('/datasets/gold_recovery_test_new.csv')\n",
    "except:\n",
    "    df_test = pd.read_csv('c://Users/User/Downloads/gold_recovery_test_new.csv')\n",
    "\n",
    "try:\n",
    "    df_full = pd.read_csv('/datasets/gold_recovery_full_new.csv')\n",
    "except:\n",
    "    df_full = pd.read_csv('c://Users/User/Downloads/gold_recovery_full_new.csv')"
   ]
  },
  {
   "cell_type": "markdown",
   "metadata": {},
   "source": [
    "Создадим функцию, которая проводит первичный анализ датафрейма и взглянем на каждый из из них."
   ]
  },
  {
   "cell_type": "code",
   "execution_count": 3,
   "metadata": {},
   "outputs": [],
   "source": [
    "datasets = [df_train, df_test, df_full]\n",
    "def havealook(df):\n",
    "    \n",
    "    \"\"\"Функция проводит первичный анализ датафрейма\"\"\"\n",
    "    \n",
    "    print('Размер датафрейма:', df.shape[0], 'строк и ', df.shape[1], 'столбцов.')\n",
    "    print('---------------------------------------------------------------\\n')\n",
    "    display(df.head())\n",
    "    print('---------------------------------------------------------------\\n')\n",
    "    display(df.info())\n",
    "    print('---------------------------------------------------------------\\n')\n",
    "    display(df.describe())\n",
    "    print('---------------------------------------------------------------\\n')\n",
    "    print('Дубликатов в датафрейме:', df.duplicated().sum())\n",
    "    print('---------------------------------------------------------------\\n')\n",
    "    display('Больше всего пропущенных значений в столбцах:', df.isna().sum().sort_values(ascending=False).head(10));"
   ]
  },
  {
   "cell_type": "code",
   "execution_count": 4,
   "metadata": {},
   "outputs": [
    {
     "name": "stdout",
     "output_type": "stream",
     "text": [
      "Размер датафрейма: 14149 строк и  87 столбцов.\n",
      "---------------------------------------------------------------\n",
      "\n"
     ]
    },
    {
     "data": {
      "text/html": [
       "<div>\n",
       "<style scoped>\n",
       "    .dataframe tbody tr th:only-of-type {\n",
       "        vertical-align: middle;\n",
       "    }\n",
       "\n",
       "    .dataframe tbody tr th {\n",
       "        vertical-align: top;\n",
       "    }\n",
       "\n",
       "    .dataframe thead th {\n",
       "        text-align: right;\n",
       "    }\n",
       "</style>\n",
       "<table border=\"1\" class=\"dataframe\">\n",
       "  <thead>\n",
       "    <tr style=\"text-align: right;\">\n",
       "      <th></th>\n",
       "      <th>date</th>\n",
       "      <th>final.output.concentrate_ag</th>\n",
       "      <th>final.output.concentrate_pb</th>\n",
       "      <th>final.output.concentrate_sol</th>\n",
       "      <th>final.output.concentrate_au</th>\n",
       "      <th>final.output.recovery</th>\n",
       "      <th>final.output.tail_ag</th>\n",
       "      <th>final.output.tail_pb</th>\n",
       "      <th>final.output.tail_sol</th>\n",
       "      <th>final.output.tail_au</th>\n",
       "      <th>...</th>\n",
       "      <th>secondary_cleaner.state.floatbank4_a_air</th>\n",
       "      <th>secondary_cleaner.state.floatbank4_a_level</th>\n",
       "      <th>secondary_cleaner.state.floatbank4_b_air</th>\n",
       "      <th>secondary_cleaner.state.floatbank4_b_level</th>\n",
       "      <th>secondary_cleaner.state.floatbank5_a_air</th>\n",
       "      <th>secondary_cleaner.state.floatbank5_a_level</th>\n",
       "      <th>secondary_cleaner.state.floatbank5_b_air</th>\n",
       "      <th>secondary_cleaner.state.floatbank5_b_level</th>\n",
       "      <th>secondary_cleaner.state.floatbank6_a_air</th>\n",
       "      <th>secondary_cleaner.state.floatbank6_a_level</th>\n",
       "    </tr>\n",
       "  </thead>\n",
       "  <tbody>\n",
       "    <tr>\n",
       "      <th>0</th>\n",
       "      <td>2016-01-15 00:00:00</td>\n",
       "      <td>6.055403</td>\n",
       "      <td>9.889648</td>\n",
       "      <td>5.507324</td>\n",
       "      <td>42.192020</td>\n",
       "      <td>70.541216</td>\n",
       "      <td>10.411962</td>\n",
       "      <td>0.895447</td>\n",
       "      <td>16.904297</td>\n",
       "      <td>2.143149</td>\n",
       "      <td>...</td>\n",
       "      <td>14.016835</td>\n",
       "      <td>-502.488007</td>\n",
       "      <td>12.099931</td>\n",
       "      <td>-504.715942</td>\n",
       "      <td>9.925633</td>\n",
       "      <td>-498.310211</td>\n",
       "      <td>8.079666</td>\n",
       "      <td>-500.470978</td>\n",
       "      <td>14.151341</td>\n",
       "      <td>-605.841980</td>\n",
       "    </tr>\n",
       "    <tr>\n",
       "      <th>1</th>\n",
       "      <td>2016-01-15 01:00:00</td>\n",
       "      <td>6.029369</td>\n",
       "      <td>9.968944</td>\n",
       "      <td>5.257781</td>\n",
       "      <td>42.701629</td>\n",
       "      <td>69.266198</td>\n",
       "      <td>10.462676</td>\n",
       "      <td>0.927452</td>\n",
       "      <td>16.634514</td>\n",
       "      <td>2.224930</td>\n",
       "      <td>...</td>\n",
       "      <td>13.992281</td>\n",
       "      <td>-505.503262</td>\n",
       "      <td>11.950531</td>\n",
       "      <td>-501.331529</td>\n",
       "      <td>10.039245</td>\n",
       "      <td>-500.169983</td>\n",
       "      <td>7.984757</td>\n",
       "      <td>-500.582168</td>\n",
       "      <td>13.998353</td>\n",
       "      <td>-599.787184</td>\n",
       "    </tr>\n",
       "    <tr>\n",
       "      <th>2</th>\n",
       "      <td>2016-01-15 02:00:00</td>\n",
       "      <td>6.055926</td>\n",
       "      <td>10.213995</td>\n",
       "      <td>5.383759</td>\n",
       "      <td>42.657501</td>\n",
       "      <td>68.116445</td>\n",
       "      <td>10.507046</td>\n",
       "      <td>0.953716</td>\n",
       "      <td>16.208849</td>\n",
       "      <td>2.257889</td>\n",
       "      <td>...</td>\n",
       "      <td>14.015015</td>\n",
       "      <td>-502.520901</td>\n",
       "      <td>11.912783</td>\n",
       "      <td>-501.133383</td>\n",
       "      <td>10.070913</td>\n",
       "      <td>-500.129135</td>\n",
       "      <td>8.013877</td>\n",
       "      <td>-500.517572</td>\n",
       "      <td>14.028663</td>\n",
       "      <td>-601.427363</td>\n",
       "    </tr>\n",
       "    <tr>\n",
       "      <th>3</th>\n",
       "      <td>2016-01-15 03:00:00</td>\n",
       "      <td>6.047977</td>\n",
       "      <td>9.977019</td>\n",
       "      <td>4.858634</td>\n",
       "      <td>42.689819</td>\n",
       "      <td>68.347543</td>\n",
       "      <td>10.422762</td>\n",
       "      <td>0.883763</td>\n",
       "      <td>16.532835</td>\n",
       "      <td>2.146849</td>\n",
       "      <td>...</td>\n",
       "      <td>14.036510</td>\n",
       "      <td>-500.857308</td>\n",
       "      <td>11.999550</td>\n",
       "      <td>-501.193686</td>\n",
       "      <td>9.970366</td>\n",
       "      <td>-499.201640</td>\n",
       "      <td>7.977324</td>\n",
       "      <td>-500.255908</td>\n",
       "      <td>14.005551</td>\n",
       "      <td>-599.996129</td>\n",
       "    </tr>\n",
       "    <tr>\n",
       "      <th>4</th>\n",
       "      <td>2016-01-15 04:00:00</td>\n",
       "      <td>6.148599</td>\n",
       "      <td>10.142511</td>\n",
       "      <td>4.939416</td>\n",
       "      <td>42.774141</td>\n",
       "      <td>66.927016</td>\n",
       "      <td>10.360302</td>\n",
       "      <td>0.792826</td>\n",
       "      <td>16.525686</td>\n",
       "      <td>2.055292</td>\n",
       "      <td>...</td>\n",
       "      <td>14.027298</td>\n",
       "      <td>-499.838632</td>\n",
       "      <td>11.953070</td>\n",
       "      <td>-501.053894</td>\n",
       "      <td>9.925709</td>\n",
       "      <td>-501.686727</td>\n",
       "      <td>7.894242</td>\n",
       "      <td>-500.356035</td>\n",
       "      <td>13.996647</td>\n",
       "      <td>-601.496691</td>\n",
       "    </tr>\n",
       "  </tbody>\n",
       "</table>\n",
       "<p>5 rows × 87 columns</p>\n",
       "</div>"
      ],
      "text/plain": [
       "                  date  final.output.concentrate_ag  \\\n",
       "0  2016-01-15 00:00:00                     6.055403   \n",
       "1  2016-01-15 01:00:00                     6.029369   \n",
       "2  2016-01-15 02:00:00                     6.055926   \n",
       "3  2016-01-15 03:00:00                     6.047977   \n",
       "4  2016-01-15 04:00:00                     6.148599   \n",
       "\n",
       "   final.output.concentrate_pb  final.output.concentrate_sol  \\\n",
       "0                     9.889648                      5.507324   \n",
       "1                     9.968944                      5.257781   \n",
       "2                    10.213995                      5.383759   \n",
       "3                     9.977019                      4.858634   \n",
       "4                    10.142511                      4.939416   \n",
       "\n",
       "   final.output.concentrate_au  final.output.recovery  final.output.tail_ag  \\\n",
       "0                    42.192020              70.541216             10.411962   \n",
       "1                    42.701629              69.266198             10.462676   \n",
       "2                    42.657501              68.116445             10.507046   \n",
       "3                    42.689819              68.347543             10.422762   \n",
       "4                    42.774141              66.927016             10.360302   \n",
       "\n",
       "   final.output.tail_pb  final.output.tail_sol  final.output.tail_au  ...  \\\n",
       "0              0.895447              16.904297              2.143149  ...   \n",
       "1              0.927452              16.634514              2.224930  ...   \n",
       "2              0.953716              16.208849              2.257889  ...   \n",
       "3              0.883763              16.532835              2.146849  ...   \n",
       "4              0.792826              16.525686              2.055292  ...   \n",
       "\n",
       "   secondary_cleaner.state.floatbank4_a_air  \\\n",
       "0                                 14.016835   \n",
       "1                                 13.992281   \n",
       "2                                 14.015015   \n",
       "3                                 14.036510   \n",
       "4                                 14.027298   \n",
       "\n",
       "   secondary_cleaner.state.floatbank4_a_level  \\\n",
       "0                                 -502.488007   \n",
       "1                                 -505.503262   \n",
       "2                                 -502.520901   \n",
       "3                                 -500.857308   \n",
       "4                                 -499.838632   \n",
       "\n",
       "   secondary_cleaner.state.floatbank4_b_air  \\\n",
       "0                                 12.099931   \n",
       "1                                 11.950531   \n",
       "2                                 11.912783   \n",
       "3                                 11.999550   \n",
       "4                                 11.953070   \n",
       "\n",
       "   secondary_cleaner.state.floatbank4_b_level  \\\n",
       "0                                 -504.715942   \n",
       "1                                 -501.331529   \n",
       "2                                 -501.133383   \n",
       "3                                 -501.193686   \n",
       "4                                 -501.053894   \n",
       "\n",
       "   secondary_cleaner.state.floatbank5_a_air  \\\n",
       "0                                  9.925633   \n",
       "1                                 10.039245   \n",
       "2                                 10.070913   \n",
       "3                                  9.970366   \n",
       "4                                  9.925709   \n",
       "\n",
       "   secondary_cleaner.state.floatbank5_a_level  \\\n",
       "0                                 -498.310211   \n",
       "1                                 -500.169983   \n",
       "2                                 -500.129135   \n",
       "3                                 -499.201640   \n",
       "4                                 -501.686727   \n",
       "\n",
       "   secondary_cleaner.state.floatbank5_b_air  \\\n",
       "0                                  8.079666   \n",
       "1                                  7.984757   \n",
       "2                                  8.013877   \n",
       "3                                  7.977324   \n",
       "4                                  7.894242   \n",
       "\n",
       "   secondary_cleaner.state.floatbank5_b_level  \\\n",
       "0                                 -500.470978   \n",
       "1                                 -500.582168   \n",
       "2                                 -500.517572   \n",
       "3                                 -500.255908   \n",
       "4                                 -500.356035   \n",
       "\n",
       "   secondary_cleaner.state.floatbank6_a_air  \\\n",
       "0                                 14.151341   \n",
       "1                                 13.998353   \n",
       "2                                 14.028663   \n",
       "3                                 14.005551   \n",
       "4                                 13.996647   \n",
       "\n",
       "   secondary_cleaner.state.floatbank6_a_level  \n",
       "0                                 -605.841980  \n",
       "1                                 -599.787184  \n",
       "2                                 -601.427363  \n",
       "3                                 -599.996129  \n",
       "4                                 -601.496691  \n",
       "\n",
       "[5 rows x 87 columns]"
      ]
     },
     "metadata": {},
     "output_type": "display_data"
    },
    {
     "name": "stdout",
     "output_type": "stream",
     "text": [
      "---------------------------------------------------------------\n",
      "\n",
      "<class 'pandas.core.frame.DataFrame'>\n",
      "RangeIndex: 14149 entries, 0 to 14148\n",
      "Data columns (total 87 columns):\n",
      " #   Column                                              Non-Null Count  Dtype  \n",
      "---  ------                                              --------------  -----  \n",
      " 0   date                                                14149 non-null  object \n",
      " 1   final.output.concentrate_ag                         14148 non-null  float64\n",
      " 2   final.output.concentrate_pb                         14148 non-null  float64\n",
      " 3   final.output.concentrate_sol                        13938 non-null  float64\n",
      " 4   final.output.concentrate_au                         14149 non-null  float64\n",
      " 5   final.output.recovery                               14149 non-null  float64\n",
      " 6   final.output.tail_ag                                14149 non-null  float64\n",
      " 7   final.output.tail_pb                                14049 non-null  float64\n",
      " 8   final.output.tail_sol                               14144 non-null  float64\n",
      " 9   final.output.tail_au                                14149 non-null  float64\n",
      " 10  primary_cleaner.input.sulfate                       14129 non-null  float64\n",
      " 11  primary_cleaner.input.depressant                    14117 non-null  float64\n",
      " 12  primary_cleaner.input.feed_size                     14149 non-null  float64\n",
      " 13  primary_cleaner.input.xanthate                      14049 non-null  float64\n",
      " 14  primary_cleaner.output.concentrate_ag               14149 non-null  float64\n",
      " 15  primary_cleaner.output.concentrate_pb               14063 non-null  float64\n",
      " 16  primary_cleaner.output.concentrate_sol              13863 non-null  float64\n",
      " 17  primary_cleaner.output.concentrate_au               14149 non-null  float64\n",
      " 18  primary_cleaner.output.tail_ag                      14148 non-null  float64\n",
      " 19  primary_cleaner.output.tail_pb                      14134 non-null  float64\n",
      " 20  primary_cleaner.output.tail_sol                     14103 non-null  float64\n",
      " 21  primary_cleaner.output.tail_au                      14149 non-null  float64\n",
      " 22  primary_cleaner.state.floatbank8_a_air              14145 non-null  float64\n",
      " 23  primary_cleaner.state.floatbank8_a_level            14148 non-null  float64\n",
      " 24  primary_cleaner.state.floatbank8_b_air              14145 non-null  float64\n",
      " 25  primary_cleaner.state.floatbank8_b_level            14148 non-null  float64\n",
      " 26  primary_cleaner.state.floatbank8_c_air              14147 non-null  float64\n",
      " 27  primary_cleaner.state.floatbank8_c_level            14148 non-null  float64\n",
      " 28  primary_cleaner.state.floatbank8_d_air              14146 non-null  float64\n",
      " 29  primary_cleaner.state.floatbank8_d_level            14148 non-null  float64\n",
      " 30  rougher.calculation.sulfate_to_au_concentrate       14148 non-null  float64\n",
      " 31  rougher.calculation.floatbank10_sulfate_to_au_feed  14148 non-null  float64\n",
      " 32  rougher.calculation.floatbank11_sulfate_to_au_feed  14148 non-null  float64\n",
      " 33  rougher.calculation.au_pb_ratio                     14149 non-null  float64\n",
      " 34  rougher.input.feed_ag                               14149 non-null  float64\n",
      " 35  rougher.input.feed_pb                               14049 non-null  float64\n",
      " 36  rougher.input.feed_rate                             14141 non-null  float64\n",
      " 37  rougher.input.feed_size                             14005 non-null  float64\n",
      " 38  rougher.input.feed_sol                              14071 non-null  float64\n",
      " 39  rougher.input.feed_au                               14149 non-null  float64\n",
      " 40  rougher.input.floatbank10_sulfate                   14120 non-null  float64\n",
      " 41  rougher.input.floatbank10_xanthate                  14141 non-null  float64\n",
      " 42  rougher.input.floatbank11_sulfate                   14113 non-null  float64\n",
      " 43  rougher.input.floatbank11_xanthate                  13721 non-null  float64\n",
      " 44  rougher.output.concentrate_ag                       14149 non-null  float64\n",
      " 45  rougher.output.concentrate_pb                       14149 non-null  float64\n",
      " 46  rougher.output.concentrate_sol                      14127 non-null  float64\n",
      " 47  rougher.output.concentrate_au                       14149 non-null  float64\n",
      " 48  rougher.output.recovery                             14149 non-null  float64\n",
      " 49  rougher.output.tail_ag                              14148 non-null  float64\n",
      " 50  rougher.output.tail_pb                              14149 non-null  float64\n",
      " 51  rougher.output.tail_sol                             14149 non-null  float64\n",
      " 52  rougher.output.tail_au                              14149 non-null  float64\n",
      " 53  rougher.state.floatbank10_a_air                     14148 non-null  float64\n",
      " 54  rougher.state.floatbank10_a_level                   14148 non-null  float64\n",
      " 55  rougher.state.floatbank10_b_air                     14148 non-null  float64\n",
      " 56  rougher.state.floatbank10_b_level                   14148 non-null  float64\n",
      " 57  rougher.state.floatbank10_c_air                     14148 non-null  float64\n",
      " 58  rougher.state.floatbank10_c_level                   14148 non-null  float64\n",
      " 59  rougher.state.floatbank10_d_air                     14149 non-null  float64\n",
      " 60  rougher.state.floatbank10_d_level                   14149 non-null  float64\n",
      " 61  rougher.state.floatbank10_e_air                     13713 non-null  float64\n",
      " 62  rougher.state.floatbank10_e_level                   14149 non-null  float64\n",
      " 63  rougher.state.floatbank10_f_air                     14149 non-null  float64\n",
      " 64  rougher.state.floatbank10_f_level                   14149 non-null  float64\n",
      " 65  secondary_cleaner.output.tail_ag                    14147 non-null  float64\n",
      " 66  secondary_cleaner.output.tail_pb                    14139 non-null  float64\n",
      " 67  secondary_cleaner.output.tail_sol                   12544 non-null  float64\n",
      " 68  secondary_cleaner.output.tail_au                    14149 non-null  float64\n",
      " 69  secondary_cleaner.state.floatbank2_a_air            13932 non-null  float64\n",
      " 70  secondary_cleaner.state.floatbank2_a_level          14148 non-null  float64\n",
      " 71  secondary_cleaner.state.floatbank2_b_air            14128 non-null  float64\n",
      " 72  secondary_cleaner.state.floatbank2_b_level          14148 non-null  float64\n",
      " 73  secondary_cleaner.state.floatbank3_a_air            14145 non-null  float64\n",
      " 74  secondary_cleaner.state.floatbank3_a_level          14148 non-null  float64\n",
      " 75  secondary_cleaner.state.floatbank3_b_air            14148 non-null  float64\n",
      " 76  secondary_cleaner.state.floatbank3_b_level          14148 non-null  float64\n",
      " 77  secondary_cleaner.state.floatbank4_a_air            14143 non-null  float64\n",
      " 78  secondary_cleaner.state.floatbank4_a_level          14148 non-null  float64\n",
      " 79  secondary_cleaner.state.floatbank4_b_air            14148 non-null  float64\n",
      " 80  secondary_cleaner.state.floatbank4_b_level          14148 non-null  float64\n",
      " 81  secondary_cleaner.state.floatbank5_a_air            14148 non-null  float64\n",
      " 82  secondary_cleaner.state.floatbank5_a_level          14148 non-null  float64\n",
      " 83  secondary_cleaner.state.floatbank5_b_air            14148 non-null  float64\n",
      " 84  secondary_cleaner.state.floatbank5_b_level          14148 non-null  float64\n",
      " 85  secondary_cleaner.state.floatbank6_a_air            14147 non-null  float64\n",
      " 86  secondary_cleaner.state.floatbank6_a_level          14148 non-null  float64\n",
      "dtypes: float64(86), object(1)\n",
      "memory usage: 9.4+ MB\n"
     ]
    },
    {
     "data": {
      "text/plain": [
       "None"
      ]
     },
     "metadata": {},
     "output_type": "display_data"
    },
    {
     "name": "stdout",
     "output_type": "stream",
     "text": [
      "---------------------------------------------------------------\n",
      "\n"
     ]
    },
    {
     "data": {
      "text/html": [
       "<div>\n",
       "<style scoped>\n",
       "    .dataframe tbody tr th:only-of-type {\n",
       "        vertical-align: middle;\n",
       "    }\n",
       "\n",
       "    .dataframe tbody tr th {\n",
       "        vertical-align: top;\n",
       "    }\n",
       "\n",
       "    .dataframe thead th {\n",
       "        text-align: right;\n",
       "    }\n",
       "</style>\n",
       "<table border=\"1\" class=\"dataframe\">\n",
       "  <thead>\n",
       "    <tr style=\"text-align: right;\">\n",
       "      <th></th>\n",
       "      <th>final.output.concentrate_ag</th>\n",
       "      <th>final.output.concentrate_pb</th>\n",
       "      <th>final.output.concentrate_sol</th>\n",
       "      <th>final.output.concentrate_au</th>\n",
       "      <th>final.output.recovery</th>\n",
       "      <th>final.output.tail_ag</th>\n",
       "      <th>final.output.tail_pb</th>\n",
       "      <th>final.output.tail_sol</th>\n",
       "      <th>final.output.tail_au</th>\n",
       "      <th>primary_cleaner.input.sulfate</th>\n",
       "      <th>...</th>\n",
       "      <th>secondary_cleaner.state.floatbank4_a_air</th>\n",
       "      <th>secondary_cleaner.state.floatbank4_a_level</th>\n",
       "      <th>secondary_cleaner.state.floatbank4_b_air</th>\n",
       "      <th>secondary_cleaner.state.floatbank4_b_level</th>\n",
       "      <th>secondary_cleaner.state.floatbank5_a_air</th>\n",
       "      <th>secondary_cleaner.state.floatbank5_a_level</th>\n",
       "      <th>secondary_cleaner.state.floatbank5_b_air</th>\n",
       "      <th>secondary_cleaner.state.floatbank5_b_level</th>\n",
       "      <th>secondary_cleaner.state.floatbank6_a_air</th>\n",
       "      <th>secondary_cleaner.state.floatbank6_a_level</th>\n",
       "    </tr>\n",
       "  </thead>\n",
       "  <tbody>\n",
       "    <tr>\n",
       "      <th>count</th>\n",
       "      <td>14148.000000</td>\n",
       "      <td>14148.000000</td>\n",
       "      <td>13938.000000</td>\n",
       "      <td>14149.000000</td>\n",
       "      <td>14149.000000</td>\n",
       "      <td>14149.000000</td>\n",
       "      <td>14049.000000</td>\n",
       "      <td>14144.000000</td>\n",
       "      <td>14149.000000</td>\n",
       "      <td>14129.000000</td>\n",
       "      <td>...</td>\n",
       "      <td>14143.000000</td>\n",
       "      <td>14148.000000</td>\n",
       "      <td>14148.000000</td>\n",
       "      <td>14148.000000</td>\n",
       "      <td>14148.000000</td>\n",
       "      <td>14148.000000</td>\n",
       "      <td>14148.000000</td>\n",
       "      <td>14148.000000</td>\n",
       "      <td>14147.000000</td>\n",
       "      <td>14148.000000</td>\n",
       "    </tr>\n",
       "    <tr>\n",
       "      <th>mean</th>\n",
       "      <td>5.142034</td>\n",
       "      <td>10.132960</td>\n",
       "      <td>9.202849</td>\n",
       "      <td>44.003792</td>\n",
       "      <td>66.518832</td>\n",
       "      <td>9.607035</td>\n",
       "      <td>2.597298</td>\n",
       "      <td>10.512122</td>\n",
       "      <td>2.918421</td>\n",
       "      <td>133.320659</td>\n",
       "      <td>...</td>\n",
       "      <td>19.985454</td>\n",
       "      <td>-478.696836</td>\n",
       "      <td>15.487065</td>\n",
       "      <td>-460.229416</td>\n",
       "      <td>16.775136</td>\n",
       "      <td>-483.956022</td>\n",
       "      <td>13.064590</td>\n",
       "      <td>-483.966564</td>\n",
       "      <td>19.577539</td>\n",
       "      <td>-506.798480</td>\n",
       "    </tr>\n",
       "    <tr>\n",
       "      <th>std</th>\n",
       "      <td>1.369586</td>\n",
       "      <td>1.654930</td>\n",
       "      <td>2.790516</td>\n",
       "      <td>4.905261</td>\n",
       "      <td>10.295402</td>\n",
       "      <td>2.319069</td>\n",
       "      <td>0.971843</td>\n",
       "      <td>3.003617</td>\n",
       "      <td>0.903712</td>\n",
       "      <td>39.431659</td>\n",
       "      <td>...</td>\n",
       "      <td>5.657723</td>\n",
       "      <td>50.736021</td>\n",
       "      <td>5.255655</td>\n",
       "      <td>58.843586</td>\n",
       "      <td>5.831906</td>\n",
       "      <td>37.892788</td>\n",
       "      <td>5.765617</td>\n",
       "      <td>39.207913</td>\n",
       "      <td>5.764417</td>\n",
       "      <td>37.079249</td>\n",
       "    </tr>\n",
       "    <tr>\n",
       "      <th>min</th>\n",
       "      <td>0.000000</td>\n",
       "      <td>0.000000</td>\n",
       "      <td>0.000000</td>\n",
       "      <td>0.000000</td>\n",
       "      <td>0.000000</td>\n",
       "      <td>0.000000</td>\n",
       "      <td>0.000000</td>\n",
       "      <td>0.000000</td>\n",
       "      <td>0.000000</td>\n",
       "      <td>0.003112</td>\n",
       "      <td>...</td>\n",
       "      <td>0.000000</td>\n",
       "      <td>-799.709069</td>\n",
       "      <td>0.000000</td>\n",
       "      <td>-799.889113</td>\n",
       "      <td>-0.372054</td>\n",
       "      <td>-797.142475</td>\n",
       "      <td>0.646208</td>\n",
       "      <td>-800.006180</td>\n",
       "      <td>0.195324</td>\n",
       "      <td>-809.398668</td>\n",
       "    </tr>\n",
       "    <tr>\n",
       "      <th>25%</th>\n",
       "      <td>4.211620</td>\n",
       "      <td>9.297355</td>\n",
       "      <td>7.484645</td>\n",
       "      <td>43.276111</td>\n",
       "      <td>62.545817</td>\n",
       "      <td>7.997429</td>\n",
       "      <td>1.905973</td>\n",
       "      <td>8.811324</td>\n",
       "      <td>2.368607</td>\n",
       "      <td>107.006651</td>\n",
       "      <td>...</td>\n",
       "      <td>14.990775</td>\n",
       "      <td>-500.628656</td>\n",
       "      <td>11.894558</td>\n",
       "      <td>-500.149000</td>\n",
       "      <td>11.083980</td>\n",
       "      <td>-500.363177</td>\n",
       "      <td>8.994405</td>\n",
       "      <td>-500.105994</td>\n",
       "      <td>14.989304</td>\n",
       "      <td>-500.745104</td>\n",
       "    </tr>\n",
       "    <tr>\n",
       "      <th>50%</th>\n",
       "      <td>4.994652</td>\n",
       "      <td>10.297144</td>\n",
       "      <td>8.845462</td>\n",
       "      <td>44.872436</td>\n",
       "      <td>67.432775</td>\n",
       "      <td>9.480270</td>\n",
       "      <td>2.592022</td>\n",
       "      <td>10.514621</td>\n",
       "      <td>2.851025</td>\n",
       "      <td>133.018328</td>\n",
       "      <td>...</td>\n",
       "      <td>20.001789</td>\n",
       "      <td>-499.681450</td>\n",
       "      <td>14.975536</td>\n",
       "      <td>-499.388738</td>\n",
       "      <td>17.932223</td>\n",
       "      <td>-499.702452</td>\n",
       "      <td>11.997547</td>\n",
       "      <td>-499.914556</td>\n",
       "      <td>19.984175</td>\n",
       "      <td>-500.061431</td>\n",
       "    </tr>\n",
       "    <tr>\n",
       "      <th>75%</th>\n",
       "      <td>5.859540</td>\n",
       "      <td>11.170603</td>\n",
       "      <td>10.487508</td>\n",
       "      <td>46.166425</td>\n",
       "      <td>72.346428</td>\n",
       "      <td>11.003707</td>\n",
       "      <td>3.241723</td>\n",
       "      <td>11.933009</td>\n",
       "      <td>3.434764</td>\n",
       "      <td>159.825396</td>\n",
       "      <td>...</td>\n",
       "      <td>24.990826</td>\n",
       "      <td>-477.472413</td>\n",
       "      <td>20.059375</td>\n",
       "      <td>-400.039008</td>\n",
       "      <td>21.346550</td>\n",
       "      <td>-487.712108</td>\n",
       "      <td>17.982903</td>\n",
       "      <td>-453.186936</td>\n",
       "      <td>24.991623</td>\n",
       "      <td>-499.536466</td>\n",
       "    </tr>\n",
       "    <tr>\n",
       "      <th>max</th>\n",
       "      <td>16.001945</td>\n",
       "      <td>17.031899</td>\n",
       "      <td>18.124851</td>\n",
       "      <td>52.756638</td>\n",
       "      <td>100.000000</td>\n",
       "      <td>19.552149</td>\n",
       "      <td>5.639565</td>\n",
       "      <td>22.317730</td>\n",
       "      <td>8.197408</td>\n",
       "      <td>250.127834</td>\n",
       "      <td>...</td>\n",
       "      <td>30.115735</td>\n",
       "      <td>-245.239184</td>\n",
       "      <td>24.007913</td>\n",
       "      <td>-145.071088</td>\n",
       "      <td>43.709931</td>\n",
       "      <td>-275.073125</td>\n",
       "      <td>27.926001</td>\n",
       "      <td>-157.396071</td>\n",
       "      <td>32.188906</td>\n",
       "      <td>-104.427459</td>\n",
       "    </tr>\n",
       "  </tbody>\n",
       "</table>\n",
       "<p>8 rows × 86 columns</p>\n",
       "</div>"
      ],
      "text/plain": [
       "       final.output.concentrate_ag  final.output.concentrate_pb  \\\n",
       "count                 14148.000000                 14148.000000   \n",
       "mean                      5.142034                    10.132960   \n",
       "std                       1.369586                     1.654930   \n",
       "min                       0.000000                     0.000000   \n",
       "25%                       4.211620                     9.297355   \n",
       "50%                       4.994652                    10.297144   \n",
       "75%                       5.859540                    11.170603   \n",
       "max                      16.001945                    17.031899   \n",
       "\n",
       "       final.output.concentrate_sol  final.output.concentrate_au  \\\n",
       "count                  13938.000000                 14149.000000   \n",
       "mean                       9.202849                    44.003792   \n",
       "std                        2.790516                     4.905261   \n",
       "min                        0.000000                     0.000000   \n",
       "25%                        7.484645                    43.276111   \n",
       "50%                        8.845462                    44.872436   \n",
       "75%                       10.487508                    46.166425   \n",
       "max                       18.124851                    52.756638   \n",
       "\n",
       "       final.output.recovery  final.output.tail_ag  final.output.tail_pb  \\\n",
       "count           14149.000000          14149.000000          14049.000000   \n",
       "mean               66.518832              9.607035              2.597298   \n",
       "std                10.295402              2.319069              0.971843   \n",
       "min                 0.000000              0.000000              0.000000   \n",
       "25%                62.545817              7.997429              1.905973   \n",
       "50%                67.432775              9.480270              2.592022   \n",
       "75%                72.346428             11.003707              3.241723   \n",
       "max               100.000000             19.552149              5.639565   \n",
       "\n",
       "       final.output.tail_sol  final.output.tail_au  \\\n",
       "count           14144.000000          14149.000000   \n",
       "mean               10.512122              2.918421   \n",
       "std                 3.003617              0.903712   \n",
       "min                 0.000000              0.000000   \n",
       "25%                 8.811324              2.368607   \n",
       "50%                10.514621              2.851025   \n",
       "75%                11.933009              3.434764   \n",
       "max                22.317730              8.197408   \n",
       "\n",
       "       primary_cleaner.input.sulfate  ...  \\\n",
       "count                   14129.000000  ...   \n",
       "mean                      133.320659  ...   \n",
       "std                        39.431659  ...   \n",
       "min                         0.003112  ...   \n",
       "25%                       107.006651  ...   \n",
       "50%                       133.018328  ...   \n",
       "75%                       159.825396  ...   \n",
       "max                       250.127834  ...   \n",
       "\n",
       "       secondary_cleaner.state.floatbank4_a_air  \\\n",
       "count                              14143.000000   \n",
       "mean                                  19.985454   \n",
       "std                                    5.657723   \n",
       "min                                    0.000000   \n",
       "25%                                   14.990775   \n",
       "50%                                   20.001789   \n",
       "75%                                   24.990826   \n",
       "max                                   30.115735   \n",
       "\n",
       "       secondary_cleaner.state.floatbank4_a_level  \\\n",
       "count                                14148.000000   \n",
       "mean                                  -478.696836   \n",
       "std                                     50.736021   \n",
       "min                                   -799.709069   \n",
       "25%                                   -500.628656   \n",
       "50%                                   -499.681450   \n",
       "75%                                   -477.472413   \n",
       "max                                   -245.239184   \n",
       "\n",
       "       secondary_cleaner.state.floatbank4_b_air  \\\n",
       "count                              14148.000000   \n",
       "mean                                  15.487065   \n",
       "std                                    5.255655   \n",
       "min                                    0.000000   \n",
       "25%                                   11.894558   \n",
       "50%                                   14.975536   \n",
       "75%                                   20.059375   \n",
       "max                                   24.007913   \n",
       "\n",
       "       secondary_cleaner.state.floatbank4_b_level  \\\n",
       "count                                14148.000000   \n",
       "mean                                  -460.229416   \n",
       "std                                     58.843586   \n",
       "min                                   -799.889113   \n",
       "25%                                   -500.149000   \n",
       "50%                                   -499.388738   \n",
       "75%                                   -400.039008   \n",
       "max                                   -145.071088   \n",
       "\n",
       "       secondary_cleaner.state.floatbank5_a_air  \\\n",
       "count                              14148.000000   \n",
       "mean                                  16.775136   \n",
       "std                                    5.831906   \n",
       "min                                   -0.372054   \n",
       "25%                                   11.083980   \n",
       "50%                                   17.932223   \n",
       "75%                                   21.346550   \n",
       "max                                   43.709931   \n",
       "\n",
       "       secondary_cleaner.state.floatbank5_a_level  \\\n",
       "count                                14148.000000   \n",
       "mean                                  -483.956022   \n",
       "std                                     37.892788   \n",
       "min                                   -797.142475   \n",
       "25%                                   -500.363177   \n",
       "50%                                   -499.702452   \n",
       "75%                                   -487.712108   \n",
       "max                                   -275.073125   \n",
       "\n",
       "       secondary_cleaner.state.floatbank5_b_air  \\\n",
       "count                              14148.000000   \n",
       "mean                                  13.064590   \n",
       "std                                    5.765617   \n",
       "min                                    0.646208   \n",
       "25%                                    8.994405   \n",
       "50%                                   11.997547   \n",
       "75%                                   17.982903   \n",
       "max                                   27.926001   \n",
       "\n",
       "       secondary_cleaner.state.floatbank5_b_level  \\\n",
       "count                                14148.000000   \n",
       "mean                                  -483.966564   \n",
       "std                                     39.207913   \n",
       "min                                   -800.006180   \n",
       "25%                                   -500.105994   \n",
       "50%                                   -499.914556   \n",
       "75%                                   -453.186936   \n",
       "max                                   -157.396071   \n",
       "\n",
       "       secondary_cleaner.state.floatbank6_a_air  \\\n",
       "count                              14147.000000   \n",
       "mean                                  19.577539   \n",
       "std                                    5.764417   \n",
       "min                                    0.195324   \n",
       "25%                                   14.989304   \n",
       "50%                                   19.984175   \n",
       "75%                                   24.991623   \n",
       "max                                   32.188906   \n",
       "\n",
       "       secondary_cleaner.state.floatbank6_a_level  \n",
       "count                                14148.000000  \n",
       "mean                                  -506.798480  \n",
       "std                                     37.079249  \n",
       "min                                   -809.398668  \n",
       "25%                                   -500.745104  \n",
       "50%                                   -500.061431  \n",
       "75%                                   -499.536466  \n",
       "max                                   -104.427459  \n",
       "\n",
       "[8 rows x 86 columns]"
      ]
     },
     "metadata": {},
     "output_type": "display_data"
    },
    {
     "name": "stdout",
     "output_type": "stream",
     "text": [
      "---------------------------------------------------------------\n",
      "\n",
      "Дубликатов в датафрейме: 0\n",
      "---------------------------------------------------------------\n",
      "\n"
     ]
    },
    {
     "data": {
      "text/plain": [
       "'Больше всего пропущенных значений в столбцах:'"
      ]
     },
     "metadata": {},
     "output_type": "display_data"
    },
    {
     "data": {
      "text/plain": [
       "secondary_cleaner.output.tail_sol           1605\n",
       "rougher.state.floatbank10_e_air              436\n",
       "rougher.input.floatbank11_xanthate           428\n",
       "primary_cleaner.output.concentrate_sol       286\n",
       "secondary_cleaner.state.floatbank2_a_air     217\n",
       "final.output.concentrate_sol                 211\n",
       "rougher.input.feed_size                      144\n",
       "primary_cleaner.input.xanthate               100\n",
       "rougher.input.feed_pb                        100\n",
       "final.output.tail_pb                         100\n",
       "dtype: int64"
      ]
     },
     "metadata": {},
     "output_type": "display_data"
    },
    {
     "name": "stdout",
     "output_type": "stream",
     "text": [
      "None\n"
     ]
    }
   ],
   "source": [
    "print('Обучающая выборка')\n",
    "print(havealook(df_train))"
   ]
  },
  {
   "cell_type": "code",
   "execution_count": 5,
   "metadata": {},
   "outputs": [
    {
     "name": "stdout",
     "output_type": "stream",
     "text": [
      "Размер датафрейма: 5290 строк и  53 столбцов.\n",
      "---------------------------------------------------------------\n",
      "\n"
     ]
    },
    {
     "data": {
      "text/html": [
       "<div>\n",
       "<style scoped>\n",
       "    .dataframe tbody tr th:only-of-type {\n",
       "        vertical-align: middle;\n",
       "    }\n",
       "\n",
       "    .dataframe tbody tr th {\n",
       "        vertical-align: top;\n",
       "    }\n",
       "\n",
       "    .dataframe thead th {\n",
       "        text-align: right;\n",
       "    }\n",
       "</style>\n",
       "<table border=\"1\" class=\"dataframe\">\n",
       "  <thead>\n",
       "    <tr style=\"text-align: right;\">\n",
       "      <th></th>\n",
       "      <th>date</th>\n",
       "      <th>primary_cleaner.input.sulfate</th>\n",
       "      <th>primary_cleaner.input.depressant</th>\n",
       "      <th>primary_cleaner.input.feed_size</th>\n",
       "      <th>primary_cleaner.input.xanthate</th>\n",
       "      <th>primary_cleaner.state.floatbank8_a_air</th>\n",
       "      <th>primary_cleaner.state.floatbank8_a_level</th>\n",
       "      <th>primary_cleaner.state.floatbank8_b_air</th>\n",
       "      <th>primary_cleaner.state.floatbank8_b_level</th>\n",
       "      <th>primary_cleaner.state.floatbank8_c_air</th>\n",
       "      <th>...</th>\n",
       "      <th>secondary_cleaner.state.floatbank4_a_air</th>\n",
       "      <th>secondary_cleaner.state.floatbank4_a_level</th>\n",
       "      <th>secondary_cleaner.state.floatbank4_b_air</th>\n",
       "      <th>secondary_cleaner.state.floatbank4_b_level</th>\n",
       "      <th>secondary_cleaner.state.floatbank5_a_air</th>\n",
       "      <th>secondary_cleaner.state.floatbank5_a_level</th>\n",
       "      <th>secondary_cleaner.state.floatbank5_b_air</th>\n",
       "      <th>secondary_cleaner.state.floatbank5_b_level</th>\n",
       "      <th>secondary_cleaner.state.floatbank6_a_air</th>\n",
       "      <th>secondary_cleaner.state.floatbank6_a_level</th>\n",
       "    </tr>\n",
       "  </thead>\n",
       "  <tbody>\n",
       "    <tr>\n",
       "      <th>0</th>\n",
       "      <td>2016-09-01 00:59:59</td>\n",
       "      <td>210.800909</td>\n",
       "      <td>14.993118</td>\n",
       "      <td>8.080000</td>\n",
       "      <td>1.005021</td>\n",
       "      <td>1398.981301</td>\n",
       "      <td>-500.225577</td>\n",
       "      <td>1399.144926</td>\n",
       "      <td>-499.919735</td>\n",
       "      <td>1400.102998</td>\n",
       "      <td>...</td>\n",
       "      <td>12.023554</td>\n",
       "      <td>-497.795834</td>\n",
       "      <td>8.016656</td>\n",
       "      <td>-501.289139</td>\n",
       "      <td>7.946562</td>\n",
       "      <td>-432.317850</td>\n",
       "      <td>4.872511</td>\n",
       "      <td>-500.037437</td>\n",
       "      <td>26.705889</td>\n",
       "      <td>-499.709414</td>\n",
       "    </tr>\n",
       "    <tr>\n",
       "      <th>1</th>\n",
       "      <td>2016-09-01 01:59:59</td>\n",
       "      <td>215.392455</td>\n",
       "      <td>14.987471</td>\n",
       "      <td>8.080000</td>\n",
       "      <td>0.990469</td>\n",
       "      <td>1398.777912</td>\n",
       "      <td>-500.057435</td>\n",
       "      <td>1398.055362</td>\n",
       "      <td>-499.778182</td>\n",
       "      <td>1396.151033</td>\n",
       "      <td>...</td>\n",
       "      <td>12.058140</td>\n",
       "      <td>-498.695773</td>\n",
       "      <td>8.130979</td>\n",
       "      <td>-499.634209</td>\n",
       "      <td>7.958270</td>\n",
       "      <td>-525.839648</td>\n",
       "      <td>4.878850</td>\n",
       "      <td>-500.162375</td>\n",
       "      <td>25.019940</td>\n",
       "      <td>-499.819438</td>\n",
       "    </tr>\n",
       "    <tr>\n",
       "      <th>2</th>\n",
       "      <td>2016-09-01 02:59:59</td>\n",
       "      <td>215.259946</td>\n",
       "      <td>12.884934</td>\n",
       "      <td>7.786667</td>\n",
       "      <td>0.996043</td>\n",
       "      <td>1398.493666</td>\n",
       "      <td>-500.868360</td>\n",
       "      <td>1398.860436</td>\n",
       "      <td>-499.764529</td>\n",
       "      <td>1398.075709</td>\n",
       "      <td>...</td>\n",
       "      <td>11.962366</td>\n",
       "      <td>-498.767484</td>\n",
       "      <td>8.096893</td>\n",
       "      <td>-500.827423</td>\n",
       "      <td>8.071056</td>\n",
       "      <td>-500.801673</td>\n",
       "      <td>4.905125</td>\n",
       "      <td>-499.828510</td>\n",
       "      <td>24.994862</td>\n",
       "      <td>-500.622559</td>\n",
       "    </tr>\n",
       "    <tr>\n",
       "      <th>3</th>\n",
       "      <td>2016-09-01 03:59:59</td>\n",
       "      <td>215.336236</td>\n",
       "      <td>12.006805</td>\n",
       "      <td>7.640000</td>\n",
       "      <td>0.863514</td>\n",
       "      <td>1399.618111</td>\n",
       "      <td>-498.863574</td>\n",
       "      <td>1397.440120</td>\n",
       "      <td>-499.211024</td>\n",
       "      <td>1400.129303</td>\n",
       "      <td>...</td>\n",
       "      <td>12.033091</td>\n",
       "      <td>-498.350935</td>\n",
       "      <td>8.074946</td>\n",
       "      <td>-499.474407</td>\n",
       "      <td>7.897085</td>\n",
       "      <td>-500.868509</td>\n",
       "      <td>4.931400</td>\n",
       "      <td>-499.963623</td>\n",
       "      <td>24.948919</td>\n",
       "      <td>-498.709987</td>\n",
       "    </tr>\n",
       "    <tr>\n",
       "      <th>4</th>\n",
       "      <td>2016-09-01 04:59:59</td>\n",
       "      <td>199.099327</td>\n",
       "      <td>10.682530</td>\n",
       "      <td>7.530000</td>\n",
       "      <td>0.805575</td>\n",
       "      <td>1401.268123</td>\n",
       "      <td>-500.808305</td>\n",
       "      <td>1398.128818</td>\n",
       "      <td>-499.504543</td>\n",
       "      <td>1402.172226</td>\n",
       "      <td>...</td>\n",
       "      <td>12.025367</td>\n",
       "      <td>-500.786497</td>\n",
       "      <td>8.054678</td>\n",
       "      <td>-500.397500</td>\n",
       "      <td>8.107890</td>\n",
       "      <td>-509.526725</td>\n",
       "      <td>4.957674</td>\n",
       "      <td>-500.360026</td>\n",
       "      <td>25.003331</td>\n",
       "      <td>-500.856333</td>\n",
       "    </tr>\n",
       "  </tbody>\n",
       "</table>\n",
       "<p>5 rows × 53 columns</p>\n",
       "</div>"
      ],
      "text/plain": [
       "                  date  primary_cleaner.input.sulfate  \\\n",
       "0  2016-09-01 00:59:59                     210.800909   \n",
       "1  2016-09-01 01:59:59                     215.392455   \n",
       "2  2016-09-01 02:59:59                     215.259946   \n",
       "3  2016-09-01 03:59:59                     215.336236   \n",
       "4  2016-09-01 04:59:59                     199.099327   \n",
       "\n",
       "   primary_cleaner.input.depressant  primary_cleaner.input.feed_size  \\\n",
       "0                         14.993118                         8.080000   \n",
       "1                         14.987471                         8.080000   \n",
       "2                         12.884934                         7.786667   \n",
       "3                         12.006805                         7.640000   \n",
       "4                         10.682530                         7.530000   \n",
       "\n",
       "   primary_cleaner.input.xanthate  primary_cleaner.state.floatbank8_a_air  \\\n",
       "0                        1.005021                             1398.981301   \n",
       "1                        0.990469                             1398.777912   \n",
       "2                        0.996043                             1398.493666   \n",
       "3                        0.863514                             1399.618111   \n",
       "4                        0.805575                             1401.268123   \n",
       "\n",
       "   primary_cleaner.state.floatbank8_a_level  \\\n",
       "0                               -500.225577   \n",
       "1                               -500.057435   \n",
       "2                               -500.868360   \n",
       "3                               -498.863574   \n",
       "4                               -500.808305   \n",
       "\n",
       "   primary_cleaner.state.floatbank8_b_air  \\\n",
       "0                             1399.144926   \n",
       "1                             1398.055362   \n",
       "2                             1398.860436   \n",
       "3                             1397.440120   \n",
       "4                             1398.128818   \n",
       "\n",
       "   primary_cleaner.state.floatbank8_b_level  \\\n",
       "0                               -499.919735   \n",
       "1                               -499.778182   \n",
       "2                               -499.764529   \n",
       "3                               -499.211024   \n",
       "4                               -499.504543   \n",
       "\n",
       "   primary_cleaner.state.floatbank8_c_air  ...  \\\n",
       "0                             1400.102998  ...   \n",
       "1                             1396.151033  ...   \n",
       "2                             1398.075709  ...   \n",
       "3                             1400.129303  ...   \n",
       "4                             1402.172226  ...   \n",
       "\n",
       "   secondary_cleaner.state.floatbank4_a_air  \\\n",
       "0                                 12.023554   \n",
       "1                                 12.058140   \n",
       "2                                 11.962366   \n",
       "3                                 12.033091   \n",
       "4                                 12.025367   \n",
       "\n",
       "   secondary_cleaner.state.floatbank4_a_level  \\\n",
       "0                                 -497.795834   \n",
       "1                                 -498.695773   \n",
       "2                                 -498.767484   \n",
       "3                                 -498.350935   \n",
       "4                                 -500.786497   \n",
       "\n",
       "   secondary_cleaner.state.floatbank4_b_air  \\\n",
       "0                                  8.016656   \n",
       "1                                  8.130979   \n",
       "2                                  8.096893   \n",
       "3                                  8.074946   \n",
       "4                                  8.054678   \n",
       "\n",
       "   secondary_cleaner.state.floatbank4_b_level  \\\n",
       "0                                 -501.289139   \n",
       "1                                 -499.634209   \n",
       "2                                 -500.827423   \n",
       "3                                 -499.474407   \n",
       "4                                 -500.397500   \n",
       "\n",
       "   secondary_cleaner.state.floatbank5_a_air  \\\n",
       "0                                  7.946562   \n",
       "1                                  7.958270   \n",
       "2                                  8.071056   \n",
       "3                                  7.897085   \n",
       "4                                  8.107890   \n",
       "\n",
       "   secondary_cleaner.state.floatbank5_a_level  \\\n",
       "0                                 -432.317850   \n",
       "1                                 -525.839648   \n",
       "2                                 -500.801673   \n",
       "3                                 -500.868509   \n",
       "4                                 -509.526725   \n",
       "\n",
       "   secondary_cleaner.state.floatbank5_b_air  \\\n",
       "0                                  4.872511   \n",
       "1                                  4.878850   \n",
       "2                                  4.905125   \n",
       "3                                  4.931400   \n",
       "4                                  4.957674   \n",
       "\n",
       "   secondary_cleaner.state.floatbank5_b_level  \\\n",
       "0                                 -500.037437   \n",
       "1                                 -500.162375   \n",
       "2                                 -499.828510   \n",
       "3                                 -499.963623   \n",
       "4                                 -500.360026   \n",
       "\n",
       "   secondary_cleaner.state.floatbank6_a_air  \\\n",
       "0                                 26.705889   \n",
       "1                                 25.019940   \n",
       "2                                 24.994862   \n",
       "3                                 24.948919   \n",
       "4                                 25.003331   \n",
       "\n",
       "   secondary_cleaner.state.floatbank6_a_level  \n",
       "0                                 -499.709414  \n",
       "1                                 -499.819438  \n",
       "2                                 -500.622559  \n",
       "3                                 -498.709987  \n",
       "4                                 -500.856333  \n",
       "\n",
       "[5 rows x 53 columns]"
      ]
     },
     "metadata": {},
     "output_type": "display_data"
    },
    {
     "name": "stdout",
     "output_type": "stream",
     "text": [
      "---------------------------------------------------------------\n",
      "\n",
      "<class 'pandas.core.frame.DataFrame'>\n",
      "RangeIndex: 5290 entries, 0 to 5289\n",
      "Data columns (total 53 columns):\n",
      " #   Column                                      Non-Null Count  Dtype  \n",
      "---  ------                                      --------------  -----  \n",
      " 0   date                                        5290 non-null   object \n",
      " 1   primary_cleaner.input.sulfate               5286 non-null   float64\n",
      " 2   primary_cleaner.input.depressant            5285 non-null   float64\n",
      " 3   primary_cleaner.input.feed_size             5290 non-null   float64\n",
      " 4   primary_cleaner.input.xanthate              5286 non-null   float64\n",
      " 5   primary_cleaner.state.floatbank8_a_air      5290 non-null   float64\n",
      " 6   primary_cleaner.state.floatbank8_a_level    5290 non-null   float64\n",
      " 7   primary_cleaner.state.floatbank8_b_air      5290 non-null   float64\n",
      " 8   primary_cleaner.state.floatbank8_b_level    5290 non-null   float64\n",
      " 9   primary_cleaner.state.floatbank8_c_air      5290 non-null   float64\n",
      " 10  primary_cleaner.state.floatbank8_c_level    5290 non-null   float64\n",
      " 11  primary_cleaner.state.floatbank8_d_air      5290 non-null   float64\n",
      " 12  primary_cleaner.state.floatbank8_d_level    5290 non-null   float64\n",
      " 13  rougher.input.feed_ag                       5290 non-null   float64\n",
      " 14  rougher.input.feed_pb                       5290 non-null   float64\n",
      " 15  rougher.input.feed_rate                     5287 non-null   float64\n",
      " 16  rougher.input.feed_size                     5289 non-null   float64\n",
      " 17  rougher.input.feed_sol                      5269 non-null   float64\n",
      " 18  rougher.input.feed_au                       5290 non-null   float64\n",
      " 19  rougher.input.floatbank10_sulfate           5285 non-null   float64\n",
      " 20  rougher.input.floatbank10_xanthate          5290 non-null   float64\n",
      " 21  rougher.input.floatbank11_sulfate           5282 non-null   float64\n",
      " 22  rougher.input.floatbank11_xanthate          5265 non-null   float64\n",
      " 23  rougher.state.floatbank10_a_air             5290 non-null   float64\n",
      " 24  rougher.state.floatbank10_a_level           5290 non-null   float64\n",
      " 25  rougher.state.floatbank10_b_air             5290 non-null   float64\n",
      " 26  rougher.state.floatbank10_b_level           5290 non-null   float64\n",
      " 27  rougher.state.floatbank10_c_air             5290 non-null   float64\n",
      " 28  rougher.state.floatbank10_c_level           5290 non-null   float64\n",
      " 29  rougher.state.floatbank10_d_air             5290 non-null   float64\n",
      " 30  rougher.state.floatbank10_d_level           5290 non-null   float64\n",
      " 31  rougher.state.floatbank10_e_air             5290 non-null   float64\n",
      " 32  rougher.state.floatbank10_e_level           5290 non-null   float64\n",
      " 33  rougher.state.floatbank10_f_air             5290 non-null   float64\n",
      " 34  rougher.state.floatbank10_f_level           5290 non-null   float64\n",
      " 35  secondary_cleaner.state.floatbank2_a_air    5287 non-null   float64\n",
      " 36  secondary_cleaner.state.floatbank2_a_level  5290 non-null   float64\n",
      " 37  secondary_cleaner.state.floatbank2_b_air    5288 non-null   float64\n",
      " 38  secondary_cleaner.state.floatbank2_b_level  5290 non-null   float64\n",
      " 39  secondary_cleaner.state.floatbank3_a_air    5281 non-null   float64\n",
      " 40  secondary_cleaner.state.floatbank3_a_level  5290 non-null   float64\n",
      " 41  secondary_cleaner.state.floatbank3_b_air    5290 non-null   float64\n",
      " 42  secondary_cleaner.state.floatbank3_b_level  5290 non-null   float64\n",
      " 43  secondary_cleaner.state.floatbank4_a_air    5290 non-null   float64\n",
      " 44  secondary_cleaner.state.floatbank4_a_level  5290 non-null   float64\n",
      " 45  secondary_cleaner.state.floatbank4_b_air    5290 non-null   float64\n",
      " 46  secondary_cleaner.state.floatbank4_b_level  5290 non-null   float64\n",
      " 47  secondary_cleaner.state.floatbank5_a_air    5290 non-null   float64\n",
      " 48  secondary_cleaner.state.floatbank5_a_level  5290 non-null   float64\n",
      " 49  secondary_cleaner.state.floatbank5_b_air    5290 non-null   float64\n",
      " 50  secondary_cleaner.state.floatbank5_b_level  5290 non-null   float64\n",
      " 51  secondary_cleaner.state.floatbank6_a_air    5290 non-null   float64\n",
      " 52  secondary_cleaner.state.floatbank6_a_level  5290 non-null   float64\n",
      "dtypes: float64(52), object(1)\n",
      "memory usage: 2.1+ MB\n"
     ]
    },
    {
     "data": {
      "text/plain": [
       "None"
      ]
     },
     "metadata": {},
     "output_type": "display_data"
    },
    {
     "name": "stdout",
     "output_type": "stream",
     "text": [
      "---------------------------------------------------------------\n",
      "\n"
     ]
    },
    {
     "data": {
      "text/html": [
       "<div>\n",
       "<style scoped>\n",
       "    .dataframe tbody tr th:only-of-type {\n",
       "        vertical-align: middle;\n",
       "    }\n",
       "\n",
       "    .dataframe tbody tr th {\n",
       "        vertical-align: top;\n",
       "    }\n",
       "\n",
       "    .dataframe thead th {\n",
       "        text-align: right;\n",
       "    }\n",
       "</style>\n",
       "<table border=\"1\" class=\"dataframe\">\n",
       "  <thead>\n",
       "    <tr style=\"text-align: right;\">\n",
       "      <th></th>\n",
       "      <th>primary_cleaner.input.sulfate</th>\n",
       "      <th>primary_cleaner.input.depressant</th>\n",
       "      <th>primary_cleaner.input.feed_size</th>\n",
       "      <th>primary_cleaner.input.xanthate</th>\n",
       "      <th>primary_cleaner.state.floatbank8_a_air</th>\n",
       "      <th>primary_cleaner.state.floatbank8_a_level</th>\n",
       "      <th>primary_cleaner.state.floatbank8_b_air</th>\n",
       "      <th>primary_cleaner.state.floatbank8_b_level</th>\n",
       "      <th>primary_cleaner.state.floatbank8_c_air</th>\n",
       "      <th>primary_cleaner.state.floatbank8_c_level</th>\n",
       "      <th>...</th>\n",
       "      <th>secondary_cleaner.state.floatbank4_a_air</th>\n",
       "      <th>secondary_cleaner.state.floatbank4_a_level</th>\n",
       "      <th>secondary_cleaner.state.floatbank4_b_air</th>\n",
       "      <th>secondary_cleaner.state.floatbank4_b_level</th>\n",
       "      <th>secondary_cleaner.state.floatbank5_a_air</th>\n",
       "      <th>secondary_cleaner.state.floatbank5_a_level</th>\n",
       "      <th>secondary_cleaner.state.floatbank5_b_air</th>\n",
       "      <th>secondary_cleaner.state.floatbank5_b_level</th>\n",
       "      <th>secondary_cleaner.state.floatbank6_a_air</th>\n",
       "      <th>secondary_cleaner.state.floatbank6_a_level</th>\n",
       "    </tr>\n",
       "  </thead>\n",
       "  <tbody>\n",
       "    <tr>\n",
       "      <th>count</th>\n",
       "      <td>5286.000000</td>\n",
       "      <td>5285.000000</td>\n",
       "      <td>5290.000000</td>\n",
       "      <td>5286.000000</td>\n",
       "      <td>5.290000e+03</td>\n",
       "      <td>5290.000000</td>\n",
       "      <td>5.290000e+03</td>\n",
       "      <td>5290.000000</td>\n",
       "      <td>5.290000e+03</td>\n",
       "      <td>5290.000000</td>\n",
       "      <td>...</td>\n",
       "      <td>5.290000e+03</td>\n",
       "      <td>5290.000000</td>\n",
       "      <td>5.290000e+03</td>\n",
       "      <td>5290.000000</td>\n",
       "      <td>5290.000000</td>\n",
       "      <td>5290.000000</td>\n",
       "      <td>5290.000000</td>\n",
       "      <td>5290.000000</td>\n",
       "      <td>5290.000000</td>\n",
       "      <td>5290.000000</td>\n",
       "    </tr>\n",
       "    <tr>\n",
       "      <th>mean</th>\n",
       "      <td>174.839652</td>\n",
       "      <td>8.683596</td>\n",
       "      <td>7.266339</td>\n",
       "      <td>1.383803</td>\n",
       "      <td>1.539494e+03</td>\n",
       "      <td>-497.665883</td>\n",
       "      <td>1.545174e+03</td>\n",
       "      <td>-500.273098</td>\n",
       "      <td>1.527272e+03</td>\n",
       "      <td>-498.330680</td>\n",
       "      <td>...</td>\n",
       "      <td>1.632007e+01</td>\n",
       "      <td>-505.144570</td>\n",
       "      <td>1.373544e+01</td>\n",
       "      <td>-463.349858</td>\n",
       "      <td>12.804186</td>\n",
       "      <td>-501.329122</td>\n",
       "      <td>9.881145</td>\n",
       "      <td>-495.663398</td>\n",
       "      <td>17.304935</td>\n",
       "      <td>-501.793193</td>\n",
       "    </tr>\n",
       "    <tr>\n",
       "      <th>std</th>\n",
       "      <td>43.027080</td>\n",
       "      <td>3.072050</td>\n",
       "      <td>0.610219</td>\n",
       "      <td>0.643474</td>\n",
       "      <td>1.167979e+02</td>\n",
       "      <td>19.952431</td>\n",
       "      <td>1.222246e+02</td>\n",
       "      <td>32.968307</td>\n",
       "      <td>1.225380e+02</td>\n",
       "      <td>21.964876</td>\n",
       "      <td>...</td>\n",
       "      <td>3.493583e+00</td>\n",
       "      <td>31.427337</td>\n",
       "      <td>3.430484e+00</td>\n",
       "      <td>86.189107</td>\n",
       "      <td>3.026591</td>\n",
       "      <td>17.951495</td>\n",
       "      <td>2.868205</td>\n",
       "      <td>34.535007</td>\n",
       "      <td>4.536544</td>\n",
       "      <td>39.044215</td>\n",
       "    </tr>\n",
       "    <tr>\n",
       "      <th>min</th>\n",
       "      <td>2.566156</td>\n",
       "      <td>0.003839</td>\n",
       "      <td>5.650000</td>\n",
       "      <td>0.004984</td>\n",
       "      <td>5.445860e-32</td>\n",
       "      <td>-795.316337</td>\n",
       "      <td>6.647490e-32</td>\n",
       "      <td>-799.997015</td>\n",
       "      <td>4.033736e-32</td>\n",
       "      <td>-799.960571</td>\n",
       "      <td>...</td>\n",
       "      <td>1.079872e-16</td>\n",
       "      <td>-799.798523</td>\n",
       "      <td>2.489718e-17</td>\n",
       "      <td>-800.836914</td>\n",
       "      <td>0.069227</td>\n",
       "      <td>-797.323986</td>\n",
       "      <td>0.528083</td>\n",
       "      <td>-800.220337</td>\n",
       "      <td>-0.079426</td>\n",
       "      <td>-809.741464</td>\n",
       "    </tr>\n",
       "    <tr>\n",
       "      <th>25%</th>\n",
       "      <td>147.121401</td>\n",
       "      <td>6.489555</td>\n",
       "      <td>6.890000</td>\n",
       "      <td>0.907623</td>\n",
       "      <td>1.498936e+03</td>\n",
       "      <td>-500.357298</td>\n",
       "      <td>1.498971e+03</td>\n",
       "      <td>-500.703002</td>\n",
       "      <td>1.473230e+03</td>\n",
       "      <td>-501.018117</td>\n",
       "      <td>...</td>\n",
       "      <td>1.403618e+01</td>\n",
       "      <td>-500.868258</td>\n",
       "      <td>1.202862e+01</td>\n",
       "      <td>-500.323028</td>\n",
       "      <td>10.914838</td>\n",
       "      <td>-500.726841</td>\n",
       "      <td>8.036719</td>\n",
       "      <td>-500.194668</td>\n",
       "      <td>13.997317</td>\n",
       "      <td>-500.690984</td>\n",
       "    </tr>\n",
       "    <tr>\n",
       "      <th>50%</th>\n",
       "      <td>177.828489</td>\n",
       "      <td>8.052207</td>\n",
       "      <td>7.250000</td>\n",
       "      <td>1.197610</td>\n",
       "      <td>1.585129e+03</td>\n",
       "      <td>-499.969164</td>\n",
       "      <td>1.595622e+03</td>\n",
       "      <td>-500.028514</td>\n",
       "      <td>1.549595e+03</td>\n",
       "      <td>-500.017711</td>\n",
       "      <td>...</td>\n",
       "      <td>1.700847e+01</td>\n",
       "      <td>-500.115727</td>\n",
       "      <td>1.496486e+01</td>\n",
       "      <td>-499.576513</td>\n",
       "      <td>12.954182</td>\n",
       "      <td>-499.990332</td>\n",
       "      <td>10.004301</td>\n",
       "      <td>-499.990535</td>\n",
       "      <td>16.014935</td>\n",
       "      <td>-500.007126</td>\n",
       "    </tr>\n",
       "    <tr>\n",
       "      <th>75%</th>\n",
       "      <td>208.125438</td>\n",
       "      <td>10.027764</td>\n",
       "      <td>7.600000</td>\n",
       "      <td>1.797819</td>\n",
       "      <td>1.602077e+03</td>\n",
       "      <td>-499.568951</td>\n",
       "      <td>1.602324e+03</td>\n",
       "      <td>-499.293257</td>\n",
       "      <td>1.601144e+03</td>\n",
       "      <td>-498.994130</td>\n",
       "      <td>...</td>\n",
       "      <td>1.803862e+01</td>\n",
       "      <td>-499.404224</td>\n",
       "      <td>1.596213e+01</td>\n",
       "      <td>-400.933805</td>\n",
       "      <td>15.097528</td>\n",
       "      <td>-499.283191</td>\n",
       "      <td>11.997467</td>\n",
       "      <td>-499.719913</td>\n",
       "      <td>21.020013</td>\n",
       "      <td>-499.373018</td>\n",
       "    </tr>\n",
       "    <tr>\n",
       "      <th>max</th>\n",
       "      <td>265.983123</td>\n",
       "      <td>40.000000</td>\n",
       "      <td>15.500000</td>\n",
       "      <td>4.102454</td>\n",
       "      <td>2.103104e+03</td>\n",
       "      <td>-57.195404</td>\n",
       "      <td>1.813084e+03</td>\n",
       "      <td>-142.527229</td>\n",
       "      <td>1.715054e+03</td>\n",
       "      <td>-150.937035</td>\n",
       "      <td>...</td>\n",
       "      <td>3.005180e+01</td>\n",
       "      <td>-401.565212</td>\n",
       "      <td>3.126971e+01</td>\n",
       "      <td>-6.506986</td>\n",
       "      <td>25.258848</td>\n",
       "      <td>-244.483566</td>\n",
       "      <td>14.086866</td>\n",
       "      <td>-137.740004</td>\n",
       "      <td>26.705889</td>\n",
       "      <td>-123.307487</td>\n",
       "    </tr>\n",
       "  </tbody>\n",
       "</table>\n",
       "<p>8 rows × 52 columns</p>\n",
       "</div>"
      ],
      "text/plain": [
       "       primary_cleaner.input.sulfate  primary_cleaner.input.depressant  \\\n",
       "count                    5286.000000                       5285.000000   \n",
       "mean                      174.839652                          8.683596   \n",
       "std                        43.027080                          3.072050   \n",
       "min                         2.566156                          0.003839   \n",
       "25%                       147.121401                          6.489555   \n",
       "50%                       177.828489                          8.052207   \n",
       "75%                       208.125438                         10.027764   \n",
       "max                       265.983123                         40.000000   \n",
       "\n",
       "       primary_cleaner.input.feed_size  primary_cleaner.input.xanthate  \\\n",
       "count                      5290.000000                     5286.000000   \n",
       "mean                          7.266339                        1.383803   \n",
       "std                           0.610219                        0.643474   \n",
       "min                           5.650000                        0.004984   \n",
       "25%                           6.890000                        0.907623   \n",
       "50%                           7.250000                        1.197610   \n",
       "75%                           7.600000                        1.797819   \n",
       "max                          15.500000                        4.102454   \n",
       "\n",
       "       primary_cleaner.state.floatbank8_a_air  \\\n",
       "count                            5.290000e+03   \n",
       "mean                             1.539494e+03   \n",
       "std                              1.167979e+02   \n",
       "min                              5.445860e-32   \n",
       "25%                              1.498936e+03   \n",
       "50%                              1.585129e+03   \n",
       "75%                              1.602077e+03   \n",
       "max                              2.103104e+03   \n",
       "\n",
       "       primary_cleaner.state.floatbank8_a_level  \\\n",
       "count                               5290.000000   \n",
       "mean                                -497.665883   \n",
       "std                                   19.952431   \n",
       "min                                 -795.316337   \n",
       "25%                                 -500.357298   \n",
       "50%                                 -499.969164   \n",
       "75%                                 -499.568951   \n",
       "max                                  -57.195404   \n",
       "\n",
       "       primary_cleaner.state.floatbank8_b_air  \\\n",
       "count                            5.290000e+03   \n",
       "mean                             1.545174e+03   \n",
       "std                              1.222246e+02   \n",
       "min                              6.647490e-32   \n",
       "25%                              1.498971e+03   \n",
       "50%                              1.595622e+03   \n",
       "75%                              1.602324e+03   \n",
       "max                              1.813084e+03   \n",
       "\n",
       "       primary_cleaner.state.floatbank8_b_level  \\\n",
       "count                               5290.000000   \n",
       "mean                                -500.273098   \n",
       "std                                   32.968307   \n",
       "min                                 -799.997015   \n",
       "25%                                 -500.703002   \n",
       "50%                                 -500.028514   \n",
       "75%                                 -499.293257   \n",
       "max                                 -142.527229   \n",
       "\n",
       "       primary_cleaner.state.floatbank8_c_air  \\\n",
       "count                            5.290000e+03   \n",
       "mean                             1.527272e+03   \n",
       "std                              1.225380e+02   \n",
       "min                              4.033736e-32   \n",
       "25%                              1.473230e+03   \n",
       "50%                              1.549595e+03   \n",
       "75%                              1.601144e+03   \n",
       "max                              1.715054e+03   \n",
       "\n",
       "       primary_cleaner.state.floatbank8_c_level  ...  \\\n",
       "count                               5290.000000  ...   \n",
       "mean                                -498.330680  ...   \n",
       "std                                   21.964876  ...   \n",
       "min                                 -799.960571  ...   \n",
       "25%                                 -501.018117  ...   \n",
       "50%                                 -500.017711  ...   \n",
       "75%                                 -498.994130  ...   \n",
       "max                                 -150.937035  ...   \n",
       "\n",
       "       secondary_cleaner.state.floatbank4_a_air  \\\n",
       "count                              5.290000e+03   \n",
       "mean                               1.632007e+01   \n",
       "std                                3.493583e+00   \n",
       "min                                1.079872e-16   \n",
       "25%                                1.403618e+01   \n",
       "50%                                1.700847e+01   \n",
       "75%                                1.803862e+01   \n",
       "max                                3.005180e+01   \n",
       "\n",
       "       secondary_cleaner.state.floatbank4_a_level  \\\n",
       "count                                 5290.000000   \n",
       "mean                                  -505.144570   \n",
       "std                                     31.427337   \n",
       "min                                   -799.798523   \n",
       "25%                                   -500.868258   \n",
       "50%                                   -500.115727   \n",
       "75%                                   -499.404224   \n",
       "max                                   -401.565212   \n",
       "\n",
       "       secondary_cleaner.state.floatbank4_b_air  \\\n",
       "count                              5.290000e+03   \n",
       "mean                               1.373544e+01   \n",
       "std                                3.430484e+00   \n",
       "min                                2.489718e-17   \n",
       "25%                                1.202862e+01   \n",
       "50%                                1.496486e+01   \n",
       "75%                                1.596213e+01   \n",
       "max                                3.126971e+01   \n",
       "\n",
       "       secondary_cleaner.state.floatbank4_b_level  \\\n",
       "count                                 5290.000000   \n",
       "mean                                  -463.349858   \n",
       "std                                     86.189107   \n",
       "min                                   -800.836914   \n",
       "25%                                   -500.323028   \n",
       "50%                                   -499.576513   \n",
       "75%                                   -400.933805   \n",
       "max                                     -6.506986   \n",
       "\n",
       "       secondary_cleaner.state.floatbank5_a_air  \\\n",
       "count                               5290.000000   \n",
       "mean                                  12.804186   \n",
       "std                                    3.026591   \n",
       "min                                    0.069227   \n",
       "25%                                   10.914838   \n",
       "50%                                   12.954182   \n",
       "75%                                   15.097528   \n",
       "max                                   25.258848   \n",
       "\n",
       "       secondary_cleaner.state.floatbank5_a_level  \\\n",
       "count                                 5290.000000   \n",
       "mean                                  -501.329122   \n",
       "std                                     17.951495   \n",
       "min                                   -797.323986   \n",
       "25%                                   -500.726841   \n",
       "50%                                   -499.990332   \n",
       "75%                                   -499.283191   \n",
       "max                                   -244.483566   \n",
       "\n",
       "       secondary_cleaner.state.floatbank5_b_air  \\\n",
       "count                               5290.000000   \n",
       "mean                                   9.881145   \n",
       "std                                    2.868205   \n",
       "min                                    0.528083   \n",
       "25%                                    8.036719   \n",
       "50%                                   10.004301   \n",
       "75%                                   11.997467   \n",
       "max                                   14.086866   \n",
       "\n",
       "       secondary_cleaner.state.floatbank5_b_level  \\\n",
       "count                                 5290.000000   \n",
       "mean                                  -495.663398   \n",
       "std                                     34.535007   \n",
       "min                                   -800.220337   \n",
       "25%                                   -500.194668   \n",
       "50%                                   -499.990535   \n",
       "75%                                   -499.719913   \n",
       "max                                   -137.740004   \n",
       "\n",
       "       secondary_cleaner.state.floatbank6_a_air  \\\n",
       "count                               5290.000000   \n",
       "mean                                  17.304935   \n",
       "std                                    4.536544   \n",
       "min                                   -0.079426   \n",
       "25%                                   13.997317   \n",
       "50%                                   16.014935   \n",
       "75%                                   21.020013   \n",
       "max                                   26.705889   \n",
       "\n",
       "       secondary_cleaner.state.floatbank6_a_level  \n",
       "count                                 5290.000000  \n",
       "mean                                  -501.793193  \n",
       "std                                     39.044215  \n",
       "min                                   -809.741464  \n",
       "25%                                   -500.690984  \n",
       "50%                                   -500.007126  \n",
       "75%                                   -499.373018  \n",
       "max                                   -123.307487  \n",
       "\n",
       "[8 rows x 52 columns]"
      ]
     },
     "metadata": {},
     "output_type": "display_data"
    },
    {
     "name": "stdout",
     "output_type": "stream",
     "text": [
      "---------------------------------------------------------------\n",
      "\n",
      "Дубликатов в датафрейме: 0\n",
      "---------------------------------------------------------------\n",
      "\n"
     ]
    },
    {
     "data": {
      "text/plain": [
       "'Больше всего пропущенных значений в столбцах:'"
      ]
     },
     "metadata": {},
     "output_type": "display_data"
    },
    {
     "data": {
      "text/plain": [
       "rougher.input.floatbank11_xanthate          25\n",
       "rougher.input.feed_sol                      21\n",
       "secondary_cleaner.state.floatbank3_a_air     9\n",
       "rougher.input.floatbank11_sulfate            8\n",
       "primary_cleaner.input.depressant             5\n",
       "rougher.input.floatbank10_sulfate            5\n",
       "primary_cleaner.input.xanthate               4\n",
       "primary_cleaner.input.sulfate                4\n",
       "rougher.input.feed_rate                      3\n",
       "secondary_cleaner.state.floatbank2_a_air     3\n",
       "dtype: int64"
      ]
     },
     "metadata": {},
     "output_type": "display_data"
    },
    {
     "name": "stdout",
     "output_type": "stream",
     "text": [
      "None\n"
     ]
    }
   ],
   "source": [
    "print('Тестовая выборка')\n",
    "print(havealook(df_test))"
   ]
  },
  {
   "cell_type": "code",
   "execution_count": 6,
   "metadata": {},
   "outputs": [
    {
     "name": "stdout",
     "output_type": "stream",
     "text": [
      "Размер датафрейма: 19439 строк и  87 столбцов.\n",
      "---------------------------------------------------------------\n",
      "\n"
     ]
    },
    {
     "data": {
      "text/html": [
       "<div>\n",
       "<style scoped>\n",
       "    .dataframe tbody tr th:only-of-type {\n",
       "        vertical-align: middle;\n",
       "    }\n",
       "\n",
       "    .dataframe tbody tr th {\n",
       "        vertical-align: top;\n",
       "    }\n",
       "\n",
       "    .dataframe thead th {\n",
       "        text-align: right;\n",
       "    }\n",
       "</style>\n",
       "<table border=\"1\" class=\"dataframe\">\n",
       "  <thead>\n",
       "    <tr style=\"text-align: right;\">\n",
       "      <th></th>\n",
       "      <th>date</th>\n",
       "      <th>final.output.concentrate_ag</th>\n",
       "      <th>final.output.concentrate_pb</th>\n",
       "      <th>final.output.concentrate_sol</th>\n",
       "      <th>final.output.concentrate_au</th>\n",
       "      <th>final.output.recovery</th>\n",
       "      <th>final.output.tail_ag</th>\n",
       "      <th>final.output.tail_pb</th>\n",
       "      <th>final.output.tail_sol</th>\n",
       "      <th>final.output.tail_au</th>\n",
       "      <th>...</th>\n",
       "      <th>secondary_cleaner.state.floatbank4_a_air</th>\n",
       "      <th>secondary_cleaner.state.floatbank4_a_level</th>\n",
       "      <th>secondary_cleaner.state.floatbank4_b_air</th>\n",
       "      <th>secondary_cleaner.state.floatbank4_b_level</th>\n",
       "      <th>secondary_cleaner.state.floatbank5_a_air</th>\n",
       "      <th>secondary_cleaner.state.floatbank5_a_level</th>\n",
       "      <th>secondary_cleaner.state.floatbank5_b_air</th>\n",
       "      <th>secondary_cleaner.state.floatbank5_b_level</th>\n",
       "      <th>secondary_cleaner.state.floatbank6_a_air</th>\n",
       "      <th>secondary_cleaner.state.floatbank6_a_level</th>\n",
       "    </tr>\n",
       "  </thead>\n",
       "  <tbody>\n",
       "    <tr>\n",
       "      <th>0</th>\n",
       "      <td>2016-01-15 00:00:00</td>\n",
       "      <td>6.055403</td>\n",
       "      <td>9.889648</td>\n",
       "      <td>5.507324</td>\n",
       "      <td>42.192020</td>\n",
       "      <td>70.541216</td>\n",
       "      <td>10.411962</td>\n",
       "      <td>0.895447</td>\n",
       "      <td>16.904297</td>\n",
       "      <td>2.143149</td>\n",
       "      <td>...</td>\n",
       "      <td>14.016835</td>\n",
       "      <td>-502.488007</td>\n",
       "      <td>12.099931</td>\n",
       "      <td>-504.715942</td>\n",
       "      <td>9.925633</td>\n",
       "      <td>-498.310211</td>\n",
       "      <td>8.079666</td>\n",
       "      <td>-500.470978</td>\n",
       "      <td>14.151341</td>\n",
       "      <td>-605.841980</td>\n",
       "    </tr>\n",
       "    <tr>\n",
       "      <th>1</th>\n",
       "      <td>2016-01-15 01:00:00</td>\n",
       "      <td>6.029369</td>\n",
       "      <td>9.968944</td>\n",
       "      <td>5.257781</td>\n",
       "      <td>42.701629</td>\n",
       "      <td>69.266198</td>\n",
       "      <td>10.462676</td>\n",
       "      <td>0.927452</td>\n",
       "      <td>16.634514</td>\n",
       "      <td>2.224930</td>\n",
       "      <td>...</td>\n",
       "      <td>13.992281</td>\n",
       "      <td>-505.503262</td>\n",
       "      <td>11.950531</td>\n",
       "      <td>-501.331529</td>\n",
       "      <td>10.039245</td>\n",
       "      <td>-500.169983</td>\n",
       "      <td>7.984757</td>\n",
       "      <td>-500.582168</td>\n",
       "      <td>13.998353</td>\n",
       "      <td>-599.787184</td>\n",
       "    </tr>\n",
       "    <tr>\n",
       "      <th>2</th>\n",
       "      <td>2016-01-15 02:00:00</td>\n",
       "      <td>6.055926</td>\n",
       "      <td>10.213995</td>\n",
       "      <td>5.383759</td>\n",
       "      <td>42.657501</td>\n",
       "      <td>68.116445</td>\n",
       "      <td>10.507046</td>\n",
       "      <td>0.953716</td>\n",
       "      <td>16.208849</td>\n",
       "      <td>2.257889</td>\n",
       "      <td>...</td>\n",
       "      <td>14.015015</td>\n",
       "      <td>-502.520901</td>\n",
       "      <td>11.912783</td>\n",
       "      <td>-501.133383</td>\n",
       "      <td>10.070913</td>\n",
       "      <td>-500.129135</td>\n",
       "      <td>8.013877</td>\n",
       "      <td>-500.517572</td>\n",
       "      <td>14.028663</td>\n",
       "      <td>-601.427363</td>\n",
       "    </tr>\n",
       "    <tr>\n",
       "      <th>3</th>\n",
       "      <td>2016-01-15 03:00:00</td>\n",
       "      <td>6.047977</td>\n",
       "      <td>9.977019</td>\n",
       "      <td>4.858634</td>\n",
       "      <td>42.689819</td>\n",
       "      <td>68.347543</td>\n",
       "      <td>10.422762</td>\n",
       "      <td>0.883763</td>\n",
       "      <td>16.532835</td>\n",
       "      <td>2.146849</td>\n",
       "      <td>...</td>\n",
       "      <td>14.036510</td>\n",
       "      <td>-500.857308</td>\n",
       "      <td>11.999550</td>\n",
       "      <td>-501.193686</td>\n",
       "      <td>9.970366</td>\n",
       "      <td>-499.201640</td>\n",
       "      <td>7.977324</td>\n",
       "      <td>-500.255908</td>\n",
       "      <td>14.005551</td>\n",
       "      <td>-599.996129</td>\n",
       "    </tr>\n",
       "    <tr>\n",
       "      <th>4</th>\n",
       "      <td>2016-01-15 04:00:00</td>\n",
       "      <td>6.148599</td>\n",
       "      <td>10.142511</td>\n",
       "      <td>4.939416</td>\n",
       "      <td>42.774141</td>\n",
       "      <td>66.927016</td>\n",
       "      <td>10.360302</td>\n",
       "      <td>0.792826</td>\n",
       "      <td>16.525686</td>\n",
       "      <td>2.055292</td>\n",
       "      <td>...</td>\n",
       "      <td>14.027298</td>\n",
       "      <td>-499.838632</td>\n",
       "      <td>11.953070</td>\n",
       "      <td>-501.053894</td>\n",
       "      <td>9.925709</td>\n",
       "      <td>-501.686727</td>\n",
       "      <td>7.894242</td>\n",
       "      <td>-500.356035</td>\n",
       "      <td>13.996647</td>\n",
       "      <td>-601.496691</td>\n",
       "    </tr>\n",
       "  </tbody>\n",
       "</table>\n",
       "<p>5 rows × 87 columns</p>\n",
       "</div>"
      ],
      "text/plain": [
       "                  date  final.output.concentrate_ag  \\\n",
       "0  2016-01-15 00:00:00                     6.055403   \n",
       "1  2016-01-15 01:00:00                     6.029369   \n",
       "2  2016-01-15 02:00:00                     6.055926   \n",
       "3  2016-01-15 03:00:00                     6.047977   \n",
       "4  2016-01-15 04:00:00                     6.148599   \n",
       "\n",
       "   final.output.concentrate_pb  final.output.concentrate_sol  \\\n",
       "0                     9.889648                      5.507324   \n",
       "1                     9.968944                      5.257781   \n",
       "2                    10.213995                      5.383759   \n",
       "3                     9.977019                      4.858634   \n",
       "4                    10.142511                      4.939416   \n",
       "\n",
       "   final.output.concentrate_au  final.output.recovery  final.output.tail_ag  \\\n",
       "0                    42.192020              70.541216             10.411962   \n",
       "1                    42.701629              69.266198             10.462676   \n",
       "2                    42.657501              68.116445             10.507046   \n",
       "3                    42.689819              68.347543             10.422762   \n",
       "4                    42.774141              66.927016             10.360302   \n",
       "\n",
       "   final.output.tail_pb  final.output.tail_sol  final.output.tail_au  ...  \\\n",
       "0              0.895447              16.904297              2.143149  ...   \n",
       "1              0.927452              16.634514              2.224930  ...   \n",
       "2              0.953716              16.208849              2.257889  ...   \n",
       "3              0.883763              16.532835              2.146849  ...   \n",
       "4              0.792826              16.525686              2.055292  ...   \n",
       "\n",
       "   secondary_cleaner.state.floatbank4_a_air  \\\n",
       "0                                 14.016835   \n",
       "1                                 13.992281   \n",
       "2                                 14.015015   \n",
       "3                                 14.036510   \n",
       "4                                 14.027298   \n",
       "\n",
       "   secondary_cleaner.state.floatbank4_a_level  \\\n",
       "0                                 -502.488007   \n",
       "1                                 -505.503262   \n",
       "2                                 -502.520901   \n",
       "3                                 -500.857308   \n",
       "4                                 -499.838632   \n",
       "\n",
       "   secondary_cleaner.state.floatbank4_b_air  \\\n",
       "0                                 12.099931   \n",
       "1                                 11.950531   \n",
       "2                                 11.912783   \n",
       "3                                 11.999550   \n",
       "4                                 11.953070   \n",
       "\n",
       "   secondary_cleaner.state.floatbank4_b_level  \\\n",
       "0                                 -504.715942   \n",
       "1                                 -501.331529   \n",
       "2                                 -501.133383   \n",
       "3                                 -501.193686   \n",
       "4                                 -501.053894   \n",
       "\n",
       "   secondary_cleaner.state.floatbank5_a_air  \\\n",
       "0                                  9.925633   \n",
       "1                                 10.039245   \n",
       "2                                 10.070913   \n",
       "3                                  9.970366   \n",
       "4                                  9.925709   \n",
       "\n",
       "   secondary_cleaner.state.floatbank5_a_level  \\\n",
       "0                                 -498.310211   \n",
       "1                                 -500.169983   \n",
       "2                                 -500.129135   \n",
       "3                                 -499.201640   \n",
       "4                                 -501.686727   \n",
       "\n",
       "   secondary_cleaner.state.floatbank5_b_air  \\\n",
       "0                                  8.079666   \n",
       "1                                  7.984757   \n",
       "2                                  8.013877   \n",
       "3                                  7.977324   \n",
       "4                                  7.894242   \n",
       "\n",
       "   secondary_cleaner.state.floatbank5_b_level  \\\n",
       "0                                 -500.470978   \n",
       "1                                 -500.582168   \n",
       "2                                 -500.517572   \n",
       "3                                 -500.255908   \n",
       "4                                 -500.356035   \n",
       "\n",
       "   secondary_cleaner.state.floatbank6_a_air  \\\n",
       "0                                 14.151341   \n",
       "1                                 13.998353   \n",
       "2                                 14.028663   \n",
       "3                                 14.005551   \n",
       "4                                 13.996647   \n",
       "\n",
       "   secondary_cleaner.state.floatbank6_a_level  \n",
       "0                                 -605.841980  \n",
       "1                                 -599.787184  \n",
       "2                                 -601.427363  \n",
       "3                                 -599.996129  \n",
       "4                                 -601.496691  \n",
       "\n",
       "[5 rows x 87 columns]"
      ]
     },
     "metadata": {},
     "output_type": "display_data"
    },
    {
     "name": "stdout",
     "output_type": "stream",
     "text": [
      "---------------------------------------------------------------\n",
      "\n",
      "<class 'pandas.core.frame.DataFrame'>\n",
      "RangeIndex: 19439 entries, 0 to 19438\n",
      "Data columns (total 87 columns):\n",
      " #   Column                                              Non-Null Count  Dtype  \n",
      "---  ------                                              --------------  -----  \n",
      " 0   date                                                19439 non-null  object \n",
      " 1   final.output.concentrate_ag                         19438 non-null  float64\n",
      " 2   final.output.concentrate_pb                         19438 non-null  float64\n",
      " 3   final.output.concentrate_sol                        19228 non-null  float64\n",
      " 4   final.output.concentrate_au                         19439 non-null  float64\n",
      " 5   final.output.recovery                               19439 non-null  float64\n",
      " 6   final.output.tail_ag                                19438 non-null  float64\n",
      " 7   final.output.tail_pb                                19338 non-null  float64\n",
      " 8   final.output.tail_sol                               19433 non-null  float64\n",
      " 9   final.output.tail_au                                19439 non-null  float64\n",
      " 10  primary_cleaner.input.sulfate                       19415 non-null  float64\n",
      " 11  primary_cleaner.input.depressant                    19402 non-null  float64\n",
      " 12  primary_cleaner.input.feed_size                     19439 non-null  float64\n",
      " 13  primary_cleaner.input.xanthate                      19335 non-null  float64\n",
      " 14  primary_cleaner.output.concentrate_ag               19439 non-null  float64\n",
      " 15  primary_cleaner.output.concentrate_pb               19323 non-null  float64\n",
      " 16  primary_cleaner.output.concentrate_sol              19069 non-null  float64\n",
      " 17  primary_cleaner.output.concentrate_au               19439 non-null  float64\n",
      " 18  primary_cleaner.output.tail_ag                      19435 non-null  float64\n",
      " 19  primary_cleaner.output.tail_pb                      19418 non-null  float64\n",
      " 20  primary_cleaner.output.tail_sol                     19377 non-null  float64\n",
      " 21  primary_cleaner.output.tail_au                      19439 non-null  float64\n",
      " 22  primary_cleaner.state.floatbank8_a_air              19435 non-null  float64\n",
      " 23  primary_cleaner.state.floatbank8_a_level            19438 non-null  float64\n",
      " 24  primary_cleaner.state.floatbank8_b_air              19435 non-null  float64\n",
      " 25  primary_cleaner.state.floatbank8_b_level            19438 non-null  float64\n",
      " 26  primary_cleaner.state.floatbank8_c_air              19437 non-null  float64\n",
      " 27  primary_cleaner.state.floatbank8_c_level            19438 non-null  float64\n",
      " 28  primary_cleaner.state.floatbank8_d_air              19436 non-null  float64\n",
      " 29  primary_cleaner.state.floatbank8_d_level            19438 non-null  float64\n",
      " 30  rougher.calculation.sulfate_to_au_concentrate       19437 non-null  float64\n",
      " 31  rougher.calculation.floatbank10_sulfate_to_au_feed  19437 non-null  float64\n",
      " 32  rougher.calculation.floatbank11_sulfate_to_au_feed  19437 non-null  float64\n",
      " 33  rougher.calculation.au_pb_ratio                     19439 non-null  float64\n",
      " 34  rougher.input.feed_ag                               19439 non-null  float64\n",
      " 35  rougher.input.feed_pb                               19339 non-null  float64\n",
      " 36  rougher.input.feed_rate                             19428 non-null  float64\n",
      " 37  rougher.input.feed_size                             19294 non-null  float64\n",
      " 38  rougher.input.feed_sol                              19340 non-null  float64\n",
      " 39  rougher.input.feed_au                               19439 non-null  float64\n",
      " 40  rougher.input.floatbank10_sulfate                   19405 non-null  float64\n",
      " 41  rougher.input.floatbank10_xanthate                  19431 non-null  float64\n",
      " 42  rougher.input.floatbank11_sulfate                   19395 non-null  float64\n",
      " 43  rougher.input.floatbank11_xanthate                  18986 non-null  float64\n",
      " 44  rougher.output.concentrate_ag                       19439 non-null  float64\n",
      " 45  rougher.output.concentrate_pb                       19439 non-null  float64\n",
      " 46  rougher.output.concentrate_sol                      19416 non-null  float64\n",
      " 47  rougher.output.concentrate_au                       19439 non-null  float64\n",
      " 48  rougher.output.recovery                             19439 non-null  float64\n",
      " 49  rougher.output.tail_ag                              19438 non-null  float64\n",
      " 50  rougher.output.tail_pb                              19439 non-null  float64\n",
      " 51  rougher.output.tail_sol                             19439 non-null  float64\n",
      " 52  rougher.output.tail_au                              19439 non-null  float64\n",
      " 53  rougher.state.floatbank10_a_air                     19438 non-null  float64\n",
      " 54  rougher.state.floatbank10_a_level                   19438 non-null  float64\n",
      " 55  rougher.state.floatbank10_b_air                     19438 non-null  float64\n",
      " 56  rougher.state.floatbank10_b_level                   19438 non-null  float64\n",
      " 57  rougher.state.floatbank10_c_air                     19438 non-null  float64\n",
      " 58  rougher.state.floatbank10_c_level                   19438 non-null  float64\n",
      " 59  rougher.state.floatbank10_d_air                     19439 non-null  float64\n",
      " 60  rougher.state.floatbank10_d_level                   19439 non-null  float64\n",
      " 61  rougher.state.floatbank10_e_air                     19003 non-null  float64\n",
      " 62  rougher.state.floatbank10_e_level                   19439 non-null  float64\n",
      " 63  rougher.state.floatbank10_f_air                     19439 non-null  float64\n",
      " 64  rougher.state.floatbank10_f_level                   19439 non-null  float64\n",
      " 65  secondary_cleaner.output.tail_ag                    19437 non-null  float64\n",
      " 66  secondary_cleaner.output.tail_pb                    19427 non-null  float64\n",
      " 67  secondary_cleaner.output.tail_sol                   17691 non-null  float64\n",
      " 68  secondary_cleaner.output.tail_au                    19439 non-null  float64\n",
      " 69  secondary_cleaner.state.floatbank2_a_air            19219 non-null  float64\n",
      " 70  secondary_cleaner.state.floatbank2_a_level          19438 non-null  float64\n",
      " 71  secondary_cleaner.state.floatbank2_b_air            19416 non-null  float64\n",
      " 72  secondary_cleaner.state.floatbank2_b_level          19438 non-null  float64\n",
      " 73  secondary_cleaner.state.floatbank3_a_air            19426 non-null  float64\n",
      " 74  secondary_cleaner.state.floatbank3_a_level          19438 non-null  float64\n",
      " 75  secondary_cleaner.state.floatbank3_b_air            19438 non-null  float64\n",
      " 76  secondary_cleaner.state.floatbank3_b_level          19438 non-null  float64\n",
      " 77  secondary_cleaner.state.floatbank4_a_air            19433 non-null  float64\n",
      " 78  secondary_cleaner.state.floatbank4_a_level          19438 non-null  float64\n",
      " 79  secondary_cleaner.state.floatbank4_b_air            19438 non-null  float64\n",
      " 80  secondary_cleaner.state.floatbank4_b_level          19438 non-null  float64\n",
      " 81  secondary_cleaner.state.floatbank5_a_air            19438 non-null  float64\n",
      " 82  secondary_cleaner.state.floatbank5_a_level          19438 non-null  float64\n",
      " 83  secondary_cleaner.state.floatbank5_b_air            19438 non-null  float64\n",
      " 84  secondary_cleaner.state.floatbank5_b_level          19438 non-null  float64\n",
      " 85  secondary_cleaner.state.floatbank6_a_air            19437 non-null  float64\n",
      " 86  secondary_cleaner.state.floatbank6_a_level          19438 non-null  float64\n",
      "dtypes: float64(86), object(1)\n",
      "memory usage: 12.9+ MB\n"
     ]
    },
    {
     "data": {
      "text/plain": [
       "None"
      ]
     },
     "metadata": {},
     "output_type": "display_data"
    },
    {
     "name": "stdout",
     "output_type": "stream",
     "text": [
      "---------------------------------------------------------------\n",
      "\n"
     ]
    },
    {
     "data": {
      "text/html": [
       "<div>\n",
       "<style scoped>\n",
       "    .dataframe tbody tr th:only-of-type {\n",
       "        vertical-align: middle;\n",
       "    }\n",
       "\n",
       "    .dataframe tbody tr th {\n",
       "        vertical-align: top;\n",
       "    }\n",
       "\n",
       "    .dataframe thead th {\n",
       "        text-align: right;\n",
       "    }\n",
       "</style>\n",
       "<table border=\"1\" class=\"dataframe\">\n",
       "  <thead>\n",
       "    <tr style=\"text-align: right;\">\n",
       "      <th></th>\n",
       "      <th>final.output.concentrate_ag</th>\n",
       "      <th>final.output.concentrate_pb</th>\n",
       "      <th>final.output.concentrate_sol</th>\n",
       "      <th>final.output.concentrate_au</th>\n",
       "      <th>final.output.recovery</th>\n",
       "      <th>final.output.tail_ag</th>\n",
       "      <th>final.output.tail_pb</th>\n",
       "      <th>final.output.tail_sol</th>\n",
       "      <th>final.output.tail_au</th>\n",
       "      <th>primary_cleaner.input.sulfate</th>\n",
       "      <th>...</th>\n",
       "      <th>secondary_cleaner.state.floatbank4_a_air</th>\n",
       "      <th>secondary_cleaner.state.floatbank4_a_level</th>\n",
       "      <th>secondary_cleaner.state.floatbank4_b_air</th>\n",
       "      <th>secondary_cleaner.state.floatbank4_b_level</th>\n",
       "      <th>secondary_cleaner.state.floatbank5_a_air</th>\n",
       "      <th>secondary_cleaner.state.floatbank5_a_level</th>\n",
       "      <th>secondary_cleaner.state.floatbank5_b_air</th>\n",
       "      <th>secondary_cleaner.state.floatbank5_b_level</th>\n",
       "      <th>secondary_cleaner.state.floatbank6_a_air</th>\n",
       "      <th>secondary_cleaner.state.floatbank6_a_level</th>\n",
       "    </tr>\n",
       "  </thead>\n",
       "  <tbody>\n",
       "    <tr>\n",
       "      <th>count</th>\n",
       "      <td>19438.000000</td>\n",
       "      <td>19438.000000</td>\n",
       "      <td>19228.000000</td>\n",
       "      <td>19439.000000</td>\n",
       "      <td>19439.000000</td>\n",
       "      <td>19438.000000</td>\n",
       "      <td>19338.000000</td>\n",
       "      <td>19433.000000</td>\n",
       "      <td>19439.000000</td>\n",
       "      <td>19415.000000</td>\n",
       "      <td>...</td>\n",
       "      <td>19433.000000</td>\n",
       "      <td>19438.000000</td>\n",
       "      <td>19438.000000</td>\n",
       "      <td>19438.000000</td>\n",
       "      <td>19438.000000</td>\n",
       "      <td>19438.000000</td>\n",
       "      <td>19438.000000</td>\n",
       "      <td>19438.000000</td>\n",
       "      <td>19437.000000</td>\n",
       "      <td>19438.000000</td>\n",
       "    </tr>\n",
       "    <tr>\n",
       "      <th>mean</th>\n",
       "      <td>5.168470</td>\n",
       "      <td>9.978895</td>\n",
       "      <td>9.501224</td>\n",
       "      <td>44.076513</td>\n",
       "      <td>67.050208</td>\n",
       "      <td>9.688589</td>\n",
       "      <td>2.705795</td>\n",
       "      <td>10.583728</td>\n",
       "      <td>3.042467</td>\n",
       "      <td>144.624774</td>\n",
       "      <td>...</td>\n",
       "      <td>18.987674</td>\n",
       "      <td>-485.894516</td>\n",
       "      <td>15.010366</td>\n",
       "      <td>-461.078636</td>\n",
       "      <td>15.694452</td>\n",
       "      <td>-488.684065</td>\n",
       "      <td>12.198224</td>\n",
       "      <td>-487.149827</td>\n",
       "      <td>18.959024</td>\n",
       "      <td>-505.436305</td>\n",
       "    </tr>\n",
       "    <tr>\n",
       "      <th>std</th>\n",
       "      <td>1.372348</td>\n",
       "      <td>1.669240</td>\n",
       "      <td>2.787537</td>\n",
       "      <td>5.129784</td>\n",
       "      <td>10.125840</td>\n",
       "      <td>2.328642</td>\n",
       "      <td>0.949077</td>\n",
       "      <td>2.868782</td>\n",
       "      <td>0.922808</td>\n",
       "      <td>44.464071</td>\n",
       "      <td>...</td>\n",
       "      <td>5.411058</td>\n",
       "      <td>47.758570</td>\n",
       "      <td>4.890228</td>\n",
       "      <td>67.405524</td>\n",
       "      <td>5.510974</td>\n",
       "      <td>34.533396</td>\n",
       "      <td>5.333024</td>\n",
       "      <td>38.347312</td>\n",
       "      <td>5.550498</td>\n",
       "      <td>37.689057</td>\n",
       "    </tr>\n",
       "    <tr>\n",
       "      <th>min</th>\n",
       "      <td>0.000000</td>\n",
       "      <td>0.000000</td>\n",
       "      <td>0.000000</td>\n",
       "      <td>0.000000</td>\n",
       "      <td>0.000000</td>\n",
       "      <td>0.000000</td>\n",
       "      <td>0.000000</td>\n",
       "      <td>0.000000</td>\n",
       "      <td>0.000000</td>\n",
       "      <td>0.003112</td>\n",
       "      <td>...</td>\n",
       "      <td>0.000000</td>\n",
       "      <td>-799.798523</td>\n",
       "      <td>0.000000</td>\n",
       "      <td>-800.836914</td>\n",
       "      <td>-0.372054</td>\n",
       "      <td>-797.323986</td>\n",
       "      <td>0.528083</td>\n",
       "      <td>-800.220337</td>\n",
       "      <td>-0.079426</td>\n",
       "      <td>-809.741464</td>\n",
       "    </tr>\n",
       "    <tr>\n",
       "      <th>25%</th>\n",
       "      <td>4.251240</td>\n",
       "      <td>9.137262</td>\n",
       "      <td>7.722820</td>\n",
       "      <td>43.402215</td>\n",
       "      <td>63.299712</td>\n",
       "      <td>8.062878</td>\n",
       "      <td>2.040119</td>\n",
       "      <td>8.938947</td>\n",
       "      <td>2.461138</td>\n",
       "      <td>114.107029</td>\n",
       "      <td>...</td>\n",
       "      <td>14.975734</td>\n",
       "      <td>-500.704892</td>\n",
       "      <td>11.940294</td>\n",
       "      <td>-500.187742</td>\n",
       "      <td>10.988606</td>\n",
       "      <td>-500.458467</td>\n",
       "      <td>8.971105</td>\n",
       "      <td>-500.129462</td>\n",
       "      <td>14.983037</td>\n",
       "      <td>-500.728067</td>\n",
       "    </tr>\n",
       "    <tr>\n",
       "      <th>50%</th>\n",
       "      <td>5.066094</td>\n",
       "      <td>10.102433</td>\n",
       "      <td>9.218961</td>\n",
       "      <td>45.011244</td>\n",
       "      <td>68.172738</td>\n",
       "      <td>9.743623</td>\n",
       "      <td>2.748730</td>\n",
       "      <td>10.622456</td>\n",
       "      <td>2.984909</td>\n",
       "      <td>143.232103</td>\n",
       "      <td>...</td>\n",
       "      <td>18.017481</td>\n",
       "      <td>-499.837793</td>\n",
       "      <td>14.971014</td>\n",
       "      <td>-499.459786</td>\n",
       "      <td>15.000036</td>\n",
       "      <td>-499.802605</td>\n",
       "      <td>11.019433</td>\n",
       "      <td>-499.935317</td>\n",
       "      <td>19.960541</td>\n",
       "      <td>-500.048400</td>\n",
       "    </tr>\n",
       "    <tr>\n",
       "      <th>75%</th>\n",
       "      <td>5.895527</td>\n",
       "      <td>11.035769</td>\n",
       "      <td>10.947813</td>\n",
       "      <td>46.275313</td>\n",
       "      <td>72.686642</td>\n",
       "      <td>11.134294</td>\n",
       "      <td>3.333216</td>\n",
       "      <td>12.104271</td>\n",
       "      <td>3.571351</td>\n",
       "      <td>175.075656</td>\n",
       "      <td>...</td>\n",
       "      <td>23.012470</td>\n",
       "      <td>-498.249730</td>\n",
       "      <td>19.034162</td>\n",
       "      <td>-400.118106</td>\n",
       "      <td>18.026190</td>\n",
       "      <td>-498.384187</td>\n",
       "      <td>14.019088</td>\n",
       "      <td>-499.436708</td>\n",
       "      <td>24.003170</td>\n",
       "      <td>-499.495378</td>\n",
       "    </tr>\n",
       "    <tr>\n",
       "      <th>max</th>\n",
       "      <td>16.001945</td>\n",
       "      <td>17.031899</td>\n",
       "      <td>19.615720</td>\n",
       "      <td>52.756638</td>\n",
       "      <td>100.000000</td>\n",
       "      <td>19.552149</td>\n",
       "      <td>5.804178</td>\n",
       "      <td>22.317730</td>\n",
       "      <td>8.245022</td>\n",
       "      <td>265.983123</td>\n",
       "      <td>...</td>\n",
       "      <td>30.115735</td>\n",
       "      <td>-245.239184</td>\n",
       "      <td>31.269706</td>\n",
       "      <td>-6.506986</td>\n",
       "      <td>43.709931</td>\n",
       "      <td>-244.483566</td>\n",
       "      <td>27.926001</td>\n",
       "      <td>-137.740004</td>\n",
       "      <td>32.188906</td>\n",
       "      <td>-104.427459</td>\n",
       "    </tr>\n",
       "  </tbody>\n",
       "</table>\n",
       "<p>8 rows × 86 columns</p>\n",
       "</div>"
      ],
      "text/plain": [
       "       final.output.concentrate_ag  final.output.concentrate_pb  \\\n",
       "count                 19438.000000                 19438.000000   \n",
       "mean                      5.168470                     9.978895   \n",
       "std                       1.372348                     1.669240   \n",
       "min                       0.000000                     0.000000   \n",
       "25%                       4.251240                     9.137262   \n",
       "50%                       5.066094                    10.102433   \n",
       "75%                       5.895527                    11.035769   \n",
       "max                      16.001945                    17.031899   \n",
       "\n",
       "       final.output.concentrate_sol  final.output.concentrate_au  \\\n",
       "count                  19228.000000                 19439.000000   \n",
       "mean                       9.501224                    44.076513   \n",
       "std                        2.787537                     5.129784   \n",
       "min                        0.000000                     0.000000   \n",
       "25%                        7.722820                    43.402215   \n",
       "50%                        9.218961                    45.011244   \n",
       "75%                       10.947813                    46.275313   \n",
       "max                       19.615720                    52.756638   \n",
       "\n",
       "       final.output.recovery  final.output.tail_ag  final.output.tail_pb  \\\n",
       "count           19439.000000          19438.000000          19338.000000   \n",
       "mean               67.050208              9.688589              2.705795   \n",
       "std                10.125840              2.328642              0.949077   \n",
       "min                 0.000000              0.000000              0.000000   \n",
       "25%                63.299712              8.062878              2.040119   \n",
       "50%                68.172738              9.743623              2.748730   \n",
       "75%                72.686642             11.134294              3.333216   \n",
       "max               100.000000             19.552149              5.804178   \n",
       "\n",
       "       final.output.tail_sol  final.output.tail_au  \\\n",
       "count           19433.000000          19439.000000   \n",
       "mean               10.583728              3.042467   \n",
       "std                 2.868782              0.922808   \n",
       "min                 0.000000              0.000000   \n",
       "25%                 8.938947              2.461138   \n",
       "50%                10.622456              2.984909   \n",
       "75%                12.104271              3.571351   \n",
       "max                22.317730              8.245022   \n",
       "\n",
       "       primary_cleaner.input.sulfate  ...  \\\n",
       "count                   19415.000000  ...   \n",
       "mean                      144.624774  ...   \n",
       "std                        44.464071  ...   \n",
       "min                         0.003112  ...   \n",
       "25%                       114.107029  ...   \n",
       "50%                       143.232103  ...   \n",
       "75%                       175.075656  ...   \n",
       "max                       265.983123  ...   \n",
       "\n",
       "       secondary_cleaner.state.floatbank4_a_air  \\\n",
       "count                              19433.000000   \n",
       "mean                                  18.987674   \n",
       "std                                    5.411058   \n",
       "min                                    0.000000   \n",
       "25%                                   14.975734   \n",
       "50%                                   18.017481   \n",
       "75%                                   23.012470   \n",
       "max                                   30.115735   \n",
       "\n",
       "       secondary_cleaner.state.floatbank4_a_level  \\\n",
       "count                                19438.000000   \n",
       "mean                                  -485.894516   \n",
       "std                                     47.758570   \n",
       "min                                   -799.798523   \n",
       "25%                                   -500.704892   \n",
       "50%                                   -499.837793   \n",
       "75%                                   -498.249730   \n",
       "max                                   -245.239184   \n",
       "\n",
       "       secondary_cleaner.state.floatbank4_b_air  \\\n",
       "count                              19438.000000   \n",
       "mean                                  15.010366   \n",
       "std                                    4.890228   \n",
       "min                                    0.000000   \n",
       "25%                                   11.940294   \n",
       "50%                                   14.971014   \n",
       "75%                                   19.034162   \n",
       "max                                   31.269706   \n",
       "\n",
       "       secondary_cleaner.state.floatbank4_b_level  \\\n",
       "count                                19438.000000   \n",
       "mean                                  -461.078636   \n",
       "std                                     67.405524   \n",
       "min                                   -800.836914   \n",
       "25%                                   -500.187742   \n",
       "50%                                   -499.459786   \n",
       "75%                                   -400.118106   \n",
       "max                                     -6.506986   \n",
       "\n",
       "       secondary_cleaner.state.floatbank5_a_air  \\\n",
       "count                              19438.000000   \n",
       "mean                                  15.694452   \n",
       "std                                    5.510974   \n",
       "min                                   -0.372054   \n",
       "25%                                   10.988606   \n",
       "50%                                   15.000036   \n",
       "75%                                   18.026190   \n",
       "max                                   43.709931   \n",
       "\n",
       "       secondary_cleaner.state.floatbank5_a_level  \\\n",
       "count                                19438.000000   \n",
       "mean                                  -488.684065   \n",
       "std                                     34.533396   \n",
       "min                                   -797.323986   \n",
       "25%                                   -500.458467   \n",
       "50%                                   -499.802605   \n",
       "75%                                   -498.384187   \n",
       "max                                   -244.483566   \n",
       "\n",
       "       secondary_cleaner.state.floatbank5_b_air  \\\n",
       "count                              19438.000000   \n",
       "mean                                  12.198224   \n",
       "std                                    5.333024   \n",
       "min                                    0.528083   \n",
       "25%                                    8.971105   \n",
       "50%                                   11.019433   \n",
       "75%                                   14.019088   \n",
       "max                                   27.926001   \n",
       "\n",
       "       secondary_cleaner.state.floatbank5_b_level  \\\n",
       "count                                19438.000000   \n",
       "mean                                  -487.149827   \n",
       "std                                     38.347312   \n",
       "min                                   -800.220337   \n",
       "25%                                   -500.129462   \n",
       "50%                                   -499.935317   \n",
       "75%                                   -499.436708   \n",
       "max                                   -137.740004   \n",
       "\n",
       "       secondary_cleaner.state.floatbank6_a_air  \\\n",
       "count                              19437.000000   \n",
       "mean                                  18.959024   \n",
       "std                                    5.550498   \n",
       "min                                   -0.079426   \n",
       "25%                                   14.983037   \n",
       "50%                                   19.960541   \n",
       "75%                                   24.003170   \n",
       "max                                   32.188906   \n",
       "\n",
       "       secondary_cleaner.state.floatbank6_a_level  \n",
       "count                                19438.000000  \n",
       "mean                                  -505.436305  \n",
       "std                                     37.689057  \n",
       "min                                   -809.741464  \n",
       "25%                                   -500.728067  \n",
       "50%                                   -500.048400  \n",
       "75%                                   -499.495378  \n",
       "max                                   -104.427459  \n",
       "\n",
       "[8 rows x 86 columns]"
      ]
     },
     "metadata": {},
     "output_type": "display_data"
    },
    {
     "name": "stdout",
     "output_type": "stream",
     "text": [
      "---------------------------------------------------------------\n",
      "\n",
      "Дубликатов в датафрейме: 0\n",
      "---------------------------------------------------------------\n",
      "\n"
     ]
    },
    {
     "data": {
      "text/plain": [
       "'Больше всего пропущенных значений в столбцах:'"
      ]
     },
     "metadata": {},
     "output_type": "display_data"
    },
    {
     "data": {
      "text/plain": [
       "secondary_cleaner.output.tail_sol           1748\n",
       "rougher.input.floatbank11_xanthate           453\n",
       "rougher.state.floatbank10_e_air              436\n",
       "primary_cleaner.output.concentrate_sol       370\n",
       "secondary_cleaner.state.floatbank2_a_air     220\n",
       "final.output.concentrate_sol                 211\n",
       "rougher.input.feed_size                      145\n",
       "primary_cleaner.output.concentrate_pb        116\n",
       "primary_cleaner.input.xanthate               104\n",
       "final.output.tail_pb                         101\n",
       "dtype: int64"
      ]
     },
     "metadata": {},
     "output_type": "display_data"
    },
    {
     "name": "stdout",
     "output_type": "stream",
     "text": [
      "None\n"
     ]
    }
   ],
   "source": [
    "print('Вся выборка')\n",
    "print(havealook(df_full))"
   ]
  },
  {
   "cell_type": "markdown",
   "metadata": {},
   "source": [
    "#### Промежуточный вывод:\n",
    "Перед нами довольно объёмный датафрейм, в котором присутствуют пропуски, но нет дубликатов. Можно заметить, что индексами являются дата и время замера, а параметры, находящиеся рядом имеют схожие значения. "
   ]
  },
  {
   "cell_type": "markdown",
   "metadata": {},
   "source": [
    "<a id=efficiency></a>\n",
    "### 1.2 Проверка эффективности обогащения"
   ]
  },
  {
   "cell_type": "markdown",
   "metadata": {},
   "source": [
    "Для начала напишем формулу по которой мы будем проверять эффективность обогащения. Обозначим формулу переменной `recovery`, и взглянем на *Среднюю абсолютную ошибку*(MAE), которая продемонстрирует нам, насколько прогноз, рассчитаный по формуле, отличается от истинного значения."
   ]
  },
  {
   "cell_type": "code",
   "execution_count": 7,
   "metadata": {},
   "outputs": [
    {
     "name": "stdout",
     "output_type": "stream",
     "text": [
      "MAE равен 9.73512347450521e-15\n"
     ]
    }
   ],
   "source": [
    "C = df_train['rougher.output.concentrate_au'] #доля золота после флотации\n",
    "F = df_train['rougher.input.feed_au']         #доля золота до флотации\n",
    "T = df_train['rougher.output.tail_au']        #доля золота в отвальных хвостах после флотации\n",
    "\n",
    "recovery = ((C * (F - T)) / (F * (C - T))) * 100\n",
    "MAE = mean_absolute_error(df_train['rougher.output.recovery'], recovery)\n",
    "print('MAE равен', MAE)"
   ]
  },
  {
   "cell_type": "markdown",
   "metadata": {},
   "source": [
    "Средняя абсолютная ошибка равна 9.7 * 10**-15"
   ]
  },
  {
   "cell_type": "markdown",
   "metadata": {},
   "source": [
    "<a id=test></a>\n",
    "### 1.3 Пропущенные столбцы в тестовой выборке"
   ]
  },
  {
   "cell_type": "markdown",
   "metadata": {},
   "source": [
    "Найдём столбцы, которых не хватает в df_test. Добавим их в список для дальнейшего удобства."
   ]
  },
  {
   "cell_type": "code",
   "execution_count": 8,
   "metadata": {},
   "outputs": [
    {
     "data": {
      "text/plain": [
       "['date',\n",
       " 'final.output.concentrate_ag',\n",
       " 'final.output.concentrate_pb',\n",
       " 'final.output.concentrate_sol',\n",
       " 'final.output.concentrate_au',\n",
       " 'final.output.recovery',\n",
       " 'final.output.tail_ag',\n",
       " 'final.output.tail_pb',\n",
       " 'final.output.tail_sol',\n",
       " 'final.output.tail_au',\n",
       " 'primary_cleaner.output.concentrate_ag',\n",
       " 'primary_cleaner.output.concentrate_pb',\n",
       " 'primary_cleaner.output.concentrate_sol',\n",
       " 'primary_cleaner.output.concentrate_au',\n",
       " 'primary_cleaner.output.tail_ag',\n",
       " 'primary_cleaner.output.tail_pb',\n",
       " 'primary_cleaner.output.tail_sol',\n",
       " 'primary_cleaner.output.tail_au',\n",
       " 'rougher.calculation.sulfate_to_au_concentrate',\n",
       " 'rougher.calculation.floatbank10_sulfate_to_au_feed',\n",
       " 'rougher.calculation.floatbank11_sulfate_to_au_feed',\n",
       " 'rougher.calculation.au_pb_ratio',\n",
       " 'rougher.output.concentrate_ag',\n",
       " 'rougher.output.concentrate_pb',\n",
       " 'rougher.output.concentrate_sol',\n",
       " 'rougher.output.concentrate_au',\n",
       " 'rougher.output.recovery',\n",
       " 'rougher.output.tail_ag',\n",
       " 'rougher.output.tail_pb',\n",
       " 'rougher.output.tail_sol',\n",
       " 'rougher.output.tail_au',\n",
       " 'secondary_cleaner.output.tail_ag',\n",
       " 'secondary_cleaner.output.tail_pb',\n",
       " 'secondary_cleaner.output.tail_sol',\n",
       " 'secondary_cleaner.output.tail_au']"
      ]
     },
     "execution_count": 8,
     "metadata": {},
     "output_type": "execute_result"
    }
   ],
   "source": [
    "columns_train = ['date']                  #пустой список для столбцов, отсутствуюющих в тестовой выборке\n",
    "for column in df_train:\n",
    "    if column not in df_test:       \n",
    "        columns_train.append(column)\n",
    "columns_train"
   ]
  },
  {
   "cell_type": "code",
   "execution_count": 9,
   "metadata": {},
   "outputs": [
    {
     "data": {
      "text/plain": [
       "['date',\n",
       " 'primary_cleaner.input.sulfate',\n",
       " 'primary_cleaner.input.depressant',\n",
       " 'primary_cleaner.input.feed_size',\n",
       " 'primary_cleaner.input.xanthate',\n",
       " 'primary_cleaner.state.floatbank8_a_air',\n",
       " 'primary_cleaner.state.floatbank8_a_level',\n",
       " 'primary_cleaner.state.floatbank8_b_air',\n",
       " 'primary_cleaner.state.floatbank8_b_level',\n",
       " 'primary_cleaner.state.floatbank8_c_air',\n",
       " 'primary_cleaner.state.floatbank8_c_level',\n",
       " 'primary_cleaner.state.floatbank8_d_air',\n",
       " 'primary_cleaner.state.floatbank8_d_level',\n",
       " 'rougher.input.feed_ag',\n",
       " 'rougher.input.feed_pb',\n",
       " 'rougher.input.feed_rate',\n",
       " 'rougher.input.feed_size',\n",
       " 'rougher.input.feed_sol',\n",
       " 'rougher.input.feed_au',\n",
       " 'rougher.input.floatbank10_sulfate',\n",
       " 'rougher.input.floatbank10_xanthate',\n",
       " 'rougher.input.floatbank11_sulfate',\n",
       " 'rougher.input.floatbank11_xanthate',\n",
       " 'rougher.state.floatbank10_a_air',\n",
       " 'rougher.state.floatbank10_a_level',\n",
       " 'rougher.state.floatbank10_b_air',\n",
       " 'rougher.state.floatbank10_b_level',\n",
       " 'rougher.state.floatbank10_c_air',\n",
       " 'rougher.state.floatbank10_c_level',\n",
       " 'rougher.state.floatbank10_d_air',\n",
       " 'rougher.state.floatbank10_d_level',\n",
       " 'rougher.state.floatbank10_e_air',\n",
       " 'rougher.state.floatbank10_e_level',\n",
       " 'rougher.state.floatbank10_f_air',\n",
       " 'rougher.state.floatbank10_f_level',\n",
       " 'secondary_cleaner.state.floatbank2_a_air',\n",
       " 'secondary_cleaner.state.floatbank2_a_level',\n",
       " 'secondary_cleaner.state.floatbank2_b_air',\n",
       " 'secondary_cleaner.state.floatbank2_b_level',\n",
       " 'secondary_cleaner.state.floatbank3_a_air',\n",
       " 'secondary_cleaner.state.floatbank3_a_level',\n",
       " 'secondary_cleaner.state.floatbank3_b_air',\n",
       " 'secondary_cleaner.state.floatbank3_b_level',\n",
       " 'secondary_cleaner.state.floatbank4_a_air',\n",
       " 'secondary_cleaner.state.floatbank4_a_level',\n",
       " 'secondary_cleaner.state.floatbank4_b_air',\n",
       " 'secondary_cleaner.state.floatbank4_b_level',\n",
       " 'secondary_cleaner.state.floatbank5_a_air',\n",
       " 'secondary_cleaner.state.floatbank5_a_level',\n",
       " 'secondary_cleaner.state.floatbank5_b_air',\n",
       " 'secondary_cleaner.state.floatbank5_b_level',\n",
       " 'secondary_cleaner.state.floatbank6_a_air',\n",
       " 'secondary_cleaner.state.floatbank6_a_level']"
      ]
     },
     "execution_count": 9,
     "metadata": {},
     "output_type": "execute_result"
    }
   ],
   "source": [
    "columns_test = list(df_test.columns)\n",
    "columns_test"
   ]
  },
  {
   "cell_type": "markdown",
   "metadata": {},
   "source": [
    "Отсутствующие в выборке признаки объединяет то, что в основном они содержат `output`, т.е. параметры продукта. Только 4 из них содержат `calculation` - расчётные характеристики. Они содержат данные о непосредственном процессе очистки сырья.\n",
    "\n",
    "Признаки не подходят для тестовых данных так как наша задача - построить модель, которая будет предсказывать коэффициент восстановления золото непосредственно из руды, процесс тут неважен."
   ]
  },
  {
   "cell_type": "markdown",
   "metadata": {},
   "source": [
    "<a id=miss></a>\n",
    "### 1.4 Пропуски"
   ]
  },
  {
   "cell_type": "markdown",
   "metadata": {},
   "source": [
    "Как мы помним, в датафрейме, значения замеров, находящиеся рядом по времени, имеют схожие значения. Заполним пропуски, используя метод *'ffill'*, который заменит каждый пропуск значением, предшествующим ему."
   ]
  },
  {
   "cell_type": "code",
   "execution_count": 10,
   "metadata": {},
   "outputs": [],
   "source": [
    "df_train = df_train.fillna(method=\"ffill\")\n",
    "df_test = df_test.fillna(method=\"ffill\")\n",
    "df_full = df_full.fillna(method=\"ffill\")"
   ]
  },
  {
   "cell_type": "markdown",
   "metadata": {},
   "source": [
    "### Промежуточный вывод\n",
    "Мы подготовили данные для анализа. А именно:\n",
    "- Выявили столбцы, которых не хватает в тестовой выборке\n",
    "- Проверили эффективность обогащения\n",
    "- Заменили пропуски"
   ]
  },
  {
   "cell_type": "markdown",
   "metadata": {},
   "source": [
    "<a id=analys></a>\n",
    "## 2. Анализ данных"
   ]
  },
  {
   "cell_type": "markdown",
   "metadata": {},
   "source": [
    "Приступая к статистическому анализу, для начала мы сохраним списки столбцов в переменные для того, чтобы было удобно ими пользоваться, каждый раз не обращаясь к отдельному столбцу."
   ]
  },
  {
   "cell_type": "code",
   "execution_count": 11,
   "metadata": {},
   "outputs": [],
   "source": [
    "rougher_input = ['rougher.input.feed_ag', 'rougher.input.feed_pb', 'rougher.input.feed_au']\n",
    "rougher_output = ['rougher.output.concentrate_ag', 'rougher.output.concentrate_pb', 'rougher.output.concentrate_au']\n",
    "primary_cleaner = ['primary_cleaner.output.concentrate_ag', \n",
    "                   'primary_cleaner.output.concentrate_pb', \n",
    "                   'primary_cleaner.output.concentrate_au']\n",
    "secondary_cleaner = ['final.output.concentrate_ag', 'final.output.concentrate_pb', 'final.output.concentrate_au']"
   ]
  },
  {
   "cell_type": "code",
   "execution_count": 12,
   "metadata": {},
   "outputs": [],
   "source": [
    "columns_to_change = ['rougher.input.feed_ag', 'rougher.input.feed_pb', 'rougher.input.feed_au', \n",
    "                 'rougher.output.concentrate_ag', 'rougher.output.concentrate_pb', 'rougher.output.concentrate_au',\n",
    "                 'primary_cleaner.output.concentrate_ag', \n",
    "                   'primary_cleaner.output.concentrate_pb', \n",
    "                   'primary_cleaner.output.concentrate_au', \n",
    "                 'final.output.concentrate_ag', 'final.output.concentrate_pb', 'final.output.concentrate_au']"
   ]
  },
  {
   "cell_type": "markdown",
   "metadata": {},
   "source": [
    "<a id=auagpb></a>\n",
    "### 2.1  Концентрация металлов (Au, Ag, Pb) на различных этапах очистки. "
   ]
  },
  {
   "cell_type": "markdown",
   "metadata": {},
   "source": [
    "Рассчитаем концентрацию серебра на каждом из уровней очистки:\n",
    "- Исходное сырье (До флотации)\n",
    "- Черновой концентрат (После флотаци)\n",
    "- После первой степени очистки\n",
    "- После второй степени очистки (Финальный концентрат)"
   ]
  },
  {
   "cell_type": "code",
   "execution_count": 13,
   "metadata": {
    "scrolled": false
   },
   "outputs": [
    {
     "name": "stdout",
     "output_type": "stream",
     "text": [
      "Средняя концентрация серебра до флотации: 8.795\n",
      "После флотации: 11.995\n",
      "После первой степени очистки: 8.442\n",
      "После второй степени очистки: 5.168\n"
     ]
    },
    {
     "data": {
      "image/png": "[encoded data removed]",
      "text/plain": [
       "<Figure size 504x360 with 1 Axes>"
      ]
     },
     "metadata": {
      "needs_background": "light"
     },
     "output_type": "display_data"
    }
   ],
   "source": [
    "ag = pd.concat([df_full[rougher_input[0]], \n",
    "                df_full[rougher_output[0]], \n",
    "                df_full[primary_cleaner[0]],\n",
    "                df_full[secondary_cleaner[0]]], axis=1)\n",
    "ag.mean().plot(kind='bar', color='silver', grid=True, figsize=(7,5))\n",
    "\n",
    "plt.xticks(np.arange(4), ['До флотации', 'После флотации', 'Первая степень', 'Вторая степерь'], rotation=7)\n",
    "plt.xlabel(\"Степень очистки\")\n",
    "plt.ylabel(\"Концентрация серебра\")\n",
    "plt.title(\"Средняя концентрация серебра на разных степенях очистки\")\n",
    "\n",
    "print('Средняя концентрация серебра до флотации:', round(ag.mean()[0],3))\n",
    "print('После флотации:', round(ag.mean()[1],3))\n",
    "print('После первой степени очистки:', round(ag.mean()[2],3))\n",
    "print('После второй степени очистки:', round(ag.mean()[3],3))"
   ]
  },
  {
   "cell_type": "markdown",
   "metadata": {},
   "source": [
    "Можно заметить, что больше всего серебра в сырье имеется после флотации, а далее его концентрация падает.\n",
    "\n",
    "\n",
    "Теперь то же самое проверим с содержанием свинца в сырье"
   ]
  },
  {
   "cell_type": "code",
   "execution_count": 14,
   "metadata": {},
   "outputs": [
    {
     "name": "stdout",
     "output_type": "stream",
     "text": [
      "Средняя концентрация свинца до флотации: 3.585\n",
      "После флотации: 7.606\n",
      "После первой степени очистки: 9.81\n",
      "После второй степени очистки: 9.979\n"
     ]
    },
    {
     "data": {
      "image/png": "[encoded data removed]",
      "text/plain": [
       "<Figure size 504x360 with 1 Axes>"
      ]
     },
     "metadata": {
      "needs_background": "light"
     },
     "output_type": "display_data"
    }
   ],
   "source": [
    "pb = pd.concat([df_full[rougher_input[1]], \n",
    "                df_full[rougher_output[1]], \n",
    "                df_full[primary_cleaner[1]],\n",
    "                df_full[secondary_cleaner[1]]], axis=1)\n",
    "pb.mean().plot(kind='bar', color='grey', grid=True, figsize=(7,5))\n",
    "\n",
    "plt.xticks(np.arange(4), ['До флотации', 'После флотации', 'Первая степень', 'Вторая степерь'], rotation=7)\n",
    "plt.xlabel(\"Степень очистки\")\n",
    "plt.ylabel(\"Концентрация свинца\")\n",
    "plt.title(\"Средняя концентрация свинца на разных степенях очистки\")\n",
    "\n",
    "print('Средняя концентрация свинца до флотации:', round(pb.mean()[0],3))\n",
    "print('После флотации:', round(pb.mean()[1],3))\n",
    "print('После первой степени очистки:', round(pb.mean()[2],3))\n",
    "print('После второй степени очистки:', round(pb.mean()[3],3))"
   ]
  },
  {
   "cell_type": "markdown",
   "metadata": {},
   "source": [
    "Концентрация свинца постепенно повышается. После флотации она возрастает в 2 раза, далее растёт, но меньшими темпами.\n",
    "\n",
    "Проверим концентрацию золота"
   ]
  },
  {
   "cell_type": "code",
   "execution_count": 15,
   "metadata": {},
   "outputs": [
    {
     "name": "stdout",
     "output_type": "stream",
     "text": [
      "Средняя концентрация золота до флотации: 8.266\n",
      "После флотации: 19.772\n",
      "После первой степени очистки: 32.119\n",
      "После второй степени очистки: 44.077\n"
     ]
    },
    {
     "data": {
      "image/png": "[encoded data removed]",
      "text/plain": [
       "<Figure size 504x360 with 1 Axes>"
      ]
     },
     "metadata": {
      "needs_background": "light"
     },
     "output_type": "display_data"
    }
   ],
   "source": [
    "au = pd.concat([df_full[rougher_input[2]], \n",
    "                df_full[rougher_output[2]], \n",
    "                df_full[primary_cleaner[2]],\n",
    "                df_full[secondary_cleaner[2]]], axis=1)\n",
    "au.mean().plot(kind='bar', color='gold', grid=True, figsize=(7,5))\n",
    "\n",
    "plt.xticks(np.arange(4), ['До флотации', 'После флотации', 'Первая степень', 'Вторая степерь'], rotation=7)\n",
    "plt.xlabel(\"Степень очистки\")\n",
    "plt.ylabel(\"Концентрация золота\")\n",
    "plt.title(\"Средняя концентрация золота на разных степенях очистки\")\n",
    "\n",
    "print('Средняя концентрация золота до флотации:', round(au.mean()[0],3))\n",
    "print('После флотации:', round(au.mean()[1],3))\n",
    "print('После первой степени очистки:', round(au.mean()[2],3))\n",
    "print('После второй степени очистки:', round(au.mean()[3],3))"
   ]
  },
  {
   "cell_type": "markdown",
   "metadata": {},
   "source": [
    "Мы видим резкое повышение концентрации золота: финальный концентра содержит более чем в 5 раз больше золота, чем исходное сырьё."
   ]
  },
  {
   "cell_type": "markdown",
   "metadata": {},
   "source": [
    "<a id=size></a>\n",
    "### 2.2 Размер гранул сырья на обучающей и тестовой выборках"
   ]
  },
  {
   "cell_type": "markdown",
   "metadata": {},
   "source": [
    "Проверим размер гранул исходного сырья на разных выборках.\n"
   ]
  },
  {
   "cell_type": "code",
   "execution_count": 16,
   "metadata": {},
   "outputs": [
    {
     "name": "stdout",
     "output_type": "stream",
     "text": [
      "Медианный размер гранул сырья обучающей выборки: 55.27\n",
      "Медианный размер гранул сырья тестовой выборки: 50.847\n"
     ]
    },
    {
     "data": {
      "image/png": "[encoded data removed]",
      "text/plain": [
       "<Figure size 1152x576 with 1 Axes>"
      ]
     },
     "metadata": {
      "needs_background": "light"
     },
     "output_type": "display_data"
    }
   ],
   "source": [
    "feed_size = pd.Series(df_train['rougher.input.feed_size'].rename('Обучающая выборка'))\n",
    "feed_size = pd.concat((feed_size, df_test['rougher.input.feed_size'].rename('Тестовая выборка')), axis=1)\n",
    "feed_size.plot(kind='hist', grid=True, figsize=(16,8), bins=400, xlim=(0,150), density=True, alpha=0.6)\n",
    "plt.xlabel(\"Размер гранул сырья\")\n",
    "plt.ylabel(\"Частота\")\n",
    "plt.title(\"Частота значений с размерами гранул сырья на обучающей и тестовой выборках\");\n",
    "\n",
    "print('Медианный размер гранул сырья обучающей выборки:', round(feed_size['Обучающая выборка'].median(),3))\n",
    "print('Медианный размер гранул сырья тестовой выборки:', round(feed_size['Тестовая выборка'].median(),3))"
   ]
  },
  {
   "cell_type": "markdown",
   "metadata": {},
   "source": [
    "Распределение выглядит нормально, следовательно размеры гранул сырья имеют схожие значения, значит выборки поделены корректно, а модель будет работать правильно"
   ]
  },
  {
   "cell_type": "markdown",
   "metadata": {},
   "source": [
    "<a id=sumconc></a>\n",
    "### 2.3 Суммарные концентрации всех веществ на разных стадиях"
   ]
  },
  {
   "cell_type": "markdown",
   "metadata": {},
   "source": [
    "Проверим суммарные концентрации всех веществ на разных стадиях очистки, как мы делали отдельно с серебром, свинцом и золотом."
   ]
  },
  {
   "cell_type": "code",
   "execution_count": 17,
   "metadata": {
    "scrolled": false
   },
   "outputs": [
    {
     "data": {
      "image/png": "[encoded data removed]",
      "text/plain": [
       "<Figure size 1152x720 with 4 Axes>"
      ]
     },
     "metadata": {
      "needs_background": "light"
     },
     "output_type": "display_data"
    }
   ],
   "source": [
    "fig, ax = plt.subplots(2,2, figsize=(16,10))\n",
    "\n",
    "ax[0,0].hist((df_train['rougher.input.feed_ag'] + \\\n",
    " df_train['rougher.input.feed_pb'] + \\\n",
    " df_train['rougher.input.feed_au']+ \\\n",
    " df_train['rougher.input.feed_sol']), bins=50, color='r')\n",
    "ax[0,0].set_xlabel(\"Сумма\")\n",
    "ax[0,0].set_ylabel(\"Частота\")\n",
    "ax[0,0].set_title(\"Концентрация веществ до флотации\")\n",
    "\n",
    "ax[0,1].hist((df_train['rougher.output.concentrate_ag'] + \\\n",
    "         df_train['rougher.output.concentrate_pb'] + \\\n",
    "         df_train['rougher.output.concentrate_au'] + \\\n",
    "         df_train['rougher.output.concentrate_sol']), bins=50, color='gold')\n",
    "ax[0,1].set_xlabel(\"Сумма\")\n",
    "ax[0,1].set_ylabel(\"Частота\")\n",
    "ax[0,1].set_title(\"Концентрация веществ после флотации\")\n",
    "\n",
    "ax[1,0].hist((df_train['primary_cleaner.output.concentrate_ag'] + \\\n",
    "         df_train['primary_cleaner.output.concentrate_pb'] + \\\n",
    "         df_train['primary_cleaner.output.concentrate_au'] + \\\n",
    "         df_train['primary_cleaner.output.concentrate_sol']), bins=50, color='cyan')\n",
    "ax[1,0].set_xlabel(\"Сумма\")\n",
    "ax[1,0].set_ylabel(\"Частота\")\n",
    "ax[1,0].set_title(\"Концентрация веществ после первой степени очистки\")\n",
    "\n",
    "ax[1,1].hist((df_train['final.output.concentrate_ag'] + \\\n",
    "         df_train['final.output.concentrate_pb'] + \\\n",
    "         df_train['final.output.concentrate_au'] + \\\n",
    "         df_train['final.output.concentrate_sol']), bins=50, color='salmon')\n",
    "ax[1,1].set_xlabel(\"Сумма\")\n",
    "ax[1,1].set_ylabel(\"Частота\")\n",
    "ax[1,1].set_title(\"Концентрация веществ после второй степени очистки\")\n",
    "\n",
    "plt.tight_layout(pad=0.7);"
   ]
  },
  {
   "cell_type": "markdown",
   "metadata": {},
   "source": [
    "Мы видим, что существуют выборсы на отметке 0 - такой концентрации всех веществ ни на каком этапе быть не должно, поэтому нам необходимо их убрать."
   ]
  },
  {
   "cell_type": "code",
   "execution_count": 18,
   "metadata": {},
   "outputs": [],
   "source": [
    "df_train = df_train.drop(df_train[df_train['rougher.output.concentrate_pb'] <= 1].index)\n",
    "df_train = df_train.drop(df_train[df_train['primary_cleaner.output.concentrate_au'] <= 1].index)\n",
    "df_train = df_train.drop(df_test[df_train['rougher.input.feed_au'] <= 1].index)\n",
    "df_train = df_train.drop(df_train[df_train['final.output.concentrate_au'] <= 1].index)"
   ]
  },
  {
   "cell_type": "code",
   "execution_count": 19,
   "metadata": {},
   "outputs": [
    {
     "data": {
      "image/png": "[encoded data removed]",
      "text/plain": [
       "<Figure size 1152x720 with 4 Axes>"
      ]
     },
     "metadata": {
      "needs_background": "light"
     },
     "output_type": "display_data"
    }
   ],
   "source": [
    "fig, ax = plt.subplots(2,2, figsize=(16,10))\n",
    "\n",
    "ax[0,0].hist((df_train['rougher.input.feed_ag'] + \\\n",
    " df_train['rougher.input.feed_pb'] + \\\n",
    " df_train['rougher.input.feed_au']+ \\\n",
    " df_train['rougher.input.feed_sol']), bins=50, color='r')\n",
    "ax[0,0].set_xlabel(\"Сумма\")\n",
    "ax[0,0].set_ylabel(\"Частота\")\n",
    "ax[0,0].set_title(\"Концентрация веществ до флотации\")\n",
    "\n",
    "ax[0,1].hist((df_train['rougher.output.concentrate_ag'] + \\\n",
    "         df_train['rougher.output.concentrate_pb'] + \\\n",
    "         df_train['rougher.output.concentrate_au'] + \\\n",
    "         df_train['rougher.output.concentrate_sol']), bins=50, color='gold')\n",
    "ax[0,1].set_xlabel(\"Сумма\")\n",
    "ax[0,1].set_ylabel(\"Частота\")\n",
    "ax[0,1].set_title(\"Концентрация веществ после флотации\")\n",
    "\n",
    "ax[1,0].hist((df_train['primary_cleaner.output.concentrate_ag'] + \\\n",
    "         df_train['primary_cleaner.output.concentrate_pb'] + \\\n",
    "         df_train['primary_cleaner.output.concentrate_au'] + \\\n",
    "         df_train['primary_cleaner.output.concentrate_sol']), bins=50, color='cyan')\n",
    "ax[1,0].set_xlabel(\"Сумма\")\n",
    "ax[1,0].set_ylabel(\"Частота\")\n",
    "ax[1,0].set_title(\"Концентрация веществ после первой степени очистки\")\n",
    "\n",
    "ax[1,1].hist((df_train['final.output.concentrate_ag'] + \\\n",
    "         df_train['final.output.concentrate_pb'] + \\\n",
    "         df_train['final.output.concentrate_au'] + \\\n",
    "         df_train['final.output.concentrate_sol']), bins=50, color='salmon')\n",
    "ax[1,1].set_xlabel(\"Сумма\")\n",
    "ax[1,1].set_ylabel(\"Частота\")\n",
    "ax[1,1].set_title(\"Концентрация веществ после второй степени очистки\")\n",
    "\n",
    "plt.tight_layout(pad=0.7);"
   ]
  },
  {
   "cell_type": "markdown",
   "metadata": {},
   "source": [
    "Мы очистили обучающие данные от выбросов! Взглянем на размер получившейся тестовой выборки."
   ]
  },
  {
   "cell_type": "code",
   "execution_count": 20,
   "metadata": {},
   "outputs": [
    {
     "data": {
      "text/plain": [
       "(13592, 87)"
      ]
     },
     "execution_count": 20,
     "metadata": {},
     "output_type": "execute_result"
    }
   ],
   "source": [
    "df_train.shape"
   ]
  },
  {
   "cell_type": "markdown",
   "metadata": {},
   "source": [
    "<a id=models></a>\n",
    "# 3. Построение моделей"
   ]
  },
  {
   "cell_type": "markdown",
   "metadata": {},
   "source": [
    "<a id=func></a>\n",
    "### 3.1 Функция для вычисления sMAPE"
   ]
  },
  {
   "cell_type": "markdown",
   "metadata": {},
   "source": [
    "Нам необходимо построить функцию, которая бы рассчитывала **\"симметричное среднее абсолютное процентное отклонение\" (sMAPE)** , она, в отличие от MAE, выражатеся в относительных величинах и одинаково учитывает масштаб и целевого признака, и предсказания."
   ]
  },
  {
   "cell_type": "code",
   "execution_count": 21,
   "metadata": {},
   "outputs": [],
   "source": [
    "def smape(target, pred):\n",
    "    n = len(target)\n",
    "    smape = ((abs(target - pred)) / ((abs(target) + abs(pred)) / 2)).sum() * 100  / n\n",
    "    return smape"
   ]
  },
  {
   "cell_type": "code",
   "execution_count": 22,
   "metadata": {},
   "outputs": [],
   "source": [
    "smape_score = make_scorer(smape)"
   ]
  },
  {
   "cell_type": "markdown",
   "metadata": {},
   "source": [
    "Итоговое sMAPE - это отклонение, рассчитанное и по концентрации золота в черновом и в финальном концентрате."
   ]
  },
  {
   "cell_type": "code",
   "execution_count": 23,
   "metadata": {},
   "outputs": [],
   "source": [
    "def final_smape(smape_rougher, smape_final):\n",
    "    final_smape = 0.25 * smape_rougher + 0.75 * smape_final\n",
    "    return final_smape"
   ]
  },
  {
   "cell_type": "markdown",
   "metadata": {},
   "source": [
    "<a id=learn></a>\n",
    "### 3.2 Обучение моделей"
   ]
  },
  {
   "cell_type": "markdown",
   "metadata": {},
   "source": [
    "### Эффективность обогащения *чернового* концентрата `rougher.output.recovery`"
   ]
  },
  {
   "cell_type": "code",
   "execution_count": 24,
   "metadata": {
    "scrolled": false
   },
   "outputs": [],
   "source": [
    "features_train_rougher = df_train[columns_test].drop('date', axis=1)\n",
    "target_train_rougher = df_train['rougher.output.recovery']\n",
    "\n",
    "sc = StandardScaler()\n",
    "sc.fit(features_train_rougher)\n",
    "features_train_rougher = sc.transform(features_train_rougher)\n",
    "\n",
    "df_test = df_test.merge(df_full[columns_train], on='date', how='left')   #соединим таблицы по 'date'\n",
    "\n",
    "features_test_rougher = df_test[columns_test].drop('date', axis=1)\n",
    "target_test_rougher = df_test['rougher.output.recovery']\n",
    "\n",
    "\n",
    "features_test_rougher = sc.transform(features_test_rougher)   #масштабируем тестовые данные"
   ]
  },
  {
   "cell_type": "markdown",
   "metadata": {},
   "source": [
    "#### Решающее дерево"
   ]
  },
  {
   "cell_type": "code",
   "execution_count": null,
   "metadata": {
    "scrolled": true
   },
   "outputs": [],
   "source": [
    "%%time\n",
    "\n",
    "best_tree_rougher = None\n",
    "best_result_rougher = 1000\n",
    "best_depth = 0\n",
    "for depth in range(1, 5):\n",
    "    model = DecisionTreeRegressor(random_state=641, max_depth=depth)\n",
    "    model.fit(features_train_rougher, target_train_rougher)\n",
    "    result = cross_val_score(model, features_train_rougher, target_train_rougher, cv=5, scoring=smape_score).mean()\n",
    "    if abs(result) < abs(best_result_rougher):\n",
    "        best_tree_rougher = model\n",
    "        best_result_rougher = result\n",
    "        best_depth = depth\n",
    "print('Лучшая модель:', best_tree_rougher, 'Лучший результат:', round(best_result_rougher,3))"
   ]
  },
  {
   "cell_type": "markdown",
   "metadata": {},
   "source": [
    "#### Случайный лес"
   ]
  },
  {
   "cell_type": "code",
   "execution_count": 29,
   "metadata": {},
   "outputs": [
    {
     "name": "stdout",
     "output_type": "stream",
     "text": [
      "Лучшая модель: RandomForestRegressor(max_depth=6, n_estimators=20, random_state=641) Лучший результат: 6.331\n",
      "CPU times: user 1min 49s, sys: 298 ms, total: 1min 50s\n",
      "Wall time: 1min 53s\n"
     ]
    }
   ],
   "source": [
    "%%time\n",
    "\n",
    "best_forest_rougher = None\n",
    "best_result_rougher = 1000\n",
    "best_depth = 0\n",
    "for depth in range(1, 8):\n",
    "    model = RandomForestRegressor(random_state=641, max_depth=depth, n_estimators=20)\n",
    "    model.fit(features_train_rougher, target_train_rougher)\n",
    "    result = cross_val_score(model, features_train_rougher, target_train_rougher, cv=5, scoring=smape_score).mean()\n",
    "    if abs(result) < abs(best_result_rougher):\n",
    "        best_forest_rougher = model\n",
    "        best_result_rougher = result\n",
    "        best_depth = depth\n",
    "print('Лучшая модель:', best_forest_rougher, 'Лучший результат:', round(best_result_rougher,3))"
   ]
  },
  {
   "cell_type": "code",
   "execution_count": 30,
   "metadata": {},
   "outputs": [
    {
     "name": "stdout",
     "output_type": "stream",
     "text": [
      "Лучшая модель: RandomForestRegressor(max_depth=6, n_estimators=13, random_state=641) Лучший результат: 6.32\n",
      "CPU times: user 8min 9s, sys: 1.92 s, total: 8min 11s\n",
      "Wall time: 8min 15s\n"
     ]
    }
   ],
   "source": [
    "%%time\n",
    "best_est = 0\n",
    "for est in range(1, 55, 4):\n",
    "    model = RandomForestRegressor(random_state=641, max_depth=best_depth, n_estimators=est)\n",
    "    model.fit(features_train_rougher, target_train_rougher)\n",
    "    result = cross_val_score(model, features_train_rougher, target_train_rougher, cv=5, scoring=smape_score).mean()\n",
    "    if abs(result) < abs(best_result_rougher):\n",
    "        best_forest_rougher = model\n",
    "        best_result_rougher = result\n",
    "        best_depth = depth\n",
    "print('Лучшая модель:', best_forest_rougher, 'Лучший результат:', round(best_result_rougher,3))"
   ]
  },
  {
   "cell_type": "markdown",
   "metadata": {},
   "source": [
    "#### Линейная регрессия"
   ]
  },
  {
   "cell_type": "code",
   "execution_count": null,
   "metadata": {},
   "outputs": [],
   "source": [
    "%%time\n",
    "\n",
    "model_rougher = LinearRegression()\n",
    "model.fit(features_train_rougher, target_train_rougher)\n",
    "result = cross_val_score(model_rougher, features_train_rougher, target_train_rougher, cv=5, scoring=smape_score).mean()\n",
    "print('Лучший результат:', round(result,3))"
   ]
  },
  {
   "cell_type": "markdown",
   "metadata": {},
   "source": [
    "### Промежуточный результат\n",
    "Лучший результат по черновому сырью наблюдается у Случайного леса - 6.172."
   ]
  },
  {
   "cell_type": "markdown",
   "metadata": {},
   "source": [
    "### Эффективность обогащения *финального* концентрата `final.output.recovery`"
   ]
  },
  {
   "cell_type": "markdown",
   "metadata": {},
   "source": [
    "Разделим df_train на обучающую и валидационную выборки."
   ]
  },
  {
   "cell_type": "code",
   "execution_count": 25,
   "metadata": {},
   "outputs": [],
   "source": [
    "features_train_final = df_train[columns_test].drop('date', axis=1)\n",
    "target_train_final = df_train['final.output.recovery']\n",
    "\n",
    "sc = StandardScaler()\n",
    "sc.fit(features_train_final)\n",
    "features_train_final = sc.fit_transform(features_train_final)\n",
    "\n",
    "features_test_final = df_test[columns_test].drop('date', axis=1)\n",
    "target_test_final = df_test['final.output.recovery']\n",
    "\n",
    "features_test_final = sc.fit_transform(features_test_final)"
   ]
  },
  {
   "cell_type": "markdown",
   "metadata": {},
   "source": [
    "#### Решающее дерево"
   ]
  },
  {
   "cell_type": "code",
   "execution_count": null,
   "metadata": {
    "scrolled": false
   },
   "outputs": [],
   "source": [
    "%%time\n",
    "\n",
    "best_tree_final = None\n",
    "best_result_final = 1000\n",
    "best_depth = 0\n",
    "for depth in range(1, 7):\n",
    "    model = DecisionTreeRegressor(random_state=641, max_depth=depth)\n",
    "    model.fit(features_train_final, target_train_final)\n",
    "    result = cross_val_score(model, features_train_final, target_train_final, cv=5, scoring=smape_score).mean()\n",
    "    if abs(result) < abs(best_result_final):\n",
    "        best_tree_final = model\n",
    "        best_result_final = result\n",
    "        best_depth = depth\n",
    "print('Лучшая модель:', best_tree_final, 'Лучший результат:', round(best_result_final,3))"
   ]
  },
  {
   "cell_type": "markdown",
   "metadata": {},
   "source": [
    "#### Случайный лес"
   ]
  },
  {
   "cell_type": "code",
   "execution_count": 26,
   "metadata": {},
   "outputs": [
    {
     "name": "stdout",
     "output_type": "stream",
     "text": [
      "Лучшая модель: RandomForestRegressor(max_depth=4, n_estimators=20, random_state=641) Лучший результат: 8.945\n",
      "CPU times: user 1min 52s, sys: 447 ms, total: 1min 53s\n",
      "Wall time: 1min 55s\n"
     ]
    }
   ],
   "source": [
    "%%time\n",
    "\n",
    "best_forest_final = None\n",
    "best_result_final = 1000\n",
    "best_depth = 0\n",
    "for depth in range(1, 8):\n",
    "    model = RandomForestRegressor(random_state=641, max_depth=depth, n_estimators=20)\n",
    "    model.fit(features_train_final, target_train_final)\n",
    "    result = cross_val_score(model, features_train_final, target_train_final, cv=5, scoring=smape_score).mean()\n",
    "    if abs(result) < abs(best_result_final):\n",
    "        best_forest_final = model\n",
    "        best_result_final = result\n",
    "        best_depth = depth\n",
    "print('Лучшая модель:', best_forest_final, 'Лучший результат:', round(best_result_final,3))"
   ]
  },
  {
   "cell_type": "code",
   "execution_count": 27,
   "metadata": {},
   "outputs": [
    {
     "name": "stdout",
     "output_type": "stream",
     "text": [
      "Лучшая модель: RandomForestRegressor(max_depth=4, n_estimators=11, random_state=641) Лучший результат: 8.909\n",
      "CPU times: user 7min 29s, sys: 1.96 s, total: 7min 31s\n",
      "Wall time: 7min 37s\n"
     ]
    }
   ],
   "source": [
    "%%time\n",
    "\n",
    "best_est = 0\n",
    "for est in range(1, 61, 5):\n",
    "    model = RandomForestRegressor(random_state=641, max_depth=best_depth, n_estimators=est)\n",
    "    model.fit(features_train_final, target_train_final)\n",
    "    result = cross_val_score(model, features_train_final, target_train_final, cv=5, scoring=smape_score).mean()\n",
    "    if abs(result) < abs(best_result_final):\n",
    "        best_forest_final = model\n",
    "        best_result_final = result\n",
    "        best_depth = depth\n",
    "print('Лучшая модель:', best_forest_final, 'Лучший результат:', round(best_result_final,3))"
   ]
  },
  {
   "cell_type": "markdown",
   "metadata": {},
   "source": [
    "#### Линейная регрессия"
   ]
  },
  {
   "cell_type": "code",
   "execution_count": null,
   "metadata": {},
   "outputs": [],
   "source": [
    "model_final = LinearRegression()\n",
    "model.fit(features_train_final, target_train_final)\n",
    "result = cross_val_score(model_final, features_train_final, target_train_final, cv=5, scoring=smape_score).mean()\n",
    "print(round(result,3))"
   ]
  },
  {
   "cell_type": "markdown",
   "metadata": {},
   "source": [
    "### Промежуточный результат\n",
    "Лучший результат по финальному концентрату наблюдается у Случайного леса - 8.712"
   ]
  },
  {
   "cell_type": "markdown",
   "metadata": {},
   "source": [
    "<a id=finalsMAPE></a>\n",
    "### 3.2 sMAPE"
   ]
  },
  {
   "cell_type": "markdown",
   "metadata": {},
   "source": [
    "Рассчитаем sMAPE по каждой выборке, используя самые точные модели на каждом этапе."
   ]
  },
  {
   "cell_type": "code",
   "execution_count": 31,
   "metadata": {},
   "outputs": [
    {
     "name": "stdout",
     "output_type": "stream",
     "text": [
      "sMAPE чернового концентрата на тестовой выборке: 7.996780916342842\n",
      "============================================\n",
      "sMAPE final чернового концентрата на тестовой выборке: 10.226411515957887\n"
     ]
    }
   ],
   "source": [
    "predicted_test = best_forest_rougher.predict(features_test_rougher) \n",
    "smape_rougher = smape(target_test_rougher, predicted_test)\n",
    "print('sMAPE чернового концентрата на тестовой выборке:', smape_rougher)\n",
    " \n",
    "print('============================================')\n",
    "\n",
    "predicted_test = best_forest_final.predict(features_test_final) \n",
    "smape_final = smape(target_test_final, predicted_test)\n",
    "print('sMAPE final чернового концентрата на тестовой выборке:', smape_final)"
   ]
  },
  {
   "cell_type": "markdown",
   "metadata": {},
   "source": [
    "Теперь рассчитаем итоговое симметричное среднее абсолютное процентное отклонение."
   ]
  },
  {
   "cell_type": "code",
   "execution_count": 32,
   "metadata": {},
   "outputs": [
    {
     "name": "stdout",
     "output_type": "stream",
     "text": [
      "Итоговое sMAPE на тестовой выборке: 9.669\n"
     ]
    }
   ],
   "source": [
    "print('Итоговое sMAPE на тестовой выборке:', round(final_smape(smape_rougher, smape_final),3))"
   ]
  },
  {
   "cell_type": "markdown",
   "metadata": {},
   "source": [
    "Сравним получившийся результат с константной моделью."
   ]
  },
  {
   "cell_type": "code",
   "execution_count": 33,
   "metadata": {},
   "outputs": [
    {
     "name": "stdout",
     "output_type": "stream",
     "text": [
      "sMAPE константной модели равен  9.414\n"
     ]
    }
   ],
   "source": [
    "dummy_1 = DummyRegressor(strategy=\"median\")\n",
    "dummy_1.fit(features_train_rougher,target_train_rougher)\n",
    "pred_dummy_rougher = dummy_1.predict(features_test_rougher)\n",
    "\n",
    "dummy_2 = DummyRegressor(strategy=\"median\")\n",
    "dummy_2.fit(features_train_final,target_train_final)\n",
    "pred_dummy_final = dummy_2.predict(features_test_rougher)\n",
    "print('sMAPE константной модели равен ',\n",
    "      round(final_smape(smape(target_test_rougher, pred_dummy_rougher), smape(target_test_final, pred_dummy_final)),3))"
   ]
  },
  {
   "cell_type": "markdown",
   "metadata": {},
   "source": [
    "## Общий вывод\n",
    "\n",
    "В нашем проекте мы исследовали процесс очистки золотой руды и смогли частично проанализировать его:\n",
    "- провели предобработку данных (устранили пропуски)\n",
    "- проверили эффективность обогащения\n",
    "- мы проанализировали концентрации веществ на каждой степени обработки сырья\n",
    "- сравнили их друг с другом\n",
    "- рассмотрели распределения размеров гранул сырья на разных выборках\n",
    "- обучили модели, способные предсказывать коэффициент восстановления золота из золотосодержащей руды с точностью до **9.8%**."
   ]
  }
 ],
 "metadata": {
  "ExecuteTimeLog": [
   {
    "duration": 2013,
    "start_time": "2022-12-16T11:13:43.109Z"
   },
   {
    "duration": 745,
    "start_time": "2022-12-16T11:13:45.125Z"
   },
   {
    "duration": 5,
    "start_time": "2022-12-16T11:13:45.872Z"
   },
   {
    "duration": 485,
    "start_time": "2022-12-16T11:13:45.879Z"
   },
   {
    "duration": 232,
    "start_time": "2022-12-16T11:13:46.367Z"
   },
   {
    "duration": 455,
    "start_time": "2022-12-16T11:13:46.601Z"
   },
   {
    "duration": 10,
    "start_time": "2022-12-16T11:13:47.058Z"
   },
   {
    "duration": 9,
    "start_time": "2022-12-16T11:13:47.070Z"
   },
   {
    "duration": 26,
    "start_time": "2022-12-16T11:13:47.081Z"
   },
   {
    "duration": 3,
    "start_time": "2022-12-16T11:13:47.109Z"
   },
   {
    "duration": 218,
    "start_time": "2022-12-16T11:13:47.114Z"
   },
   {
    "duration": 178,
    "start_time": "2022-12-16T11:13:47.334Z"
   },
   {
    "duration": 168,
    "start_time": "2022-12-16T11:13:47.514Z"
   },
   {
    "duration": 1646,
    "start_time": "2022-12-16T11:13:47.685Z"
   },
   {
    "duration": 354,
    "start_time": "2022-12-16T11:13:49.333Z"
   },
   {
    "duration": 7,
    "start_time": "2022-12-16T11:13:49.689Z"
   },
   {
    "duration": 11,
    "start_time": "2022-12-16T11:13:49.699Z"
   },
   {
    "duration": 43,
    "start_time": "2022-12-16T11:13:49.712Z"
   },
   {
    "duration": 26,
    "start_time": "2022-12-16T11:13:49.757Z"
   },
   {
    "duration": 25,
    "start_time": "2022-12-16T11:14:57.651Z"
   },
   {
    "duration": 151,
    "start_time": "2022-12-16T11:15:20.748Z"
   },
   {
    "duration": 23,
    "start_time": "2022-12-16T11:15:54.608Z"
   },
   {
    "duration": 15,
    "start_time": "2022-12-16T11:15:55.125Z"
   },
   {
    "duration": 2016,
    "start_time": "2022-12-20T09:22:16.567Z"
   },
   {
    "duration": 3027,
    "start_time": "2022-12-20T09:22:18.584Z"
   },
   {
    "duration": 4,
    "start_time": "2022-12-20T09:22:21.613Z"
   },
   {
    "duration": 425,
    "start_time": "2022-12-20T09:22:21.619Z"
   },
   {
    "duration": 191,
    "start_time": "2022-12-20T09:22:22.046Z"
   },
   {
    "duration": 392,
    "start_time": "2022-12-20T09:22:22.238Z"
   },
   {
    "duration": 10,
    "start_time": "2022-12-20T09:22:22.631Z"
   },
   {
    "duration": 20,
    "start_time": "2022-12-20T09:22:22.642Z"
   },
   {
    "duration": 41,
    "start_time": "2022-12-20T09:22:22.663Z"
   },
   {
    "duration": 15,
    "start_time": "2022-12-20T09:22:22.706Z"
   },
   {
    "duration": 216,
    "start_time": "2022-12-20T09:22:22.722Z"
   },
   {
    "duration": 146,
    "start_time": "2022-12-20T09:22:22.939Z"
   },
   {
    "duration": 221,
    "start_time": "2022-12-20T09:22:23.087Z"
   },
   {
    "duration": 1440,
    "start_time": "2022-12-20T09:22:23.310Z"
   },
   {
    "duration": 999,
    "start_time": "2022-12-20T09:22:24.752Z"
   },
   {
    "duration": 51,
    "start_time": "2022-12-20T09:22:25.752Z"
   },
   {
    "duration": 863,
    "start_time": "2022-12-20T09:22:25.805Z"
   },
   {
    "duration": 3,
    "start_time": "2022-12-20T09:22:26.670Z"
   },
   {
    "duration": 33,
    "start_time": "2022-12-20T09:22:26.675Z"
   },
   {
    "duration": 40,
    "start_time": "2022-12-20T09:22:26.710Z"
   },
   {
    "duration": 30,
    "start_time": "2022-12-20T09:22:26.752Z"
   },
   {
    "duration": 26,
    "start_time": "2022-12-20T09:22:26.783Z"
   },
   {
    "duration": 22,
    "start_time": "2022-12-20T09:28:22.597Z"
   },
   {
    "duration": 9717,
    "start_time": "2022-12-20T09:28:24.423Z"
   },
   {
    "duration": 9519,
    "start_time": "2022-12-20T09:28:46.013Z"
   },
   {
    "duration": 26312,
    "start_time": "2022-12-20T09:30:09.065Z"
   },
   {
    "duration": 39044,
    "start_time": "2022-12-20T09:30:42.975Z"
   },
   {
    "duration": 40635,
    "start_time": "2022-12-20T09:31:42.796Z"
   },
   {
    "duration": 21,
    "start_time": "2022-12-20T09:34:30.726Z"
   },
   {
    "duration": 1487,
    "start_time": "2022-12-21T04:19:19.929Z"
   },
   {
    "duration": 1827,
    "start_time": "2022-12-21T04:19:21.418Z"
   },
   {
    "duration": 4,
    "start_time": "2022-12-21T04:19:23.247Z"
   },
   {
    "duration": 413,
    "start_time": "2022-12-21T04:19:23.253Z"
   },
   {
    "duration": 195,
    "start_time": "2022-12-21T04:19:23.667Z"
   },
   {
    "duration": 464,
    "start_time": "2022-12-21T04:19:23.864Z"
   },
   {
    "duration": 7,
    "start_time": "2022-12-21T04:19:24.330Z"
   },
   {
    "duration": 5,
    "start_time": "2022-12-21T04:19:24.338Z"
   },
   {
    "duration": 5,
    "start_time": "2022-12-21T04:19:24.344Z"
   },
   {
    "duration": 21,
    "start_time": "2022-12-21T04:19:24.351Z"
   },
   {
    "duration": 3,
    "start_time": "2022-12-21T04:19:24.373Z"
   },
   {
    "duration": 191,
    "start_time": "2022-12-21T04:19:24.377Z"
   },
   {
    "duration": 153,
    "start_time": "2022-12-21T04:19:24.569Z"
   },
   {
    "duration": 196,
    "start_time": "2022-12-21T04:19:24.723Z"
   },
   {
    "duration": 1501,
    "start_time": "2022-12-21T04:19:24.921Z"
   },
   {
    "duration": 930,
    "start_time": "2022-12-21T04:19:26.423Z"
   },
   {
    "duration": 26,
    "start_time": "2022-12-21T04:19:27.354Z"
   },
   {
    "duration": 850,
    "start_time": "2022-12-21T04:19:27.381Z"
   },
   {
    "duration": 3,
    "start_time": "2022-12-21T04:19:28.232Z"
   },
   {
    "duration": 6,
    "start_time": "2022-12-21T04:19:28.237Z"
   },
   {
    "duration": 4,
    "start_time": "2022-12-21T04:19:28.245Z"
   },
   {
    "duration": 13,
    "start_time": "2022-12-21T04:19:28.251Z"
   },
   {
    "duration": 129,
    "start_time": "2022-12-21T04:19:28.266Z"
   },
   {
    "duration": 0,
    "start_time": "2022-12-21T04:19:28.397Z"
   },
   {
    "duration": 0,
    "start_time": "2022-12-21T04:19:28.398Z"
   },
   {
    "duration": 0,
    "start_time": "2022-12-21T04:19:28.399Z"
   },
   {
    "duration": 0,
    "start_time": "2022-12-21T04:19:28.401Z"
   },
   {
    "duration": 0,
    "start_time": "2022-12-21T04:19:28.402Z"
   },
   {
    "duration": 0,
    "start_time": "2022-12-21T04:19:28.403Z"
   },
   {
    "duration": 0,
    "start_time": "2022-12-21T04:19:28.421Z"
   },
   {
    "duration": 0,
    "start_time": "2022-12-21T04:19:28.423Z"
   },
   {
    "duration": 0,
    "start_time": "2022-12-21T04:19:28.424Z"
   },
   {
    "duration": 0,
    "start_time": "2022-12-21T04:19:28.425Z"
   },
   {
    "duration": 0,
    "start_time": "2022-12-21T04:19:28.425Z"
   },
   {
    "duration": 0,
    "start_time": "2022-12-21T04:19:28.427Z"
   },
   {
    "duration": 24,
    "start_time": "2022-12-21T04:20:30.716Z"
   },
   {
    "duration": 18,
    "start_time": "2022-12-21T04:25:59.801Z"
   },
   {
    "duration": 24,
    "start_time": "2022-12-21T04:26:15.621Z"
   },
   {
    "duration": 1287,
    "start_time": "2022-12-21T04:27:08.165Z"
   },
   {
    "duration": 675,
    "start_time": "2022-12-21T04:27:09.454Z"
   },
   {
    "duration": 6,
    "start_time": "2022-12-21T04:27:10.131Z"
   },
   {
    "duration": 398,
    "start_time": "2022-12-21T04:27:10.139Z"
   },
   {
    "duration": 187,
    "start_time": "2022-12-21T04:27:10.538Z"
   },
   {
    "duration": 372,
    "start_time": "2022-12-21T04:27:10.726Z"
   },
   {
    "duration": 7,
    "start_time": "2022-12-21T04:27:11.099Z"
   },
   {
    "duration": 21,
    "start_time": "2022-12-21T04:27:11.107Z"
   },
   {
    "duration": 6,
    "start_time": "2022-12-21T04:27:11.129Z"
   },
   {
    "duration": 21,
    "start_time": "2022-12-21T04:27:11.138Z"
   },
   {
    "duration": 3,
    "start_time": "2022-12-21T04:27:11.161Z"
   },
   {
    "duration": 175,
    "start_time": "2022-12-21T04:27:11.166Z"
   },
   {
    "duration": 146,
    "start_time": "2022-12-21T04:27:11.344Z"
   },
   {
    "duration": 222,
    "start_time": "2022-12-21T04:27:11.491Z"
   },
   {
    "duration": 1441,
    "start_time": "2022-12-21T04:27:11.714Z"
   },
   {
    "duration": 843,
    "start_time": "2022-12-21T04:27:13.156Z"
   },
   {
    "duration": 31,
    "start_time": "2022-12-21T04:27:14.001Z"
   },
   {
    "duration": 871,
    "start_time": "2022-12-21T04:27:14.034Z"
   },
   {
    "duration": 3,
    "start_time": "2022-12-21T04:27:14.907Z"
   },
   {
    "duration": 12,
    "start_time": "2022-12-21T04:27:14.912Z"
   },
   {
    "duration": 4,
    "start_time": "2022-12-21T04:27:14.926Z"
   },
   {
    "duration": 34,
    "start_time": "2022-12-21T04:27:14.932Z"
   },
   {
    "duration": 111,
    "start_time": "2022-12-21T04:27:14.968Z"
   },
   {
    "duration": 0,
    "start_time": "2022-12-21T04:27:15.080Z"
   },
   {
    "duration": 0,
    "start_time": "2022-12-21T04:27:15.082Z"
   },
   {
    "duration": 1,
    "start_time": "2022-12-21T04:27:15.083Z"
   },
   {
    "duration": 0,
    "start_time": "2022-12-21T04:27:15.084Z"
   },
   {
    "duration": 0,
    "start_time": "2022-12-21T04:27:15.086Z"
   },
   {
    "duration": 0,
    "start_time": "2022-12-21T04:27:15.087Z"
   },
   {
    "duration": 0,
    "start_time": "2022-12-21T04:27:15.088Z"
   },
   {
    "duration": 0,
    "start_time": "2022-12-21T04:27:15.089Z"
   },
   {
    "duration": 0,
    "start_time": "2022-12-21T04:27:15.091Z"
   },
   {
    "duration": 0,
    "start_time": "2022-12-21T04:27:15.092Z"
   },
   {
    "duration": 0,
    "start_time": "2022-12-21T04:27:15.093Z"
   },
   {
    "duration": 0,
    "start_time": "2022-12-21T04:27:15.094Z"
   },
   {
    "duration": 19,
    "start_time": "2022-12-21T04:27:40.575Z"
   },
   {
    "duration": 1296,
    "start_time": "2022-12-21T04:27:46.646Z"
   },
   {
    "duration": 665,
    "start_time": "2022-12-21T04:27:47.944Z"
   },
   {
    "duration": 5,
    "start_time": "2022-12-21T04:27:48.610Z"
   },
   {
    "duration": 405,
    "start_time": "2022-12-21T04:27:48.617Z"
   },
   {
    "duration": 201,
    "start_time": "2022-12-21T04:27:49.024Z"
   },
   {
    "duration": 376,
    "start_time": "2022-12-21T04:27:49.227Z"
   },
   {
    "duration": 20,
    "start_time": "2022-12-21T04:27:49.604Z"
   },
   {
    "duration": 5,
    "start_time": "2022-12-21T04:27:49.626Z"
   },
   {
    "duration": 9,
    "start_time": "2022-12-21T04:27:49.633Z"
   },
   {
    "duration": 21,
    "start_time": "2022-12-21T04:27:49.645Z"
   },
   {
    "duration": 4,
    "start_time": "2022-12-21T04:27:49.667Z"
   },
   {
    "duration": 192,
    "start_time": "2022-12-21T04:27:49.673Z"
   },
   {
    "duration": 131,
    "start_time": "2022-12-21T04:27:49.867Z"
   },
   {
    "duration": 208,
    "start_time": "2022-12-21T04:27:49.999Z"
   },
   {
    "duration": 1478,
    "start_time": "2022-12-21T04:27:50.209Z"
   },
   {
    "duration": 862,
    "start_time": "2022-12-21T04:27:51.689Z"
   },
   {
    "duration": 27,
    "start_time": "2022-12-21T04:27:52.553Z"
   },
   {
    "duration": 888,
    "start_time": "2022-12-21T04:27:52.581Z"
   },
   {
    "duration": 4,
    "start_time": "2022-12-21T04:27:53.471Z"
   },
   {
    "duration": 7,
    "start_time": "2022-12-21T04:27:53.476Z"
   },
   {
    "duration": 6,
    "start_time": "2022-12-21T04:27:53.484Z"
   },
   {
    "duration": 136,
    "start_time": "2022-12-21T04:27:53.491Z"
   },
   {
    "duration": 0,
    "start_time": "2022-12-21T04:27:53.628Z"
   },
   {
    "duration": 0,
    "start_time": "2022-12-21T04:27:53.630Z"
   },
   {
    "duration": 0,
    "start_time": "2022-12-21T04:27:53.631Z"
   },
   {
    "duration": 0,
    "start_time": "2022-12-21T04:27:53.632Z"
   },
   {
    "duration": 0,
    "start_time": "2022-12-21T04:27:53.633Z"
   },
   {
    "duration": 0,
    "start_time": "2022-12-21T04:27:53.634Z"
   },
   {
    "duration": 0,
    "start_time": "2022-12-21T04:27:53.635Z"
   },
   {
    "duration": 0,
    "start_time": "2022-12-21T04:27:53.636Z"
   },
   {
    "duration": 0,
    "start_time": "2022-12-21T04:27:53.638Z"
   },
   {
    "duration": 0,
    "start_time": "2022-12-21T04:27:53.639Z"
   },
   {
    "duration": 0,
    "start_time": "2022-12-21T04:27:53.640Z"
   },
   {
    "duration": 0,
    "start_time": "2022-12-21T04:27:53.641Z"
   },
   {
    "duration": 0,
    "start_time": "2022-12-21T04:27:53.642Z"
   },
   {
    "duration": 30,
    "start_time": "2022-12-21T04:29:01.098Z"
   },
   {
    "duration": 32,
    "start_time": "2022-12-21T04:29:08.240Z"
   },
   {
    "duration": 16,
    "start_time": "2022-12-21T04:29:28.730Z"
   },
   {
    "duration": 9,
    "start_time": "2022-12-21T04:31:07.203Z"
   },
   {
    "duration": 5,
    "start_time": "2022-12-21T04:31:16.296Z"
   },
   {
    "duration": 21,
    "start_time": "2022-12-21T04:31:28.869Z"
   },
   {
    "duration": 13,
    "start_time": "2022-12-21T04:31:32.035Z"
   },
   {
    "duration": 13,
    "start_time": "2022-12-21T04:32:04.808Z"
   },
   {
    "duration": 28,
    "start_time": "2022-12-21T04:32:32.970Z"
   },
   {
    "duration": 42,
    "start_time": "2022-12-21T04:32:46.869Z"
   },
   {
    "duration": 1436,
    "start_time": "2022-12-21T04:33:32.821Z"
   },
   {
    "duration": 736,
    "start_time": "2022-12-21T04:33:34.260Z"
   },
   {
    "duration": 5,
    "start_time": "2022-12-21T04:33:34.997Z"
   },
   {
    "duration": 411,
    "start_time": "2022-12-21T04:33:35.004Z"
   },
   {
    "duration": 189,
    "start_time": "2022-12-21T04:33:35.421Z"
   },
   {
    "duration": 418,
    "start_time": "2022-12-21T04:33:35.622Z"
   },
   {
    "duration": 7,
    "start_time": "2022-12-21T04:33:36.042Z"
   },
   {
    "duration": 5,
    "start_time": "2022-12-21T04:33:36.050Z"
   },
   {
    "duration": 12,
    "start_time": "2022-12-21T04:33:36.056Z"
   },
   {
    "duration": 23,
    "start_time": "2022-12-21T04:33:36.071Z"
   },
   {
    "duration": 2,
    "start_time": "2022-12-21T04:33:36.096Z"
   },
   {
    "duration": 181,
    "start_time": "2022-12-21T04:33:36.100Z"
   },
   {
    "duration": 155,
    "start_time": "2022-12-21T04:33:36.283Z"
   },
   {
    "duration": 222,
    "start_time": "2022-12-21T04:33:36.439Z"
   },
   {
    "duration": 1445,
    "start_time": "2022-12-21T04:33:36.663Z"
   },
   {
    "duration": 849,
    "start_time": "2022-12-21T04:33:38.110Z"
   },
   {
    "duration": 26,
    "start_time": "2022-12-21T04:33:38.960Z"
   },
   {
    "duration": 856,
    "start_time": "2022-12-21T04:33:38.987Z"
   },
   {
    "duration": 4,
    "start_time": "2022-12-21T04:33:39.846Z"
   },
   {
    "duration": 10,
    "start_time": "2022-12-21T04:33:39.851Z"
   },
   {
    "duration": 15,
    "start_time": "2022-12-21T04:33:39.863Z"
   },
   {
    "duration": 26,
    "start_time": "2022-12-21T04:33:39.880Z"
   },
   {
    "duration": 105,
    "start_time": "2022-12-21T04:33:39.908Z"
   },
   {
    "duration": 0,
    "start_time": "2022-12-21T04:33:40.014Z"
   },
   {
    "duration": 0,
    "start_time": "2022-12-21T04:33:40.016Z"
   },
   {
    "duration": 0,
    "start_time": "2022-12-21T04:33:40.017Z"
   },
   {
    "duration": 0,
    "start_time": "2022-12-21T04:33:40.022Z"
   },
   {
    "duration": 0,
    "start_time": "2022-12-21T04:33:40.023Z"
   },
   {
    "duration": 0,
    "start_time": "2022-12-21T04:33:40.024Z"
   },
   {
    "duration": 0,
    "start_time": "2022-12-21T04:33:40.025Z"
   },
   {
    "duration": 0,
    "start_time": "2022-12-21T04:33:40.026Z"
   },
   {
    "duration": 0,
    "start_time": "2022-12-21T04:33:40.028Z"
   },
   {
    "duration": 0,
    "start_time": "2022-12-21T04:33:40.028Z"
   },
   {
    "duration": 0,
    "start_time": "2022-12-21T04:33:40.029Z"
   },
   {
    "duration": 0,
    "start_time": "2022-12-21T04:33:40.030Z"
   },
   {
    "duration": 4,
    "start_time": "2022-12-21T04:35:38.548Z"
   },
   {
    "duration": 15,
    "start_time": "2022-12-21T04:36:39.326Z"
   },
   {
    "duration": 15,
    "start_time": "2022-12-21T04:37:23.842Z"
   },
   {
    "duration": 1386,
    "start_time": "2022-12-21T04:38:53.667Z"
   },
   {
    "duration": 654,
    "start_time": "2022-12-21T04:38:55.055Z"
   },
   {
    "duration": 12,
    "start_time": "2022-12-21T04:38:55.711Z"
   },
   {
    "duration": 404,
    "start_time": "2022-12-21T04:38:55.725Z"
   },
   {
    "duration": 200,
    "start_time": "2022-12-21T04:38:56.130Z"
   },
   {
    "duration": 380,
    "start_time": "2022-12-21T04:38:56.332Z"
   },
   {
    "duration": 8,
    "start_time": "2022-12-21T04:38:56.722Z"
   },
   {
    "duration": 7,
    "start_time": "2022-12-21T04:38:56.731Z"
   },
   {
    "duration": 6,
    "start_time": "2022-12-21T04:38:56.740Z"
   },
   {
    "duration": 23,
    "start_time": "2022-12-21T04:38:56.748Z"
   },
   {
    "duration": 3,
    "start_time": "2022-12-21T04:38:56.772Z"
   },
   {
    "duration": 190,
    "start_time": "2022-12-21T04:38:56.777Z"
   },
   {
    "duration": 149,
    "start_time": "2022-12-21T04:38:56.968Z"
   },
   {
    "duration": 217,
    "start_time": "2022-12-21T04:38:57.119Z"
   },
   {
    "duration": 1441,
    "start_time": "2022-12-21T04:38:57.338Z"
   },
   {
    "duration": 844,
    "start_time": "2022-12-21T04:38:58.781Z"
   },
   {
    "duration": 25,
    "start_time": "2022-12-21T04:38:59.627Z"
   },
   {
    "duration": 881,
    "start_time": "2022-12-21T04:38:59.654Z"
   },
   {
    "duration": 4,
    "start_time": "2022-12-21T04:39:00.536Z"
   },
   {
    "duration": 21,
    "start_time": "2022-12-21T04:39:00.541Z"
   },
   {
    "duration": 19,
    "start_time": "2022-12-21T04:39:00.563Z"
   },
   {
    "duration": 171,
    "start_time": "2022-12-21T04:39:00.584Z"
   },
   {
    "duration": 0,
    "start_time": "2022-12-21T04:39:00.757Z"
   },
   {
    "duration": 0,
    "start_time": "2022-12-21T04:39:00.759Z"
   },
   {
    "duration": 0,
    "start_time": "2022-12-21T04:39:00.759Z"
   },
   {
    "duration": 0,
    "start_time": "2022-12-21T04:39:00.760Z"
   },
   {
    "duration": 0,
    "start_time": "2022-12-21T04:39:00.762Z"
   },
   {
    "duration": 0,
    "start_time": "2022-12-21T04:39:00.763Z"
   },
   {
    "duration": 0,
    "start_time": "2022-12-21T04:39:00.764Z"
   },
   {
    "duration": 0,
    "start_time": "2022-12-21T04:39:00.765Z"
   },
   {
    "duration": 0,
    "start_time": "2022-12-21T04:39:00.766Z"
   },
   {
    "duration": 0,
    "start_time": "2022-12-21T04:39:00.767Z"
   },
   {
    "duration": 0,
    "start_time": "2022-12-21T04:39:00.767Z"
   },
   {
    "duration": 0,
    "start_time": "2022-12-21T04:39:00.768Z"
   },
   {
    "duration": 19,
    "start_time": "2022-12-21T04:39:32.076Z"
   },
   {
    "duration": 24,
    "start_time": "2022-12-21T04:39:49.241Z"
   },
   {
    "duration": 25,
    "start_time": "2022-12-21T04:40:10.621Z"
   },
   {
    "duration": 34,
    "start_time": "2022-12-21T04:40:30.126Z"
   },
   {
    "duration": 53,
    "start_time": "2022-12-21T04:40:56.076Z"
   },
   {
    "duration": 5,
    "start_time": "2022-12-21T04:42:10.268Z"
   },
   {
    "duration": 5,
    "start_time": "2022-12-21T04:42:19.325Z"
   },
   {
    "duration": 1328,
    "start_time": "2022-12-21T04:42:29.637Z"
   },
   {
    "duration": 679,
    "start_time": "2022-12-21T04:42:30.967Z"
   },
   {
    "duration": 6,
    "start_time": "2022-12-21T04:42:31.648Z"
   },
   {
    "duration": 412,
    "start_time": "2022-12-21T04:42:31.656Z"
   },
   {
    "duration": 185,
    "start_time": "2022-12-21T04:42:32.069Z"
   },
   {
    "duration": 372,
    "start_time": "2022-12-21T04:42:32.255Z"
   },
   {
    "duration": 8,
    "start_time": "2022-12-21T04:42:32.629Z"
   },
   {
    "duration": 6,
    "start_time": "2022-12-21T04:42:32.638Z"
   },
   {
    "duration": 7,
    "start_time": "2022-12-21T04:42:32.646Z"
   },
   {
    "duration": 22,
    "start_time": "2022-12-21T04:42:32.655Z"
   },
   {
    "duration": 3,
    "start_time": "2022-12-21T04:42:32.678Z"
   },
   {
    "duration": 178,
    "start_time": "2022-12-21T04:42:32.683Z"
   },
   {
    "duration": 147,
    "start_time": "2022-12-21T04:42:32.862Z"
   },
   {
    "duration": 207,
    "start_time": "2022-12-21T04:42:33.010Z"
   },
   {
    "duration": 1460,
    "start_time": "2022-12-21T04:42:33.222Z"
   },
   {
    "duration": 841,
    "start_time": "2022-12-21T04:42:34.684Z"
   },
   {
    "duration": 24,
    "start_time": "2022-12-21T04:42:35.527Z"
   },
   {
    "duration": 878,
    "start_time": "2022-12-21T04:42:35.553Z"
   },
   {
    "duration": 3,
    "start_time": "2022-12-21T04:42:36.433Z"
   },
   {
    "duration": 10,
    "start_time": "2022-12-21T04:42:36.438Z"
   },
   {
    "duration": 6,
    "start_time": "2022-12-21T04:42:36.450Z"
   },
   {
    "duration": 156,
    "start_time": "2022-12-21T04:42:36.458Z"
   },
   {
    "duration": 0,
    "start_time": "2022-12-21T04:42:36.616Z"
   },
   {
    "duration": 0,
    "start_time": "2022-12-21T04:42:36.622Z"
   },
   {
    "duration": 0,
    "start_time": "2022-12-21T04:42:36.623Z"
   },
   {
    "duration": 0,
    "start_time": "2022-12-21T04:42:36.624Z"
   },
   {
    "duration": 0,
    "start_time": "2022-12-21T04:42:36.625Z"
   },
   {
    "duration": 0,
    "start_time": "2022-12-21T04:42:36.626Z"
   },
   {
    "duration": 0,
    "start_time": "2022-12-21T04:42:36.627Z"
   },
   {
    "duration": 0,
    "start_time": "2022-12-21T04:42:36.628Z"
   },
   {
    "duration": 0,
    "start_time": "2022-12-21T04:42:36.629Z"
   },
   {
    "duration": 0,
    "start_time": "2022-12-21T04:42:36.630Z"
   },
   {
    "duration": 0,
    "start_time": "2022-12-21T04:42:36.631Z"
   },
   {
    "duration": 0,
    "start_time": "2022-12-21T04:42:36.632Z"
   },
   {
    "duration": 5,
    "start_time": "2022-12-21T04:42:47.848Z"
   },
   {
    "duration": 3,
    "start_time": "2022-12-21T04:43:44.013Z"
   },
   {
    "duration": 5,
    "start_time": "2022-12-21T04:43:49.770Z"
   },
   {
    "duration": 5,
    "start_time": "2022-12-21T04:45:42.698Z"
   },
   {
    "duration": 2,
    "start_time": "2022-12-21T04:45:56.372Z"
   },
   {
    "duration": 5,
    "start_time": "2022-12-21T04:46:02.175Z"
   },
   {
    "duration": 59,
    "start_time": "2022-12-21T04:46:12.519Z"
   },
   {
    "duration": 13,
    "start_time": "2022-12-21T04:46:21.816Z"
   },
   {
    "duration": 13,
    "start_time": "2022-12-21T04:46:44.276Z"
   },
   {
    "duration": 1331,
    "start_time": "2022-12-21T04:46:56.114Z"
   },
   {
    "duration": 668,
    "start_time": "2022-12-21T04:46:57.447Z"
   },
   {
    "duration": 8,
    "start_time": "2022-12-21T04:46:58.116Z"
   },
   {
    "duration": 389,
    "start_time": "2022-12-21T04:46:58.126Z"
   },
   {
    "duration": 177,
    "start_time": "2022-12-21T04:46:58.522Z"
   },
   {
    "duration": 423,
    "start_time": "2022-12-21T04:46:58.700Z"
   },
   {
    "duration": 7,
    "start_time": "2022-12-21T04:46:59.125Z"
   },
   {
    "duration": 7,
    "start_time": "2022-12-21T04:46:59.133Z"
   },
   {
    "duration": 5,
    "start_time": "2022-12-21T04:46:59.142Z"
   },
   {
    "duration": 35,
    "start_time": "2022-12-21T04:46:59.149Z"
   },
   {
    "duration": 3,
    "start_time": "2022-12-21T04:46:59.186Z"
   },
   {
    "duration": 165,
    "start_time": "2022-12-21T04:46:59.191Z"
   },
   {
    "duration": 156,
    "start_time": "2022-12-21T04:46:59.357Z"
   },
   {
    "duration": 220,
    "start_time": "2022-12-21T04:46:59.515Z"
   },
   {
    "duration": 1446,
    "start_time": "2022-12-21T04:46:59.737Z"
   },
   {
    "duration": 872,
    "start_time": "2022-12-21T04:47:01.185Z"
   },
   {
    "duration": 24,
    "start_time": "2022-12-21T04:47:02.059Z"
   },
   {
    "duration": 833,
    "start_time": "2022-12-21T04:47:02.085Z"
   },
   {
    "duration": 3,
    "start_time": "2022-12-21T04:47:02.921Z"
   },
   {
    "duration": 7,
    "start_time": "2022-12-21T04:47:02.925Z"
   },
   {
    "duration": 5,
    "start_time": "2022-12-21T04:47:02.934Z"
   },
   {
    "duration": 115,
    "start_time": "2022-12-21T04:47:02.941Z"
   },
   {
    "duration": 0,
    "start_time": "2022-12-21T04:47:03.057Z"
   },
   {
    "duration": 0,
    "start_time": "2022-12-21T04:47:03.059Z"
   },
   {
    "duration": 0,
    "start_time": "2022-12-21T04:47:03.060Z"
   },
   {
    "duration": 0,
    "start_time": "2022-12-21T04:47:03.061Z"
   },
   {
    "duration": 0,
    "start_time": "2022-12-21T04:47:03.062Z"
   },
   {
    "duration": 0,
    "start_time": "2022-12-21T04:47:03.063Z"
   },
   {
    "duration": 0,
    "start_time": "2022-12-21T04:47:03.064Z"
   },
   {
    "duration": 0,
    "start_time": "2022-12-21T04:47:03.065Z"
   },
   {
    "duration": 0,
    "start_time": "2022-12-21T04:47:03.066Z"
   },
   {
    "duration": 0,
    "start_time": "2022-12-21T04:47:03.067Z"
   },
   {
    "duration": 0,
    "start_time": "2022-12-21T04:47:03.068Z"
   },
   {
    "duration": 0,
    "start_time": "2022-12-21T04:47:03.069Z"
   },
   {
    "duration": 4,
    "start_time": "2022-12-21T04:48:38.639Z"
   },
   {
    "duration": 55,
    "start_time": "2022-12-21T04:48:49.759Z"
   },
   {
    "duration": 1216,
    "start_time": "2022-12-21T04:48:59.868Z"
   },
   {
    "duration": 1243,
    "start_time": "2022-12-21T04:50:17.403Z"
   },
   {
    "duration": 27,
    "start_time": "2022-12-21T04:50:59.304Z"
   },
   {
    "duration": 5,
    "start_time": "2022-12-21T04:51:05.824Z"
   },
   {
    "duration": 4,
    "start_time": "2022-12-21T04:51:10.756Z"
   },
   {
    "duration": 1152,
    "start_time": "2022-12-21T04:51:50.299Z"
   },
   {
    "duration": 46,
    "start_time": "2022-12-21T04:52:04.798Z"
   },
   {
    "duration": 4,
    "start_time": "2022-12-21T04:52:26.293Z"
   },
   {
    "duration": 613,
    "start_time": "2022-12-21T04:52:26.301Z"
   },
   {
    "duration": 9,
    "start_time": "2022-12-21T04:52:26.916Z"
   },
   {
    "duration": 369,
    "start_time": "2022-12-21T04:52:26.927Z"
   },
   {
    "duration": 198,
    "start_time": "2022-12-21T04:52:27.298Z"
   },
   {
    "duration": 384,
    "start_time": "2022-12-21T04:52:27.498Z"
   },
   {
    "duration": 7,
    "start_time": "2022-12-21T04:52:27.884Z"
   },
   {
    "duration": 6,
    "start_time": "2022-12-21T04:52:27.893Z"
   },
   {
    "duration": 4,
    "start_time": "2022-12-21T04:52:27.923Z"
   },
   {
    "duration": 28,
    "start_time": "2022-12-21T04:52:27.928Z"
   },
   {
    "duration": 3,
    "start_time": "2022-12-21T04:52:27.958Z"
   },
   {
    "duration": 312,
    "start_time": "2022-12-21T04:52:27.962Z"
   },
   {
    "duration": 136,
    "start_time": "2022-12-21T04:52:28.275Z"
   },
   {
    "duration": 149,
    "start_time": "2022-12-21T04:52:28.412Z"
   },
   {
    "duration": 1378,
    "start_time": "2022-12-21T04:52:32.930Z"
   },
   {
    "duration": 675,
    "start_time": "2022-12-21T04:52:34.310Z"
   },
   {
    "duration": 5,
    "start_time": "2022-12-21T04:52:34.986Z"
   },
   {
    "duration": 392,
    "start_time": "2022-12-21T04:52:34.993Z"
   },
   {
    "duration": 187,
    "start_time": "2022-12-21T04:52:35.386Z"
   },
   {
    "duration": 393,
    "start_time": "2022-12-21T04:52:35.574Z"
   },
   {
    "duration": 8,
    "start_time": "2022-12-21T04:52:35.969Z"
   },
   {
    "duration": 10,
    "start_time": "2022-12-21T04:52:35.979Z"
   },
   {
    "duration": 5,
    "start_time": "2022-12-21T04:52:35.991Z"
   },
   {
    "duration": 38,
    "start_time": "2022-12-21T04:52:35.999Z"
   },
   {
    "duration": 4,
    "start_time": "2022-12-21T04:52:36.039Z"
   },
   {
    "duration": 168,
    "start_time": "2022-12-21T04:52:36.045Z"
   },
   {
    "duration": 147,
    "start_time": "2022-12-21T04:52:36.222Z"
   },
   {
    "duration": 228,
    "start_time": "2022-12-21T04:52:36.372Z"
   },
   {
    "duration": 1384,
    "start_time": "2022-12-21T04:52:36.602Z"
   },
   {
    "duration": 826,
    "start_time": "2022-12-21T04:52:37.988Z"
   },
   {
    "duration": 25,
    "start_time": "2022-12-21T04:52:38.822Z"
   },
   {
    "duration": 850,
    "start_time": "2022-12-21T04:52:38.849Z"
   },
   {
    "duration": 3,
    "start_time": "2022-12-21T04:52:39.701Z"
   },
   {
    "duration": 6,
    "start_time": "2022-12-21T04:52:39.705Z"
   },
   {
    "duration": 10,
    "start_time": "2022-12-21T04:52:39.712Z"
   },
   {
    "duration": 48,
    "start_time": "2022-12-21T04:52:39.723Z"
   },
   {
    "duration": 9037,
    "start_time": "2022-12-21T04:52:39.772Z"
   },
   {
    "duration": 37394,
    "start_time": "2022-12-21T04:52:48.810Z"
   },
   {
    "duration": 14790,
    "start_time": "2022-12-21T04:53:26.206Z"
   },
   {
    "duration": 3129,
    "start_time": "2022-12-21T04:53:40.997Z"
   },
   {
    "duration": 286,
    "start_time": "2022-12-21T04:53:44.144Z"
   },
   {
    "duration": 0,
    "start_time": "2022-12-21T04:53:44.432Z"
   },
   {
    "duration": 0,
    "start_time": "2022-12-21T04:53:44.434Z"
   },
   {
    "duration": 0,
    "start_time": "2022-12-21T04:53:44.436Z"
   },
   {
    "duration": 0,
    "start_time": "2022-12-21T04:53:44.438Z"
   },
   {
    "duration": 0,
    "start_time": "2022-12-21T04:53:44.439Z"
   },
   {
    "duration": 0,
    "start_time": "2022-12-21T04:53:44.441Z"
   },
   {
    "duration": 0,
    "start_time": "2022-12-21T04:53:44.442Z"
   },
   {
    "duration": 34,
    "start_time": "2022-12-21T04:54:14.668Z"
   },
   {
    "duration": 20357,
    "start_time": "2022-12-21T04:54:14.704Z"
   },
   {
    "duration": 40932,
    "start_time": "2022-12-21T04:54:35.063Z"
   },
   {
    "duration": 27022,
    "start_time": "2022-12-21T04:55:15.997Z"
   },
   {
    "duration": 3707,
    "start_time": "2022-12-21T04:55:43.022Z"
   },
   {
    "duration": 101,
    "start_time": "2022-12-21T04:55:46.731Z"
   },
   {
    "duration": 6,
    "start_time": "2022-12-21T04:55:46.834Z"
   },
   {
    "duration": 85,
    "start_time": "2022-12-21T04:55:46.841Z"
   },
   {
    "duration": 1428,
    "start_time": "2022-12-21T04:57:07.320Z"
   },
   {
    "duration": 655,
    "start_time": "2022-12-21T04:57:08.750Z"
   },
   {
    "duration": 4,
    "start_time": "2022-12-21T04:57:09.407Z"
   },
   {
    "duration": 402,
    "start_time": "2022-12-21T04:57:09.413Z"
   },
   {
    "duration": 200,
    "start_time": "2022-12-21T04:57:09.822Z"
   },
   {
    "duration": 367,
    "start_time": "2022-12-21T04:57:10.024Z"
   },
   {
    "duration": 7,
    "start_time": "2022-12-21T04:57:10.392Z"
   },
   {
    "duration": 6,
    "start_time": "2022-12-21T04:57:10.401Z"
   },
   {
    "duration": 4,
    "start_time": "2022-12-21T04:57:10.421Z"
   },
   {
    "duration": 25,
    "start_time": "2022-12-21T04:57:10.428Z"
   },
   {
    "duration": 3,
    "start_time": "2022-12-21T04:57:10.454Z"
   },
   {
    "duration": 175,
    "start_time": "2022-12-21T04:57:10.459Z"
   },
   {
    "duration": 147,
    "start_time": "2022-12-21T04:57:10.636Z"
   },
   {
    "duration": 208,
    "start_time": "2022-12-21T04:57:10.785Z"
   },
   {
    "duration": 1451,
    "start_time": "2022-12-21T04:57:10.995Z"
   },
   {
    "duration": 892,
    "start_time": "2022-12-21T04:57:12.447Z"
   },
   {
    "duration": 31,
    "start_time": "2022-12-21T04:57:13.340Z"
   },
   {
    "duration": 912,
    "start_time": "2022-12-21T04:57:13.372Z"
   },
   {
    "duration": 3,
    "start_time": "2022-12-21T04:57:14.286Z"
   },
   {
    "duration": 6,
    "start_time": "2022-12-21T04:57:14.291Z"
   },
   {
    "duration": 5,
    "start_time": "2022-12-21T04:57:14.298Z"
   },
   {
    "duration": 57,
    "start_time": "2022-12-21T04:57:14.305Z"
   },
   {
    "duration": 9123,
    "start_time": "2022-12-21T04:57:14.364Z"
   },
   {
    "duration": 110338,
    "start_time": "2022-12-21T04:57:23.489Z"
   },
   {
    "duration": 1168107,
    "start_time": "2022-12-21T04:59:13.829Z"
   },
   {
    "duration": 25389,
    "start_time": "2022-12-21T05:18:41.937Z"
   },
   {
    "duration": 200,
    "start_time": "2022-12-21T05:19:07.328Z"
   },
   {
    "duration": 1362,
    "start_time": "2022-12-21T05:38:49.722Z"
   },
   {
    "duration": 704,
    "start_time": "2022-12-21T05:38:51.086Z"
   },
   {
    "duration": 5,
    "start_time": "2022-12-21T05:38:51.792Z"
   },
   {
    "duration": 438,
    "start_time": "2022-12-21T05:38:51.799Z"
   },
   {
    "duration": 210,
    "start_time": "2022-12-21T05:38:52.239Z"
   },
   {
    "duration": 416,
    "start_time": "2022-12-21T05:38:52.452Z"
   },
   {
    "duration": 8,
    "start_time": "2022-12-21T05:38:52.870Z"
   },
   {
    "duration": 11,
    "start_time": "2022-12-21T05:38:52.880Z"
   },
   {
    "duration": 10,
    "start_time": "2022-12-21T05:38:52.893Z"
   },
   {
    "duration": 23,
    "start_time": "2022-12-21T05:38:52.925Z"
   },
   {
    "duration": 4,
    "start_time": "2022-12-21T05:38:52.949Z"
   },
   {
    "duration": 189,
    "start_time": "2022-12-21T05:38:52.955Z"
   },
   {
    "duration": 143,
    "start_time": "2022-12-21T05:38:53.146Z"
   },
   {
    "duration": 231,
    "start_time": "2022-12-21T05:38:53.291Z"
   },
   {
    "duration": 1560,
    "start_time": "2022-12-21T05:38:53.524Z"
   },
   {
    "duration": 880,
    "start_time": "2022-12-21T05:38:55.086Z"
   },
   {
    "duration": 28,
    "start_time": "2022-12-21T05:38:55.967Z"
   },
   {
    "duration": 930,
    "start_time": "2022-12-21T05:38:55.997Z"
   },
   {
    "duration": 3,
    "start_time": "2022-12-21T05:38:56.929Z"
   },
   {
    "duration": 6,
    "start_time": "2022-12-21T05:38:56.933Z"
   },
   {
    "duration": 6,
    "start_time": "2022-12-21T05:38:56.940Z"
   },
   {
    "duration": 53,
    "start_time": "2022-12-21T05:38:56.947Z"
   },
   {
    "duration": 3482,
    "start_time": "2022-12-21T05:38:57.002Z"
   },
   {
    "duration": 111524,
    "start_time": "2022-12-21T05:39:00.485Z"
   },
   {
    "duration": 498334,
    "start_time": "2022-12-21T05:40:52.011Z"
   },
   {
    "duration": 15275,
    "start_time": "2022-12-21T05:49:10.347Z"
   },
   {
    "duration": 128,
    "start_time": "2022-12-21T05:49:25.624Z"
   },
   {
    "duration": 6904,
    "start_time": "2022-12-21T05:49:25.755Z"
   },
   {
    "duration": 108944,
    "start_time": "2022-12-21T05:49:32.661Z"
   },
   {
    "duration": 434278,
    "start_time": "2022-12-21T05:51:21.607Z"
   },
   {
    "duration": 16138,
    "start_time": "2022-12-21T05:58:35.887Z"
   },
   {
    "duration": 97,
    "start_time": "2022-12-21T05:58:52.027Z"
   },
   {
    "duration": 4,
    "start_time": "2022-12-21T05:58:52.127Z"
   },
   {
    "duration": 22,
    "start_time": "2022-12-21T05:58:52.132Z"
   },
   {
    "duration": 70,
    "start_time": "2022-12-21T05:58:52.157Z"
   },
   {
    "duration": 27,
    "start_time": "2022-12-21T05:59:25.799Z"
   },
   {
    "duration": 3,
    "start_time": "2022-12-21T05:59:29.479Z"
   },
   {
    "duration": 1379,
    "start_time": "2022-12-21T06:03:59.511Z"
   },
   {
    "duration": 744,
    "start_time": "2022-12-21T06:04:00.892Z"
   },
   {
    "duration": 5,
    "start_time": "2022-12-21T06:04:01.639Z"
   },
   {
    "duration": 418,
    "start_time": "2022-12-21T06:04:01.646Z"
   },
   {
    "duration": 197,
    "start_time": "2022-12-21T06:04:02.066Z"
   },
   {
    "duration": 406,
    "start_time": "2022-12-21T06:04:02.264Z"
   },
   {
    "duration": 7,
    "start_time": "2022-12-21T06:04:02.672Z"
   },
   {
    "duration": 8,
    "start_time": "2022-12-21T06:04:02.680Z"
   },
   {
    "duration": 10,
    "start_time": "2022-12-21T06:04:02.689Z"
   },
   {
    "duration": 40,
    "start_time": "2022-12-21T06:04:02.701Z"
   },
   {
    "duration": 4,
    "start_time": "2022-12-21T06:04:02.743Z"
   },
   {
    "duration": 174,
    "start_time": "2022-12-21T06:04:02.748Z"
   },
   {
    "duration": 149,
    "start_time": "2022-12-21T06:04:02.924Z"
   },
   {
    "duration": 215,
    "start_time": "2022-12-21T06:04:03.075Z"
   },
   {
    "duration": 1526,
    "start_time": "2022-12-21T06:04:03.292Z"
   },
   {
    "duration": 925,
    "start_time": "2022-12-21T06:04:04.822Z"
   },
   {
    "duration": 26,
    "start_time": "2022-12-21T06:04:05.748Z"
   },
   {
    "duration": 916,
    "start_time": "2022-12-21T06:04:05.775Z"
   },
   {
    "duration": 3,
    "start_time": "2022-12-21T06:04:06.692Z"
   },
   {
    "duration": 6,
    "start_time": "2022-12-21T06:04:06.697Z"
   },
   {
    "duration": 9,
    "start_time": "2022-12-21T06:04:06.704Z"
   },
   {
    "duration": 60,
    "start_time": "2022-12-21T06:04:06.714Z"
   },
   {
    "duration": 4268,
    "start_time": "2022-12-21T06:04:06.775Z"
   },
   {
    "duration": 86067,
    "start_time": "2022-12-21T06:04:11.045Z"
   },
   {
    "duration": 1589,
    "start_time": "2022-12-21T18:16:36.184Z"
   },
   {
    "duration": 1816,
    "start_time": "2022-12-21T18:16:37.775Z"
   },
   {
    "duration": 5,
    "start_time": "2022-12-21T18:16:39.592Z"
   },
   {
    "duration": 391,
    "start_time": "2022-12-21T18:16:39.599Z"
   },
   {
    "duration": 189,
    "start_time": "2022-12-21T18:16:39.992Z"
   },
   {
    "duration": 406,
    "start_time": "2022-12-21T18:16:40.182Z"
   },
   {
    "duration": 16,
    "start_time": "2022-12-21T18:16:40.589Z"
   },
   {
    "duration": 5,
    "start_time": "2022-12-21T18:16:40.607Z"
   },
   {
    "duration": 5,
    "start_time": "2022-12-21T18:16:40.614Z"
   },
   {
    "duration": 25,
    "start_time": "2022-12-21T18:16:40.622Z"
   },
   {
    "duration": 3,
    "start_time": "2022-12-21T18:16:40.648Z"
   },
   {
    "duration": 177,
    "start_time": "2022-12-21T18:16:40.653Z"
   },
   {
    "duration": 152,
    "start_time": "2022-12-21T18:16:40.831Z"
   },
   {
    "duration": 207,
    "start_time": "2022-12-21T18:16:40.985Z"
   },
   {
    "duration": 1466,
    "start_time": "2022-12-21T18:16:41.193Z"
   },
   {
    "duration": 881,
    "start_time": "2022-12-21T18:16:42.660Z"
   },
   {
    "duration": 26,
    "start_time": "2022-12-21T18:16:43.542Z"
   },
   {
    "duration": 864,
    "start_time": "2022-12-21T18:16:43.570Z"
   },
   {
    "duration": 3,
    "start_time": "2022-12-21T18:16:44.436Z"
   },
   {
    "duration": 6,
    "start_time": "2022-12-21T18:16:44.441Z"
   },
   {
    "duration": 4,
    "start_time": "2022-12-21T18:16:44.449Z"
   },
   {
    "duration": 66,
    "start_time": "2022-12-21T18:16:44.455Z"
   },
   {
    "duration": 3927,
    "start_time": "2022-12-21T18:16:44.523Z"
   },
   {
    "duration": 120867,
    "start_time": "2022-12-21T18:16:48.451Z"
   },
   {
    "duration": 484095,
    "start_time": "2022-12-21T18:18:49.321Z"
   },
   {
    "duration": 14790,
    "start_time": "2022-12-21T18:26:53.418Z"
   },
   {
    "duration": 37,
    "start_time": "2022-12-21T18:27:08.304Z"
   },
   {
    "duration": 7535,
    "start_time": "2022-12-21T18:27:08.344Z"
   },
   {
    "duration": 471220,
    "start_time": "2022-12-21T18:29:14.655Z"
   },
   {
    "duration": 17433,
    "start_time": "2022-12-21T18:37:05.877Z"
   },
   {
    "duration": 191,
    "start_time": "2022-12-21T18:37:23.314Z"
   },
   {
    "duration": 3,
    "start_time": "2022-12-21T18:37:23.506Z"
   },
   {
    "duration": 14,
    "start_time": "2022-12-21T18:37:23.511Z"
   },
   {
    "duration": 25,
    "start_time": "2022-12-21T18:41:24.934Z"
   },
   {
    "duration": 10,
    "start_time": "2022-12-21T18:44:20.927Z"
   },
   {
    "duration": 8,
    "start_time": "2022-12-21T18:44:26.433Z"
   },
   {
    "duration": 9,
    "start_time": "2022-12-21T18:44:30.310Z"
   },
   {
    "duration": 22,
    "start_time": "2022-12-21T18:48:52.790Z"
   },
   {
    "duration": 885,
    "start_time": "2022-12-21T18:48:59.232Z"
   },
   {
    "duration": 1929,
    "start_time": "2022-12-22T14:02:39.937Z"
   },
   {
    "duration": 3066,
    "start_time": "2022-12-22T14:02:41.868Z"
   },
   {
    "duration": 6,
    "start_time": "2022-12-22T14:02:44.936Z"
   },
   {
    "duration": 440,
    "start_time": "2022-12-22T14:02:44.944Z"
   },
   {
    "duration": 194,
    "start_time": "2022-12-22T14:02:45.385Z"
   },
   {
    "duration": 374,
    "start_time": "2022-12-22T14:02:45.581Z"
   },
   {
    "duration": 7,
    "start_time": "2022-12-22T14:02:45.956Z"
   },
   {
    "duration": 4,
    "start_time": "2022-12-22T14:02:45.976Z"
   },
   {
    "duration": 7,
    "start_time": "2022-12-22T14:02:45.981Z"
   },
   {
    "duration": 24,
    "start_time": "2022-12-22T14:02:45.990Z"
   },
   {
    "duration": 2,
    "start_time": "2022-12-22T14:02:46.016Z"
   },
   {
    "duration": 173,
    "start_time": "2022-12-22T14:02:46.020Z"
   },
   {
    "duration": 149,
    "start_time": "2022-12-22T14:02:46.194Z"
   },
   {
    "duration": 204,
    "start_time": "2022-12-22T14:02:46.345Z"
   },
   {
    "duration": 1421,
    "start_time": "2022-12-22T14:02:46.551Z"
   },
   {
    "duration": 871,
    "start_time": "2022-12-22T14:02:47.973Z"
   },
   {
    "duration": 31,
    "start_time": "2022-12-22T14:02:48.846Z"
   },
   {
    "duration": 931,
    "start_time": "2022-12-22T14:02:48.878Z"
   },
   {
    "duration": 3,
    "start_time": "2022-12-22T14:02:49.810Z"
   },
   {
    "duration": 14,
    "start_time": "2022-12-22T14:02:49.815Z"
   },
   {
    "duration": 5,
    "start_time": "2022-12-22T14:02:49.830Z"
   },
   {
    "duration": 60,
    "start_time": "2022-12-22T14:02:49.836Z"
   },
   {
    "duration": 3,
    "start_time": "2022-12-22T14:02:49.898Z"
   },
   {
    "duration": 2297,
    "start_time": "2022-12-22T14:05:03.263Z"
   },
   {
    "duration": 675,
    "start_time": "2022-12-22T14:05:05.562Z"
   },
   {
    "duration": 5,
    "start_time": "2022-12-22T14:05:06.240Z"
   },
   {
    "duration": 456,
    "start_time": "2022-12-22T14:05:06.246Z"
   },
   {
    "duration": 202,
    "start_time": "2022-12-22T14:05:06.704Z"
   },
   {
    "duration": 424,
    "start_time": "2022-12-22T14:05:06.907Z"
   },
   {
    "duration": 8,
    "start_time": "2022-12-22T14:05:07.333Z"
   },
   {
    "duration": 26,
    "start_time": "2022-12-22T14:05:07.342Z"
   },
   {
    "duration": 48,
    "start_time": "2022-12-22T14:05:07.372Z"
   },
   {
    "duration": 36,
    "start_time": "2022-12-22T14:05:07.422Z"
   },
   {
    "duration": 15,
    "start_time": "2022-12-22T14:05:07.460Z"
   },
   {
    "duration": 211,
    "start_time": "2022-12-22T14:05:07.477Z"
   },
   {
    "duration": 160,
    "start_time": "2022-12-22T14:05:07.689Z"
   },
   {
    "duration": 227,
    "start_time": "2022-12-22T14:05:07.851Z"
   },
   {
    "duration": 1576,
    "start_time": "2022-12-22T14:05:08.079Z"
   },
   {
    "duration": 937,
    "start_time": "2022-12-22T14:05:09.657Z"
   },
   {
    "duration": 25,
    "start_time": "2022-12-22T14:05:10.596Z"
   },
   {
    "duration": 914,
    "start_time": "2022-12-22T14:05:10.623Z"
   },
   {
    "duration": 3,
    "start_time": "2022-12-22T14:05:11.540Z"
   },
   {
    "duration": 29,
    "start_time": "2022-12-22T14:05:11.545Z"
   },
   {
    "duration": 27,
    "start_time": "2022-12-22T14:05:11.576Z"
   },
   {
    "duration": 53,
    "start_time": "2022-12-22T14:05:11.604Z"
   },
   {
    "duration": 5,
    "start_time": "2022-12-22T14:05:11.659Z"
   },
   {
    "duration": 4,
    "start_time": "2022-12-22T14:07:51.619Z"
   },
   {
    "duration": 3,
    "start_time": "2022-12-22T14:08:58.551Z"
   },
   {
    "duration": 1596,
    "start_time": "2022-12-22T17:20:27.564Z"
   },
   {
    "duration": 3490,
    "start_time": "2022-12-22T17:20:29.162Z"
   },
   {
    "duration": 5,
    "start_time": "2022-12-22T17:20:32.654Z"
   },
   {
    "duration": 450,
    "start_time": "2022-12-22T17:20:32.662Z"
   },
   {
    "duration": 218,
    "start_time": "2022-12-22T17:20:33.113Z"
   },
   {
    "duration": 416,
    "start_time": "2022-12-22T17:20:33.333Z"
   },
   {
    "duration": 9,
    "start_time": "2022-12-22T17:20:33.751Z"
   },
   {
    "duration": 6,
    "start_time": "2022-12-22T17:20:33.762Z"
   },
   {
    "duration": 31,
    "start_time": "2022-12-22T17:20:33.770Z"
   },
   {
    "duration": 21,
    "start_time": "2022-12-22T17:20:33.805Z"
   },
   {
    "duration": 3,
    "start_time": "2022-12-22T17:20:33.828Z"
   },
   {
    "duration": 214,
    "start_time": "2022-12-22T17:20:33.833Z"
   },
   {
    "duration": 167,
    "start_time": "2022-12-22T17:20:34.049Z"
   },
   {
    "duration": 219,
    "start_time": "2022-12-22T17:20:34.218Z"
   },
   {
    "duration": 2769,
    "start_time": "2022-12-22T17:20:34.438Z"
   },
   {
    "duration": 1008,
    "start_time": "2022-12-22T17:20:37.209Z"
   },
   {
    "duration": 32,
    "start_time": "2022-12-22T17:20:38.219Z"
   },
   {
    "duration": 959,
    "start_time": "2022-12-22T17:20:38.253Z"
   },
   {
    "duration": 5,
    "start_time": "2022-12-22T17:20:39.214Z"
   },
   {
    "duration": 9,
    "start_time": "2022-12-22T17:20:39.221Z"
   },
   {
    "duration": 9,
    "start_time": "2022-12-22T17:20:39.231Z"
   },
   {
    "duration": 20,
    "start_time": "2022-12-22T17:20:39.241Z"
   },
   {
    "duration": 58,
    "start_time": "2022-12-22T17:20:39.263Z"
   },
   {
    "duration": 3906,
    "start_time": "2022-12-22T17:20:39.323Z"
   },
   {
    "duration": 1399,
    "start_time": "2022-12-22T17:21:21.821Z"
   },
   {
    "duration": 783,
    "start_time": "2022-12-22T17:21:23.224Z"
   },
   {
    "duration": 5,
    "start_time": "2022-12-22T17:21:24.009Z"
   },
   {
    "duration": 484,
    "start_time": "2022-12-22T17:21:24.016Z"
   },
   {
    "duration": 511,
    "start_time": "2022-12-22T17:21:24.502Z"
   },
   {
    "duration": 803,
    "start_time": "2022-12-22T17:21:25.016Z"
   },
   {
    "duration": 8,
    "start_time": "2022-12-22T17:21:25.820Z"
   },
   {
    "duration": 12,
    "start_time": "2022-12-22T17:21:25.830Z"
   },
   {
    "duration": 6,
    "start_time": "2022-12-22T17:21:25.896Z"
   },
   {
    "duration": 44,
    "start_time": "2022-12-22T17:21:25.906Z"
   },
   {
    "duration": 57,
    "start_time": "2022-12-22T17:21:25.952Z"
   },
   {
    "duration": 424,
    "start_time": "2022-12-22T17:21:26.012Z"
   },
   {
    "duration": 403,
    "start_time": "2022-12-22T17:21:26.438Z"
   },
   {
    "duration": 417,
    "start_time": "2022-12-22T17:21:26.895Z"
   },
   {
    "duration": 2254,
    "start_time": "2022-12-22T17:21:27.314Z"
   },
   {
    "duration": 1026,
    "start_time": "2022-12-22T17:21:29.570Z"
   },
   {
    "duration": 22,
    "start_time": "2022-12-22T17:21:30.598Z"
   },
   {
    "duration": 970,
    "start_time": "2022-12-22T17:21:30.622Z"
   },
   {
    "duration": 4,
    "start_time": "2022-12-22T17:21:31.594Z"
   },
   {
    "duration": 18,
    "start_time": "2022-12-22T17:21:31.600Z"
   },
   {
    "duration": 28,
    "start_time": "2022-12-22T17:21:31.620Z"
   },
   {
    "duration": 25,
    "start_time": "2022-12-22T17:21:31.649Z"
   },
   {
    "duration": 88,
    "start_time": "2022-12-22T17:21:31.676Z"
   },
   {
    "duration": 3375,
    "start_time": "2022-12-22T17:21:31.766Z"
   },
   {
    "duration": 108893,
    "start_time": "2022-12-22T17:21:35.144Z"
   },
   {
    "duration": 413396,
    "start_time": "2022-12-22T17:23:24.039Z"
   },
   {
    "duration": 13169,
    "start_time": "2022-12-22T17:30:17.436Z"
   },
   {
    "duration": 216,
    "start_time": "2022-12-22T17:30:30.611Z"
   },
   {
    "duration": 6838,
    "start_time": "2022-12-22T17:30:30.829Z"
   },
   {
    "duration": 106128,
    "start_time": "2022-12-22T17:30:37.669Z"
   },
   {
    "duration": 414654,
    "start_time": "2022-12-22T17:32:23.798Z"
   },
   {
    "duration": 15247,
    "start_time": "2022-12-22T17:39:18.453Z"
   },
   {
    "duration": 99,
    "start_time": "2022-12-22T17:39:33.706Z"
   },
   {
    "duration": 3,
    "start_time": "2022-12-22T17:39:33.807Z"
   },
   {
    "duration": 15,
    "start_time": "2022-12-22T17:39:33.812Z"
   },
   {
    "duration": 33,
    "start_time": "2022-12-22T18:38:30.409Z"
   },
   {
    "duration": 438438,
    "start_time": "2022-12-22T18:38:39.071Z"
   },
   {
    "duration": 11114,
    "start_time": "2022-12-22T18:45:57.511Z"
   },
   {
    "duration": 22,
    "start_time": "2022-12-22T18:46:15.859Z"
   },
   {
    "duration": 4,
    "start_time": "2022-12-22T18:46:15.883Z"
   },
   {
    "duration": 14,
    "start_time": "2022-12-22T18:46:15.889Z"
   },
   {
    "duration": 1413,
    "start_time": "2022-12-22T18:46:28.220Z"
   },
   {
    "duration": 692,
    "start_time": "2022-12-22T18:46:29.634Z"
   },
   {
    "duration": 6,
    "start_time": "2022-12-22T18:46:30.328Z"
   },
   {
    "duration": 473,
    "start_time": "2022-12-22T18:46:30.336Z"
   },
   {
    "duration": 237,
    "start_time": "2022-12-22T18:46:30.811Z"
   },
   {
    "duration": 427,
    "start_time": "2022-12-22T18:46:31.050Z"
   },
   {
    "duration": 22,
    "start_time": "2022-12-22T18:46:31.478Z"
   },
   {
    "duration": 7,
    "start_time": "2022-12-22T18:46:31.502Z"
   },
   {
    "duration": 16,
    "start_time": "2022-12-22T18:46:31.511Z"
   },
   {
    "duration": 23,
    "start_time": "2022-12-22T18:46:31.529Z"
   },
   {
    "duration": 3,
    "start_time": "2022-12-22T18:46:31.554Z"
   },
   {
    "duration": 198,
    "start_time": "2022-12-22T18:46:31.558Z"
   },
   {
    "duration": 158,
    "start_time": "2022-12-22T18:46:31.758Z"
   },
   {
    "duration": 255,
    "start_time": "2022-12-22T18:46:31.920Z"
   },
   {
    "duration": 1564,
    "start_time": "2022-12-22T18:46:32.177Z"
   },
   {
    "duration": 950,
    "start_time": "2022-12-22T18:46:33.743Z"
   },
   {
    "duration": 29,
    "start_time": "2022-12-22T18:46:34.695Z"
   },
   {
    "duration": 1542,
    "start_time": "2022-12-22T18:46:34.726Z"
   },
   {
    "duration": 0,
    "start_time": "2022-12-22T18:46:36.270Z"
   },
   {
    "duration": 0,
    "start_time": "2022-12-22T18:46:36.271Z"
   },
   {
    "duration": 0,
    "start_time": "2022-12-22T18:46:36.273Z"
   },
   {
    "duration": 0,
    "start_time": "2022-12-22T18:46:36.274Z"
   },
   {
    "duration": 0,
    "start_time": "2022-12-22T18:46:36.276Z"
   },
   {
    "duration": 0,
    "start_time": "2022-12-22T18:46:36.277Z"
   },
   {
    "duration": 0,
    "start_time": "2022-12-22T18:46:36.297Z"
   },
   {
    "duration": 0,
    "start_time": "2022-12-22T18:46:36.299Z"
   },
   {
    "duration": 0,
    "start_time": "2022-12-22T18:46:36.301Z"
   },
   {
    "duration": 0,
    "start_time": "2022-12-22T18:46:36.303Z"
   },
   {
    "duration": 0,
    "start_time": "2022-12-22T18:46:36.304Z"
   },
   {
    "duration": 0,
    "start_time": "2022-12-22T18:46:36.306Z"
   },
   {
    "duration": 0,
    "start_time": "2022-12-22T18:46:36.308Z"
   },
   {
    "duration": 0,
    "start_time": "2022-12-22T18:46:36.310Z"
   },
   {
    "duration": 0,
    "start_time": "2022-12-22T18:46:36.312Z"
   },
   {
    "duration": 0,
    "start_time": "2022-12-22T18:46:36.313Z"
   },
   {
    "duration": 1,
    "start_time": "2022-12-22T18:46:36.314Z"
   },
   {
    "duration": 17,
    "start_time": "2022-12-22T18:47:39.641Z"
   },
   {
    "duration": 1147,
    "start_time": "2022-12-22T18:47:40.657Z"
   },
   {
    "duration": 1490,
    "start_time": "2022-12-22T18:47:48.475Z"
   },
   {
    "duration": 736,
    "start_time": "2022-12-22T18:47:49.967Z"
   },
   {
    "duration": 7,
    "start_time": "2022-12-22T18:47:50.705Z"
   },
   {
    "duration": 481,
    "start_time": "2022-12-22T18:47:50.715Z"
   },
   {
    "duration": 216,
    "start_time": "2022-12-22T18:47:51.199Z"
   },
   {
    "duration": 481,
    "start_time": "2022-12-22T18:47:51.417Z"
   },
   {
    "duration": 11,
    "start_time": "2022-12-22T18:47:51.900Z"
   },
   {
    "duration": 28,
    "start_time": "2022-12-22T18:47:51.913Z"
   },
   {
    "duration": 16,
    "start_time": "2022-12-22T18:47:51.943Z"
   },
   {
    "duration": 40,
    "start_time": "2022-12-22T18:47:51.962Z"
   },
   {
    "duration": 4,
    "start_time": "2022-12-22T18:47:52.005Z"
   },
   {
    "duration": 234,
    "start_time": "2022-12-22T18:47:52.011Z"
   },
   {
    "duration": 186,
    "start_time": "2022-12-22T18:47:52.248Z"
   },
   {
    "duration": 234,
    "start_time": "2022-12-22T18:47:52.436Z"
   },
   {
    "duration": 1579,
    "start_time": "2022-12-22T18:47:52.672Z"
   },
   {
    "duration": 983,
    "start_time": "2022-12-22T18:47:54.253Z"
   },
   {
    "duration": 28,
    "start_time": "2022-12-22T18:47:55.238Z"
   },
   {
    "duration": 1330,
    "start_time": "2022-12-22T18:47:55.267Z"
   },
   {
    "duration": 0,
    "start_time": "2022-12-22T18:47:56.599Z"
   },
   {
    "duration": 0,
    "start_time": "2022-12-22T18:47:56.600Z"
   },
   {
    "duration": 0,
    "start_time": "2022-12-22T18:47:56.602Z"
   },
   {
    "duration": 0,
    "start_time": "2022-12-22T18:47:56.603Z"
   },
   {
    "duration": 0,
    "start_time": "2022-12-22T18:47:56.604Z"
   },
   {
    "duration": 0,
    "start_time": "2022-12-22T18:47:56.606Z"
   },
   {
    "duration": 0,
    "start_time": "2022-12-22T18:47:56.607Z"
   },
   {
    "duration": 0,
    "start_time": "2022-12-22T18:47:56.609Z"
   },
   {
    "duration": 0,
    "start_time": "2022-12-22T18:47:56.610Z"
   },
   {
    "duration": 0,
    "start_time": "2022-12-22T18:47:56.612Z"
   },
   {
    "duration": 0,
    "start_time": "2022-12-22T18:47:56.613Z"
   },
   {
    "duration": 0,
    "start_time": "2022-12-22T18:47:56.614Z"
   },
   {
    "duration": 0,
    "start_time": "2022-12-22T18:47:56.616Z"
   },
   {
    "duration": 0,
    "start_time": "2022-12-22T18:47:56.617Z"
   },
   {
    "duration": 0,
    "start_time": "2022-12-22T18:47:56.619Z"
   },
   {
    "duration": 0,
    "start_time": "2022-12-22T18:47:56.620Z"
   },
   {
    "duration": 0,
    "start_time": "2022-12-22T18:47:56.622Z"
   },
   {
    "duration": 1436,
    "start_time": "2022-12-22T18:48:19.234Z"
   },
   {
    "duration": 673,
    "start_time": "2022-12-22T18:48:20.675Z"
   },
   {
    "duration": 7,
    "start_time": "2022-12-22T18:48:21.350Z"
   },
   {
    "duration": 441,
    "start_time": "2022-12-22T18:48:21.359Z"
   },
   {
    "duration": 215,
    "start_time": "2022-12-22T18:48:21.802Z"
   },
   {
    "duration": 449,
    "start_time": "2022-12-22T18:48:22.019Z"
   },
   {
    "duration": 27,
    "start_time": "2022-12-22T18:48:22.470Z"
   },
   {
    "duration": 7,
    "start_time": "2022-12-22T18:48:22.499Z"
   },
   {
    "duration": 7,
    "start_time": "2022-12-22T18:48:22.510Z"
   },
   {
    "duration": 24,
    "start_time": "2022-12-22T18:48:22.519Z"
   },
   {
    "duration": 3,
    "start_time": "2022-12-22T18:48:22.544Z"
   },
   {
    "duration": 218,
    "start_time": "2022-12-22T18:48:22.549Z"
   },
   {
    "duration": 168,
    "start_time": "2022-12-22T18:48:22.769Z"
   },
   {
    "duration": 223,
    "start_time": "2022-12-22T18:48:22.939Z"
   },
   {
    "duration": 1555,
    "start_time": "2022-12-22T18:48:23.164Z"
   },
   {
    "duration": 985,
    "start_time": "2022-12-22T18:48:24.721Z"
   },
   {
    "duration": 28,
    "start_time": "2022-12-22T18:48:25.708Z"
   },
   {
    "duration": 1361,
    "start_time": "2022-12-22T18:48:25.738Z"
   },
   {
    "duration": 0,
    "start_time": "2022-12-22T18:48:27.101Z"
   },
   {
    "duration": 0,
    "start_time": "2022-12-22T18:48:27.103Z"
   },
   {
    "duration": 0,
    "start_time": "2022-12-22T18:48:27.105Z"
   },
   {
    "duration": 0,
    "start_time": "2022-12-22T18:48:27.107Z"
   },
   {
    "duration": 0,
    "start_time": "2022-12-22T18:48:27.108Z"
   },
   {
    "duration": 0,
    "start_time": "2022-12-22T18:48:27.110Z"
   },
   {
    "duration": 0,
    "start_time": "2022-12-22T18:48:27.111Z"
   },
   {
    "duration": 0,
    "start_time": "2022-12-22T18:48:27.112Z"
   },
   {
    "duration": 0,
    "start_time": "2022-12-22T18:48:27.113Z"
   },
   {
    "duration": 0,
    "start_time": "2022-12-22T18:48:27.114Z"
   },
   {
    "duration": 0,
    "start_time": "2022-12-22T18:48:27.115Z"
   },
   {
    "duration": 0,
    "start_time": "2022-12-22T18:48:27.116Z"
   },
   {
    "duration": 0,
    "start_time": "2022-12-22T18:48:27.117Z"
   },
   {
    "duration": 0,
    "start_time": "2022-12-22T18:48:27.119Z"
   },
   {
    "duration": 0,
    "start_time": "2022-12-22T18:48:27.120Z"
   },
   {
    "duration": 0,
    "start_time": "2022-12-22T18:48:27.121Z"
   },
   {
    "duration": 0,
    "start_time": "2022-12-22T18:48:27.122Z"
   },
   {
    "duration": 40,
    "start_time": "2022-12-22T18:50:46.033Z"
   },
   {
    "duration": 6,
    "start_time": "2022-12-22T18:50:53.026Z"
   },
   {
    "duration": 1500,
    "start_time": "2022-12-22T18:52:49.679Z"
   },
   {
    "duration": 674,
    "start_time": "2022-12-22T18:52:51.183Z"
   },
   {
    "duration": 6,
    "start_time": "2022-12-22T18:52:51.859Z"
   },
   {
    "duration": 451,
    "start_time": "2022-12-22T18:52:51.867Z"
   },
   {
    "duration": 217,
    "start_time": "2022-12-22T18:52:52.319Z"
   },
   {
    "duration": 429,
    "start_time": "2022-12-22T18:52:52.539Z"
   },
   {
    "duration": 9,
    "start_time": "2022-12-22T18:52:52.969Z"
   },
   {
    "duration": 22,
    "start_time": "2022-12-22T18:52:52.979Z"
   },
   {
    "duration": 6,
    "start_time": "2022-12-22T18:52:53.003Z"
   },
   {
    "duration": 38,
    "start_time": "2022-12-22T18:52:53.010Z"
   },
   {
    "duration": 3,
    "start_time": "2022-12-22T18:52:53.050Z"
   },
   {
    "duration": 198,
    "start_time": "2022-12-22T18:52:53.055Z"
   },
   {
    "duration": 160,
    "start_time": "2022-12-22T18:52:53.255Z"
   },
   {
    "duration": 221,
    "start_time": "2022-12-22T18:52:53.416Z"
   },
   {
    "duration": 1613,
    "start_time": "2022-12-22T18:52:53.639Z"
   },
   {
    "duration": 1158,
    "start_time": "2022-12-22T18:52:55.254Z"
   },
   {
    "duration": 28,
    "start_time": "2022-12-22T18:52:56.414Z"
   },
   {
    "duration": 1708,
    "start_time": "2022-12-22T18:52:56.444Z"
   },
   {
    "duration": 0,
    "start_time": "2022-12-22T18:52:58.155Z"
   },
   {
    "duration": 0,
    "start_time": "2022-12-22T18:52:58.156Z"
   },
   {
    "duration": 0,
    "start_time": "2022-12-22T18:52:58.158Z"
   },
   {
    "duration": 0,
    "start_time": "2022-12-22T18:52:58.159Z"
   },
   {
    "duration": 0,
    "start_time": "2022-12-22T18:52:58.161Z"
   },
   {
    "duration": 0,
    "start_time": "2022-12-22T18:52:58.162Z"
   },
   {
    "duration": 0,
    "start_time": "2022-12-22T18:52:58.164Z"
   },
   {
    "duration": 0,
    "start_time": "2022-12-22T18:52:58.165Z"
   },
   {
    "duration": 0,
    "start_time": "2022-12-22T18:52:58.167Z"
   },
   {
    "duration": 0,
    "start_time": "2022-12-22T18:52:58.169Z"
   },
   {
    "duration": 0,
    "start_time": "2022-12-22T18:52:58.197Z"
   },
   {
    "duration": 0,
    "start_time": "2022-12-22T18:52:58.198Z"
   },
   {
    "duration": 0,
    "start_time": "2022-12-22T18:52:58.200Z"
   },
   {
    "duration": 0,
    "start_time": "2022-12-22T18:52:58.202Z"
   },
   {
    "duration": 0,
    "start_time": "2022-12-22T18:52:58.203Z"
   },
   {
    "duration": 0,
    "start_time": "2022-12-22T18:52:58.205Z"
   },
   {
    "duration": 0,
    "start_time": "2022-12-22T18:52:58.206Z"
   },
   {
    "duration": 31,
    "start_time": "2022-12-22T18:53:25.217Z"
   },
   {
    "duration": 19,
    "start_time": "2022-12-22T18:53:39.668Z"
   },
   {
    "duration": 1243,
    "start_time": "2022-12-22T18:53:41.981Z"
   },
   {
    "duration": 4,
    "start_time": "2022-12-22T18:56:56.186Z"
   },
   {
    "duration": 15,
    "start_time": "2022-12-22T18:57:41.164Z"
   },
   {
    "duration": 1185,
    "start_time": "2022-12-22T18:57:41.933Z"
   },
   {
    "duration": 1483,
    "start_time": "2022-12-22T18:57:49.920Z"
   },
   {
    "duration": 688,
    "start_time": "2022-12-22T18:57:51.405Z"
   },
   {
    "duration": 5,
    "start_time": "2022-12-22T18:57:52.097Z"
   },
   {
    "duration": 463,
    "start_time": "2022-12-22T18:57:52.104Z"
   },
   {
    "duration": 208,
    "start_time": "2022-12-22T18:57:52.569Z"
   },
   {
    "duration": 552,
    "start_time": "2022-12-22T18:57:52.779Z"
   },
   {
    "duration": 65,
    "start_time": "2022-12-22T18:57:53.333Z"
   },
   {
    "duration": 9,
    "start_time": "2022-12-22T18:57:53.401Z"
   },
   {
    "duration": 15,
    "start_time": "2022-12-22T18:57:53.412Z"
   },
   {
    "duration": 72,
    "start_time": "2022-12-22T18:57:53.431Z"
   },
   {
    "duration": 3,
    "start_time": "2022-12-22T18:57:53.506Z"
   },
   {
    "duration": 334,
    "start_time": "2022-12-22T18:57:53.511Z"
   },
   {
    "duration": 0,
    "start_time": "2022-12-22T18:57:53.897Z"
   },
   {
    "duration": 0,
    "start_time": "2022-12-22T18:57:53.899Z"
   },
   {
    "duration": 0,
    "start_time": "2022-12-22T18:57:53.900Z"
   },
   {
    "duration": 0,
    "start_time": "2022-12-22T18:57:53.902Z"
   },
   {
    "duration": 0,
    "start_time": "2022-12-22T18:57:53.903Z"
   },
   {
    "duration": 0,
    "start_time": "2022-12-22T18:57:53.904Z"
   },
   {
    "duration": 0,
    "start_time": "2022-12-22T18:57:53.906Z"
   },
   {
    "duration": 0,
    "start_time": "2022-12-22T18:57:53.907Z"
   },
   {
    "duration": 0,
    "start_time": "2022-12-22T18:57:53.910Z"
   },
   {
    "duration": 0,
    "start_time": "2022-12-22T18:57:53.911Z"
   },
   {
    "duration": 0,
    "start_time": "2022-12-22T18:57:53.912Z"
   },
   {
    "duration": 0,
    "start_time": "2022-12-22T18:57:53.913Z"
   },
   {
    "duration": 0,
    "start_time": "2022-12-22T18:57:53.915Z"
   },
   {
    "duration": 0,
    "start_time": "2022-12-22T18:57:53.915Z"
   },
   {
    "duration": 0,
    "start_time": "2022-12-22T18:57:53.917Z"
   },
   {
    "duration": 0,
    "start_time": "2022-12-22T18:57:53.918Z"
   },
   {
    "duration": 0,
    "start_time": "2022-12-22T18:57:53.920Z"
   },
   {
    "duration": 0,
    "start_time": "2022-12-22T18:57:53.921Z"
   },
   {
    "duration": 0,
    "start_time": "2022-12-22T18:57:53.923Z"
   },
   {
    "duration": 0,
    "start_time": "2022-12-22T18:57:53.924Z"
   },
   {
    "duration": 0,
    "start_time": "2022-12-22T18:57:53.925Z"
   },
   {
    "duration": 0,
    "start_time": "2022-12-22T18:57:53.926Z"
   },
   {
    "duration": 0,
    "start_time": "2022-12-22T18:57:53.928Z"
   },
   {
    "duration": 5,
    "start_time": "2022-12-22T18:58:34.262Z"
   },
   {
    "duration": 5,
    "start_time": "2022-12-22T18:58:34.961Z"
   },
   {
    "duration": 177,
    "start_time": "2022-12-22T18:58:39.324Z"
   },
   {
    "duration": 170,
    "start_time": "2022-12-22T18:58:39.504Z"
   },
   {
    "duration": 245,
    "start_time": "2022-12-22T18:58:39.677Z"
   },
   {
    "duration": 2473,
    "start_time": "2022-12-22T18:58:39.924Z"
   },
   {
    "duration": 1843,
    "start_time": "2022-12-22T18:58:42.401Z"
   },
   {
    "duration": 3843,
    "start_time": "2022-12-22T18:58:44.246Z"
   },
   {
    "duration": 423,
    "start_time": "2022-12-22T18:58:48.091Z"
   },
   {
    "duration": 0,
    "start_time": "2022-12-22T18:58:48.517Z"
   },
   {
    "duration": 0,
    "start_time": "2022-12-22T18:58:48.518Z"
   },
   {
    "duration": 0,
    "start_time": "2022-12-22T18:58:48.520Z"
   },
   {
    "duration": 0,
    "start_time": "2022-12-22T18:58:48.521Z"
   },
   {
    "duration": 0,
    "start_time": "2022-12-22T18:58:48.523Z"
   },
   {
    "duration": 0,
    "start_time": "2022-12-22T18:58:48.524Z"
   },
   {
    "duration": 0,
    "start_time": "2022-12-22T18:58:48.526Z"
   },
   {
    "duration": 0,
    "start_time": "2022-12-22T18:58:48.527Z"
   },
   {
    "duration": 0,
    "start_time": "2022-12-22T18:58:48.529Z"
   },
   {
    "duration": 0,
    "start_time": "2022-12-22T18:58:48.530Z"
   },
   {
    "duration": 0,
    "start_time": "2022-12-22T18:58:48.532Z"
   },
   {
    "duration": 0,
    "start_time": "2022-12-22T18:58:48.534Z"
   },
   {
    "duration": 0,
    "start_time": "2022-12-22T18:58:48.535Z"
   },
   {
    "duration": 0,
    "start_time": "2022-12-22T18:58:48.536Z"
   },
   {
    "duration": 0,
    "start_time": "2022-12-22T18:58:48.538Z"
   },
   {
    "duration": 0,
    "start_time": "2022-12-22T18:58:48.539Z"
   },
   {
    "duration": 0,
    "start_time": "2022-12-22T18:58:48.541Z"
   },
   {
    "duration": 4181,
    "start_time": "2022-12-22T18:59:03.438Z"
   },
   {
    "duration": 435,
    "start_time": "2022-12-22T18:59:07.624Z"
   },
   {
    "duration": 17,
    "start_time": "2022-12-22T19:01:47.716Z"
   },
   {
    "duration": 15,
    "start_time": "2022-12-22T19:01:52.925Z"
   },
   {
    "duration": 416,
    "start_time": "2022-12-22T19:01:55.105Z"
   },
   {
    "duration": 1886,
    "start_time": "2022-12-22T19:02:00.823Z"
   },
   {
    "duration": 1179,
    "start_time": "2022-12-22T19:02:02.711Z"
   },
   {
    "duration": 6,
    "start_time": "2022-12-22T19:02:03.897Z"
   },
   {
    "duration": 458,
    "start_time": "2022-12-22T19:02:03.906Z"
   },
   {
    "duration": 216,
    "start_time": "2022-12-22T19:02:04.366Z"
   },
   {
    "duration": 444,
    "start_time": "2022-12-22T19:02:04.583Z"
   },
   {
    "duration": 11,
    "start_time": "2022-12-22T19:02:05.029Z"
   },
   {
    "duration": 24,
    "start_time": "2022-12-22T19:02:05.042Z"
   },
   {
    "duration": 23,
    "start_time": "2022-12-22T19:02:05.068Z"
   },
   {
    "duration": 48,
    "start_time": "2022-12-22T19:02:05.093Z"
   },
   {
    "duration": 4,
    "start_time": "2022-12-22T19:02:05.143Z"
   },
   {
    "duration": 10,
    "start_time": "2022-12-22T19:02:05.149Z"
   },
   {
    "duration": 202,
    "start_time": "2022-12-22T19:02:05.162Z"
   },
   {
    "duration": 176,
    "start_time": "2022-12-22T19:02:05.366Z"
   },
   {
    "duration": 226,
    "start_time": "2022-12-22T19:02:05.544Z"
   },
   {
    "duration": 1736,
    "start_time": "2022-12-22T19:02:05.772Z"
   },
   {
    "duration": 965,
    "start_time": "2022-12-22T19:02:07.510Z"
   },
   {
    "duration": 20,
    "start_time": "2022-12-22T19:02:08.477Z"
   },
   {
    "duration": 947,
    "start_time": "2022-12-22T19:02:08.499Z"
   },
   {
    "duration": 5,
    "start_time": "2022-12-22T19:02:09.448Z"
   },
   {
    "duration": 4,
    "start_time": "2022-12-22T19:02:09.456Z"
   },
   {
    "duration": 5,
    "start_time": "2022-12-22T19:02:09.462Z"
   },
   {
    "duration": 28,
    "start_time": "2022-12-22T19:02:09.468Z"
   },
   {
    "duration": 56,
    "start_time": "2022-12-22T19:02:09.498Z"
   },
   {
    "duration": 166,
    "start_time": "2022-12-22T19:02:09.556Z"
   },
   {
    "duration": 63,
    "start_time": "2022-12-22T19:02:09.723Z"
   },
   {
    "duration": 61,
    "start_time": "2022-12-22T19:02:09.788Z"
   },
   {
    "duration": 59,
    "start_time": "2022-12-22T19:02:09.850Z"
   },
   {
    "duration": 64,
    "start_time": "2022-12-22T19:02:09.911Z"
   },
   {
    "duration": 64,
    "start_time": "2022-12-22T19:02:09.977Z"
   },
   {
    "duration": 68,
    "start_time": "2022-12-22T19:02:10.043Z"
   },
   {
    "duration": 68,
    "start_time": "2022-12-22T19:02:10.114Z"
   },
   {
    "duration": 22,
    "start_time": "2022-12-22T19:02:10.184Z"
   },
   {
    "duration": 0,
    "start_time": "2022-12-22T19:02:10.208Z"
   },
   {
    "duration": 0,
    "start_time": "2022-12-22T19:02:10.210Z"
   },
   {
    "duration": 0,
    "start_time": "2022-12-22T19:02:10.212Z"
   },
   {
    "duration": 9,
    "start_time": "2022-12-22T19:03:08.266Z"
   },
   {
    "duration": 1365,
    "start_time": "2022-12-22T19:03:09.036Z"
   },
   {
    "duration": 13,
    "start_time": "2022-12-22T19:03:18.646Z"
   },
   {
    "duration": 18,
    "start_time": "2022-12-22T19:05:42.419Z"
   },
   {
    "duration": 1346,
    "start_time": "2022-12-22T19:05:49.055Z"
   },
   {
    "duration": 5,
    "start_time": "2022-12-22T19:05:54.462Z"
   },
   {
    "duration": 1795,
    "start_time": "2022-12-22T19:05:58.417Z"
   },
   {
    "duration": 1605,
    "start_time": "2022-12-22T19:06:00.214Z"
   },
   {
    "duration": 5,
    "start_time": "2022-12-22T19:06:01.821Z"
   },
   {
    "duration": 478,
    "start_time": "2022-12-22T19:06:01.829Z"
   },
   {
    "duration": 214,
    "start_time": "2022-12-22T19:06:02.310Z"
   },
   {
    "duration": 456,
    "start_time": "2022-12-22T19:06:02.526Z"
   },
   {
    "duration": 18,
    "start_time": "2022-12-22T19:06:02.984Z"
   },
   {
    "duration": 5,
    "start_time": "2022-12-22T19:06:03.004Z"
   },
   {
    "duration": 10,
    "start_time": "2022-12-22T19:06:03.011Z"
   },
   {
    "duration": 23,
    "start_time": "2022-12-22T19:06:03.022Z"
   },
   {
    "duration": 3,
    "start_time": "2022-12-22T19:06:03.047Z"
   },
   {
    "duration": 9,
    "start_time": "2022-12-22T19:06:03.052Z"
   },
   {
    "duration": 220,
    "start_time": "2022-12-22T19:06:03.063Z"
   },
   {
    "duration": 165,
    "start_time": "2022-12-22T19:06:03.286Z"
   },
   {
    "duration": 231,
    "start_time": "2022-12-22T19:06:03.452Z"
   },
   {
    "duration": 1648,
    "start_time": "2022-12-22T19:06:03.696Z"
   },
   {
    "duration": 983,
    "start_time": "2022-12-22T19:06:05.346Z"
   },
   {
    "duration": 12,
    "start_time": "2022-12-22T19:06:06.332Z"
   },
   {
    "duration": 1032,
    "start_time": "2022-12-22T19:06:06.346Z"
   },
   {
    "duration": 4,
    "start_time": "2022-12-22T19:06:07.381Z"
   },
   {
    "duration": 14,
    "start_time": "2022-12-22T19:06:07.387Z"
   },
   {
    "duration": 14,
    "start_time": "2022-12-22T19:06:07.403Z"
   },
   {
    "duration": 7,
    "start_time": "2022-12-22T19:06:07.419Z"
   },
   {
    "duration": 59,
    "start_time": "2022-12-22T19:06:07.428Z"
   },
   {
    "duration": 3899,
    "start_time": "2022-12-22T19:06:07.489Z"
   },
   {
    "duration": 2447,
    "start_time": "2022-12-22T19:06:43.360Z"
   },
   {
    "duration": 1227,
    "start_time": "2022-12-22T19:06:45.809Z"
   },
   {
    "duration": 5,
    "start_time": "2022-12-22T19:06:47.038Z"
   },
   {
    "duration": 480,
    "start_time": "2022-12-22T19:06:47.046Z"
   },
   {
    "duration": 228,
    "start_time": "2022-12-22T19:06:47.528Z"
   },
   {
    "duration": 473,
    "start_time": "2022-12-22T19:06:47.759Z"
   },
   {
    "duration": 8,
    "start_time": "2022-12-22T19:06:48.234Z"
   },
   {
    "duration": 7,
    "start_time": "2022-12-22T19:06:48.244Z"
   },
   {
    "duration": 8,
    "start_time": "2022-12-22T19:06:48.253Z"
   },
   {
    "duration": 27,
    "start_time": "2022-12-22T19:06:48.297Z"
   },
   {
    "duration": 5,
    "start_time": "2022-12-22T19:06:48.326Z"
   },
   {
    "duration": 6,
    "start_time": "2022-12-22T19:06:48.333Z"
   },
   {
    "duration": 228,
    "start_time": "2022-12-22T19:06:48.341Z"
   },
   {
    "duration": 233,
    "start_time": "2022-12-22T19:06:48.571Z"
   },
   {
    "duration": 271,
    "start_time": "2022-12-22T19:06:48.806Z"
   },
   {
    "duration": 1734,
    "start_time": "2022-12-22T19:06:49.080Z"
   },
   {
    "duration": 923,
    "start_time": "2022-12-22T19:06:50.816Z"
   },
   {
    "duration": 10,
    "start_time": "2022-12-22T19:06:51.741Z"
   },
   {
    "duration": 973,
    "start_time": "2022-12-22T19:06:51.753Z"
   },
   {
    "duration": 4,
    "start_time": "2022-12-22T19:06:52.728Z"
   },
   {
    "duration": 7,
    "start_time": "2022-12-22T19:06:52.734Z"
   },
   {
    "duration": 6,
    "start_time": "2022-12-22T19:06:52.743Z"
   },
   {
    "duration": 6,
    "start_time": "2022-12-22T19:06:52.752Z"
   },
   {
    "duration": 73,
    "start_time": "2022-12-22T19:06:52.760Z"
   },
   {
    "duration": 3885,
    "start_time": "2022-12-22T19:06:52.834Z"
   },
   {
    "duration": 1781,
    "start_time": "2022-12-22T19:08:11.234Z"
   },
   {
    "duration": 1384,
    "start_time": "2022-12-22T19:08:13.018Z"
   },
   {
    "duration": 5,
    "start_time": "2022-12-22T19:08:14.404Z"
   },
   {
    "duration": 443,
    "start_time": "2022-12-22T19:08:14.411Z"
   },
   {
    "duration": 225,
    "start_time": "2022-12-22T19:08:14.856Z"
   },
   {
    "duration": 456,
    "start_time": "2022-12-22T19:08:15.083Z"
   },
   {
    "duration": 9,
    "start_time": "2022-12-22T19:08:15.542Z"
   },
   {
    "duration": 7,
    "start_time": "2022-12-22T19:08:15.554Z"
   },
   {
    "duration": 35,
    "start_time": "2022-12-22T19:08:15.563Z"
   },
   {
    "duration": 26,
    "start_time": "2022-12-22T19:08:15.602Z"
   },
   {
    "duration": 5,
    "start_time": "2022-12-22T19:08:15.630Z"
   },
   {
    "duration": 6,
    "start_time": "2022-12-22T19:08:15.637Z"
   },
   {
    "duration": 215,
    "start_time": "2022-12-22T19:08:15.645Z"
   },
   {
    "duration": 212,
    "start_time": "2022-12-22T19:08:15.862Z"
   },
   {
    "duration": 308,
    "start_time": "2022-12-22T19:08:16.076Z"
   },
   {
    "duration": 1606,
    "start_time": "2022-12-22T19:08:16.386Z"
   },
   {
    "duration": 977,
    "start_time": "2022-12-22T19:08:17.994Z"
   },
   {
    "duration": 25,
    "start_time": "2022-12-22T19:08:18.973Z"
   },
   {
    "duration": 1071,
    "start_time": "2022-12-22T19:08:19.001Z"
   },
   {
    "duration": 5,
    "start_time": "2022-12-22T19:08:20.073Z"
   },
   {
    "duration": 18,
    "start_time": "2022-12-22T19:08:20.080Z"
   },
   {
    "duration": 16,
    "start_time": "2022-12-22T19:08:20.099Z"
   },
   {
    "duration": 13,
    "start_time": "2022-12-22T19:08:20.117Z"
   },
   {
    "duration": 56,
    "start_time": "2022-12-22T19:08:20.132Z"
   },
   {
    "duration": 3728,
    "start_time": "2022-12-22T19:08:20.190Z"
   },
   {
    "duration": 2103,
    "start_time": "2022-12-22T19:09:12.720Z"
   },
   {
    "duration": 1183,
    "start_time": "2022-12-22T19:09:14.825Z"
   },
   {
    "duration": 6,
    "start_time": "2022-12-22T19:09:16.010Z"
   },
   {
    "duration": 565,
    "start_time": "2022-12-22T19:09:16.018Z"
   },
   {
    "duration": 229,
    "start_time": "2022-12-22T19:09:16.585Z"
   },
   {
    "duration": 497,
    "start_time": "2022-12-22T19:09:16.816Z"
   },
   {
    "duration": 7,
    "start_time": "2022-12-22T19:09:17.315Z"
   },
   {
    "duration": 12,
    "start_time": "2022-12-22T19:09:17.324Z"
   },
   {
    "duration": 21,
    "start_time": "2022-12-22T19:09:17.338Z"
   },
   {
    "duration": 55,
    "start_time": "2022-12-22T19:09:17.361Z"
   },
   {
    "duration": 4,
    "start_time": "2022-12-22T19:09:17.419Z"
   },
   {
    "duration": 5,
    "start_time": "2022-12-22T19:09:17.426Z"
   },
   {
    "duration": 326,
    "start_time": "2022-12-22T19:09:17.434Z"
   },
   {
    "duration": 189,
    "start_time": "2022-12-22T19:09:17.765Z"
   },
   {
    "duration": 252,
    "start_time": "2022-12-22T19:09:17.956Z"
   },
   {
    "duration": 1615,
    "start_time": "2022-12-22T19:09:18.210Z"
   },
   {
    "duration": 991,
    "start_time": "2022-12-22T19:09:19.827Z"
   },
   {
    "duration": 4018,
    "start_time": "2022-12-22T19:09:20.820Z"
   },
   {
    "duration": 858,
    "start_time": "2022-12-22T19:09:24.840Z"
   },
   {
    "duration": 5,
    "start_time": "2022-12-22T19:09:25.700Z"
   },
   {
    "duration": 7,
    "start_time": "2022-12-22T19:09:25.706Z"
   },
   {
    "duration": 16,
    "start_time": "2022-12-22T19:09:25.714Z"
   },
   {
    "duration": 19,
    "start_time": "2022-12-22T19:09:25.732Z"
   },
   {
    "duration": 134,
    "start_time": "2022-12-22T19:09:25.753Z"
   },
   {
    "duration": 0,
    "start_time": "2022-12-22T19:09:25.889Z"
   },
   {
    "duration": 0,
    "start_time": "2022-12-22T19:09:25.890Z"
   },
   {
    "duration": 0,
    "start_time": "2022-12-22T19:09:25.891Z"
   },
   {
    "duration": 0,
    "start_time": "2022-12-22T19:09:25.896Z"
   },
   {
    "duration": 0,
    "start_time": "2022-12-22T19:09:25.897Z"
   },
   {
    "duration": 0,
    "start_time": "2022-12-22T19:09:25.899Z"
   },
   {
    "duration": 0,
    "start_time": "2022-12-22T19:09:25.900Z"
   },
   {
    "duration": 1,
    "start_time": "2022-12-22T19:09:25.901Z"
   },
   {
    "duration": 0,
    "start_time": "2022-12-22T19:09:25.903Z"
   },
   {
    "duration": 0,
    "start_time": "2022-12-22T19:09:25.904Z"
   },
   {
    "duration": 0,
    "start_time": "2022-12-22T19:09:25.906Z"
   },
   {
    "duration": 0,
    "start_time": "2022-12-22T19:09:25.907Z"
   },
   {
    "duration": 1778,
    "start_time": "2022-12-22T19:10:15.935Z"
   },
   {
    "duration": 1454,
    "start_time": "2022-12-22T19:10:17.715Z"
   },
   {
    "duration": 6,
    "start_time": "2022-12-22T19:10:19.171Z"
   },
   {
    "duration": 440,
    "start_time": "2022-12-22T19:10:19.181Z"
   },
   {
    "duration": 215,
    "start_time": "2022-12-22T19:10:19.623Z"
   },
   {
    "duration": 463,
    "start_time": "2022-12-22T19:10:19.839Z"
   },
   {
    "duration": 24,
    "start_time": "2022-12-22T19:10:20.304Z"
   },
   {
    "duration": 7,
    "start_time": "2022-12-22T19:10:20.331Z"
   },
   {
    "duration": 21,
    "start_time": "2022-12-22T19:10:20.340Z"
   },
   {
    "duration": 38,
    "start_time": "2022-12-22T19:10:20.365Z"
   },
   {
    "duration": 4,
    "start_time": "2022-12-22T19:10:20.405Z"
   },
   {
    "duration": 7,
    "start_time": "2022-12-22T19:10:20.411Z"
   },
   {
    "duration": 201,
    "start_time": "2022-12-22T19:10:20.420Z"
   },
   {
    "duration": 161,
    "start_time": "2022-12-22T19:10:20.623Z"
   },
   {
    "duration": 232,
    "start_time": "2022-12-22T19:10:20.786Z"
   },
   {
    "duration": 1608,
    "start_time": "2022-12-22T19:10:21.020Z"
   },
   {
    "duration": 952,
    "start_time": "2022-12-22T19:10:22.629Z"
   },
   {
    "duration": 127,
    "start_time": "2022-12-22T19:10:23.584Z"
   },
   {
    "duration": 0,
    "start_time": "2022-12-22T19:10:23.713Z"
   },
   {
    "duration": 0,
    "start_time": "2022-12-22T19:10:23.715Z"
   },
   {
    "duration": 0,
    "start_time": "2022-12-22T19:10:23.716Z"
   },
   {
    "duration": 0,
    "start_time": "2022-12-22T19:10:23.717Z"
   },
   {
    "duration": 0,
    "start_time": "2022-12-22T19:10:23.719Z"
   },
   {
    "duration": 0,
    "start_time": "2022-12-22T19:10:23.720Z"
   },
   {
    "duration": 0,
    "start_time": "2022-12-22T19:10:23.721Z"
   },
   {
    "duration": 0,
    "start_time": "2022-12-22T19:10:23.722Z"
   },
   {
    "duration": 0,
    "start_time": "2022-12-22T19:10:23.723Z"
   },
   {
    "duration": 0,
    "start_time": "2022-12-22T19:10:23.725Z"
   },
   {
    "duration": 0,
    "start_time": "2022-12-22T19:10:23.726Z"
   },
   {
    "duration": 0,
    "start_time": "2022-12-22T19:10:23.728Z"
   },
   {
    "duration": 0,
    "start_time": "2022-12-22T19:10:23.730Z"
   },
   {
    "duration": 0,
    "start_time": "2022-12-22T19:10:23.731Z"
   },
   {
    "duration": 0,
    "start_time": "2022-12-22T19:10:23.732Z"
   },
   {
    "duration": 0,
    "start_time": "2022-12-22T19:10:23.733Z"
   },
   {
    "duration": 0,
    "start_time": "2022-12-22T19:10:23.735Z"
   },
   {
    "duration": 0,
    "start_time": "2022-12-22T19:10:23.736Z"
   },
   {
    "duration": 2021,
    "start_time": "2022-12-22T19:10:44.483Z"
   },
   {
    "duration": 1134,
    "start_time": "2022-12-22T19:10:46.506Z"
   },
   {
    "duration": 8,
    "start_time": "2022-12-22T19:10:47.642Z"
   },
   {
    "duration": 437,
    "start_time": "2022-12-22T19:10:47.653Z"
   },
   {
    "duration": 219,
    "start_time": "2022-12-22T19:10:48.097Z"
   },
   {
    "duration": 438,
    "start_time": "2022-12-22T19:10:48.318Z"
   },
   {
    "duration": 9,
    "start_time": "2022-12-22T19:10:48.758Z"
   },
   {
    "duration": 27,
    "start_time": "2022-12-22T19:10:48.769Z"
   },
   {
    "duration": 6,
    "start_time": "2022-12-22T19:10:48.799Z"
   },
   {
    "duration": 27,
    "start_time": "2022-12-22T19:10:48.808Z"
   },
   {
    "duration": 4,
    "start_time": "2022-12-22T19:10:48.837Z"
   },
   {
    "duration": 11,
    "start_time": "2022-12-22T19:10:48.843Z"
   },
   {
    "duration": 248,
    "start_time": "2022-12-22T19:10:48.856Z"
   },
   {
    "duration": 201,
    "start_time": "2022-12-22T19:10:49.107Z"
   },
   {
    "duration": 260,
    "start_time": "2022-12-22T19:10:49.311Z"
   },
   {
    "duration": 1630,
    "start_time": "2022-12-22T19:10:49.573Z"
   },
   {
    "duration": 985,
    "start_time": "2022-12-22T19:10:51.204Z"
   },
   {
    "duration": 4196,
    "start_time": "2022-12-22T19:10:52.191Z"
   },
   {
    "duration": 0,
    "start_time": "2022-12-22T19:10:56.390Z"
   },
   {
    "duration": 0,
    "start_time": "2022-12-22T19:10:56.392Z"
   },
   {
    "duration": 0,
    "start_time": "2022-12-22T19:10:56.397Z"
   },
   {
    "duration": 0,
    "start_time": "2022-12-22T19:10:56.399Z"
   },
   {
    "duration": 0,
    "start_time": "2022-12-22T19:10:56.401Z"
   },
   {
    "duration": 0,
    "start_time": "2022-12-22T19:10:56.402Z"
   },
   {
    "duration": 0,
    "start_time": "2022-12-22T19:10:56.404Z"
   },
   {
    "duration": 0,
    "start_time": "2022-12-22T19:10:56.406Z"
   },
   {
    "duration": 0,
    "start_time": "2022-12-22T19:10:56.408Z"
   },
   {
    "duration": 0,
    "start_time": "2022-12-22T19:10:56.410Z"
   },
   {
    "duration": 0,
    "start_time": "2022-12-22T19:10:56.412Z"
   },
   {
    "duration": 0,
    "start_time": "2022-12-22T19:10:56.414Z"
   },
   {
    "duration": 0,
    "start_time": "2022-12-22T19:10:56.415Z"
   },
   {
    "duration": 0,
    "start_time": "2022-12-22T19:10:56.417Z"
   },
   {
    "duration": 0,
    "start_time": "2022-12-22T19:10:56.419Z"
   },
   {
    "duration": 0,
    "start_time": "2022-12-22T19:10:56.420Z"
   },
   {
    "duration": 0,
    "start_time": "2022-12-22T19:10:56.421Z"
   },
   {
    "duration": 0,
    "start_time": "2022-12-22T19:10:56.423Z"
   },
   {
    "duration": 9,
    "start_time": "2022-12-22T19:11:48.222Z"
   },
   {
    "duration": 1005,
    "start_time": "2022-12-22T19:11:50.820Z"
   },
   {
    "duration": 10,
    "start_time": "2022-12-22T19:12:07.908Z"
   },
   {
    "duration": 1145,
    "start_time": "2022-12-22T19:12:09.730Z"
   },
   {
    "duration": 8,
    "start_time": "2022-12-22T19:12:16.434Z"
   },
   {
    "duration": 980,
    "start_time": "2022-12-22T19:12:17.709Z"
   },
   {
    "duration": 9,
    "start_time": "2022-12-22T19:12:28.452Z"
   },
   {
    "duration": 1018,
    "start_time": "2022-12-22T19:12:30.218Z"
   },
   {
    "duration": 715,
    "start_time": "2022-12-22T19:12:49.794Z"
   },
   {
    "duration": 0,
    "start_time": "2022-12-22T19:12:50.511Z"
   },
   {
    "duration": 817,
    "start_time": "2022-12-22T19:13:03.925Z"
   },
   {
    "duration": 1101,
    "start_time": "2022-12-22T19:13:04.823Z"
   },
   {
    "duration": 721,
    "start_time": "2022-12-22T19:13:13.266Z"
   },
   {
    "duration": 8,
    "start_time": "2022-12-22T19:13:22.731Z"
   },
   {
    "duration": 947,
    "start_time": "2022-12-22T19:13:23.449Z"
   },
   {
    "duration": 51,
    "start_time": "2022-12-22T19:14:15.454Z"
   },
   {
    "duration": 19,
    "start_time": "2022-12-22T19:14:30.554Z"
   },
   {
    "duration": 17,
    "start_time": "2022-12-22T19:14:39.838Z"
   },
   {
    "duration": 16,
    "start_time": "2022-12-22T19:14:47.609Z"
   },
   {
    "duration": 16,
    "start_time": "2022-12-22T19:14:52.609Z"
   },
   {
    "duration": 7,
    "start_time": "2022-12-22T19:16:02.747Z"
   },
   {
    "duration": 930,
    "start_time": "2022-12-22T19:16:04.874Z"
   },
   {
    "duration": 15,
    "start_time": "2022-12-22T19:17:32.278Z"
   },
   {
    "duration": 19,
    "start_time": "2022-12-22T19:17:38.263Z"
   },
   {
    "duration": 19,
    "start_time": "2022-12-22T19:17:45.251Z"
   },
   {
    "duration": 1787,
    "start_time": "2022-12-22T19:18:16.030Z"
   },
   {
    "duration": 1461,
    "start_time": "2022-12-22T19:18:17.819Z"
   },
   {
    "duration": 16,
    "start_time": "2022-12-22T19:18:19.283Z"
   },
   {
    "duration": 622,
    "start_time": "2022-12-22T19:18:19.302Z"
   },
   {
    "duration": 239,
    "start_time": "2022-12-22T19:18:19.926Z"
   },
   {
    "duration": 530,
    "start_time": "2022-12-22T19:18:20.167Z"
   },
   {
    "duration": 13,
    "start_time": "2022-12-22T19:18:20.699Z"
   },
   {
    "duration": 17,
    "start_time": "2022-12-22T19:18:20.714Z"
   },
   {
    "duration": 23,
    "start_time": "2022-12-22T19:18:20.734Z"
   },
   {
    "duration": 35,
    "start_time": "2022-12-22T19:18:20.761Z"
   },
   {
    "duration": 4,
    "start_time": "2022-12-22T19:18:20.801Z"
   },
   {
    "duration": 12,
    "start_time": "2022-12-22T19:18:20.809Z"
   },
   {
    "duration": 185,
    "start_time": "2022-12-22T19:18:20.823Z"
   },
   {
    "duration": 197,
    "start_time": "2022-12-22T19:18:21.011Z"
   },
   {
    "duration": 238,
    "start_time": "2022-12-22T19:18:21.210Z"
   },
   {
    "duration": 1747,
    "start_time": "2022-12-22T19:18:21.450Z"
   },
   {
    "duration": 1025,
    "start_time": "2022-12-22T19:18:23.199Z"
   },
   {
    "duration": 12,
    "start_time": "2022-12-22T19:18:24.226Z"
   },
   {
    "duration": 1053,
    "start_time": "2022-12-22T19:18:24.240Z"
   },
   {
    "duration": 6,
    "start_time": "2022-12-22T19:18:25.295Z"
   },
   {
    "duration": 17,
    "start_time": "2022-12-22T19:18:25.303Z"
   },
   {
    "duration": 9,
    "start_time": "2022-12-22T19:18:25.323Z"
   },
   {
    "duration": 9,
    "start_time": "2022-12-22T19:18:25.335Z"
   },
   {
    "duration": 81,
    "start_time": "2022-12-22T19:18:25.347Z"
   },
   {
    "duration": 3916,
    "start_time": "2022-12-22T19:18:25.430Z"
   },
   {
    "duration": 1525,
    "start_time": "2022-12-22T19:18:48.014Z"
   },
   {
    "duration": 697,
    "start_time": "2022-12-22T19:18:49.541Z"
   },
   {
    "duration": 5,
    "start_time": "2022-12-22T19:18:50.240Z"
   },
   {
    "duration": 478,
    "start_time": "2022-12-22T19:18:50.248Z"
   },
   {
    "duration": 472,
    "start_time": "2022-12-22T19:18:50.728Z"
   },
   {
    "duration": 802,
    "start_time": "2022-12-22T19:18:51.202Z"
   },
   {
    "duration": 11,
    "start_time": "2022-12-22T19:18:52.006Z"
   },
   {
    "duration": 8,
    "start_time": "2022-12-22T19:18:52.019Z"
   },
   {
    "duration": 69,
    "start_time": "2022-12-22T19:18:52.029Z"
   },
   {
    "duration": 28,
    "start_time": "2022-12-22T19:18:52.102Z"
   },
   {
    "duration": 4,
    "start_time": "2022-12-22T19:18:52.133Z"
   },
   {
    "duration": 58,
    "start_time": "2022-12-22T19:18:52.139Z"
   },
   {
    "duration": 328,
    "start_time": "2022-12-22T19:18:52.199Z"
   },
   {
    "duration": 352,
    "start_time": "2022-12-22T19:18:52.530Z"
   },
   {
    "duration": 254,
    "start_time": "2022-12-22T19:18:52.883Z"
   },
   {
    "duration": 1634,
    "start_time": "2022-12-22T19:18:53.139Z"
   },
   {
    "duration": 998,
    "start_time": "2022-12-22T19:18:54.775Z"
   },
   {
    "duration": 21,
    "start_time": "2022-12-22T19:18:55.775Z"
   },
   {
    "duration": 1072,
    "start_time": "2022-12-22T19:18:55.798Z"
   },
   {
    "duration": 4,
    "start_time": "2022-12-22T19:18:56.872Z"
   },
   {
    "duration": 18,
    "start_time": "2022-12-22T19:18:56.879Z"
   },
   {
    "duration": 7,
    "start_time": "2022-12-22T19:18:56.899Z"
   },
   {
    "duration": 9,
    "start_time": "2022-12-22T19:18:56.908Z"
   },
   {
    "duration": 59,
    "start_time": "2022-12-22T19:18:56.919Z"
   },
   {
    "duration": 3753,
    "start_time": "2022-12-22T19:18:56.980Z"
   },
   {
    "duration": 2288,
    "start_time": "2022-12-22T19:19:43.822Z"
   },
   {
    "duration": 1821,
    "start_time": "2022-12-22T19:19:46.112Z"
   },
   {
    "duration": 6,
    "start_time": "2022-12-22T19:19:47.936Z"
   },
   {
    "duration": 872,
    "start_time": "2022-12-22T19:19:47.944Z"
   },
   {
    "duration": 219,
    "start_time": "2022-12-22T19:19:48.818Z"
   },
   {
    "duration": 442,
    "start_time": "2022-12-22T19:19:49.039Z"
   },
   {
    "duration": 19,
    "start_time": "2022-12-22T19:19:49.484Z"
   },
   {
    "duration": 7,
    "start_time": "2022-12-22T19:19:49.505Z"
   },
   {
    "duration": 6,
    "start_time": "2022-12-22T19:19:49.515Z"
   },
   {
    "duration": 28,
    "start_time": "2022-12-22T19:19:49.524Z"
   },
   {
    "duration": 4,
    "start_time": "2022-12-22T19:19:49.555Z"
   },
   {
    "duration": 4,
    "start_time": "2022-12-22T19:19:49.597Z"
   },
   {
    "duration": 188,
    "start_time": "2022-12-22T19:19:49.603Z"
   },
   {
    "duration": 159,
    "start_time": "2022-12-22T19:19:49.798Z"
   },
   {
    "duration": 260,
    "start_time": "2022-12-22T19:19:49.959Z"
   },
   {
    "duration": 1624,
    "start_time": "2022-12-22T19:19:50.222Z"
   },
   {
    "duration": 1002,
    "start_time": "2022-12-22T19:19:51.848Z"
   },
   {
    "duration": 10,
    "start_time": "2022-12-22T19:19:52.851Z"
   },
   {
    "duration": 966,
    "start_time": "2022-12-22T19:19:52.864Z"
   },
   {
    "duration": 4,
    "start_time": "2022-12-22T19:19:53.832Z"
   },
   {
    "duration": 6,
    "start_time": "2022-12-22T19:19:53.838Z"
   },
   {
    "duration": 4,
    "start_time": "2022-12-22T19:19:53.846Z"
   },
   {
    "duration": 5,
    "start_time": "2022-12-22T19:19:53.852Z"
   },
   {
    "duration": 81,
    "start_time": "2022-12-22T19:19:53.858Z"
   },
   {
    "duration": 3751,
    "start_time": "2022-12-22T19:19:53.941Z"
   },
   {
    "duration": 1552,
    "start_time": "2022-12-22T19:20:34.753Z"
   },
   {
    "duration": 732,
    "start_time": "2022-12-22T19:20:36.311Z"
   },
   {
    "duration": 5,
    "start_time": "2022-12-22T19:20:37.045Z"
   },
   {
    "duration": 461,
    "start_time": "2022-12-22T19:20:37.052Z"
   },
   {
    "duration": 221,
    "start_time": "2022-12-22T19:20:37.514Z"
   },
   {
    "duration": 434,
    "start_time": "2022-12-22T19:20:37.737Z"
   },
   {
    "duration": 7,
    "start_time": "2022-12-22T19:20:38.173Z"
   },
   {
    "duration": 6,
    "start_time": "2022-12-22T19:20:38.197Z"
   },
   {
    "duration": 13,
    "start_time": "2022-12-22T19:20:38.205Z"
   },
   {
    "duration": 24,
    "start_time": "2022-12-22T19:20:38.221Z"
   },
   {
    "duration": 3,
    "start_time": "2022-12-22T19:20:38.247Z"
   },
   {
    "duration": 15,
    "start_time": "2022-12-22T19:20:38.253Z"
   },
   {
    "duration": 472,
    "start_time": "2022-12-22T19:20:38.270Z"
   },
   {
    "duration": 297,
    "start_time": "2022-12-22T19:20:38.745Z"
   },
   {
    "duration": 468,
    "start_time": "2022-12-22T19:20:39.044Z"
   },
   {
    "duration": 2128,
    "start_time": "2022-12-22T19:20:39.514Z"
   },
   {
    "duration": 916,
    "start_time": "2022-12-22T19:20:41.644Z"
   },
   {
    "duration": 16,
    "start_time": "2022-12-22T19:20:42.562Z"
   },
   {
    "duration": 993,
    "start_time": "2022-12-22T19:20:42.580Z"
   },
   {
    "duration": 6,
    "start_time": "2022-12-22T19:20:43.575Z"
   },
   {
    "duration": 17,
    "start_time": "2022-12-22T19:20:43.583Z"
   },
   {
    "duration": 6,
    "start_time": "2022-12-22T19:20:43.602Z"
   },
   {
    "duration": 6,
    "start_time": "2022-12-22T19:20:43.610Z"
   },
   {
    "duration": 81,
    "start_time": "2022-12-22T19:20:43.618Z"
   },
   {
    "duration": 3762,
    "start_time": "2022-12-22T19:20:43.701Z"
   },
   {
    "duration": 1415,
    "start_time": "2022-12-22T19:21:15.451Z"
   },
   {
    "duration": 706,
    "start_time": "2022-12-22T19:21:16.869Z"
   },
   {
    "duration": 5,
    "start_time": "2022-12-22T19:21:17.577Z"
   },
   {
    "duration": 640,
    "start_time": "2022-12-22T19:21:17.584Z"
   },
   {
    "duration": 287,
    "start_time": "2022-12-22T19:21:18.226Z"
   },
   {
    "duration": 607,
    "start_time": "2022-12-22T19:21:18.515Z"
   },
   {
    "duration": 10,
    "start_time": "2022-12-22T19:21:19.124Z"
   },
   {
    "duration": 10,
    "start_time": "2022-12-22T19:21:19.137Z"
   },
   {
    "duration": 18,
    "start_time": "2022-12-22T19:21:19.149Z"
   },
   {
    "duration": 32,
    "start_time": "2022-12-22T19:21:19.169Z"
   },
   {
    "duration": 4,
    "start_time": "2022-12-22T19:21:19.203Z"
   },
   {
    "duration": 7,
    "start_time": "2022-12-22T19:21:19.209Z"
   },
   {
    "duration": 228,
    "start_time": "2022-12-22T19:21:19.218Z"
   },
   {
    "duration": 166,
    "start_time": "2022-12-22T19:21:19.448Z"
   },
   {
    "duration": 230,
    "start_time": "2022-12-22T19:21:19.616Z"
   },
   {
    "duration": 2710,
    "start_time": "2022-12-22T19:21:19.848Z"
   },
   {
    "duration": 1026,
    "start_time": "2022-12-22T19:21:22.560Z"
   },
   {
    "duration": 22,
    "start_time": "2022-12-22T19:21:23.589Z"
   },
   {
    "duration": 954,
    "start_time": "2022-12-22T19:21:23.613Z"
   },
   {
    "duration": 4,
    "start_time": "2022-12-22T19:21:24.569Z"
   },
   {
    "duration": 11,
    "start_time": "2022-12-22T19:21:24.574Z"
   },
   {
    "duration": 8,
    "start_time": "2022-12-22T19:21:24.597Z"
   },
   {
    "duration": 8,
    "start_time": "2022-12-22T19:21:24.607Z"
   },
   {
    "duration": 54,
    "start_time": "2022-12-22T19:21:24.617Z"
   },
   {
    "duration": 3647,
    "start_time": "2022-12-22T19:21:24.673Z"
   },
   {
    "duration": 1491,
    "start_time": "2022-12-22T19:21:47.727Z"
   },
   {
    "duration": 1607,
    "start_time": "2022-12-22T19:21:49.221Z"
   },
   {
    "duration": 5,
    "start_time": "2022-12-22T19:21:50.830Z"
   },
   {
    "duration": 875,
    "start_time": "2022-12-22T19:21:50.838Z"
   },
   {
    "duration": 232,
    "start_time": "2022-12-22T19:21:51.714Z"
   },
   {
    "duration": 462,
    "start_time": "2022-12-22T19:21:51.948Z"
   },
   {
    "duration": 9,
    "start_time": "2022-12-22T19:21:52.412Z"
   },
   {
    "duration": 6,
    "start_time": "2022-12-22T19:21:52.423Z"
   },
   {
    "duration": 9,
    "start_time": "2022-12-22T19:21:52.431Z"
   },
   {
    "duration": 54,
    "start_time": "2022-12-22T19:21:52.443Z"
   },
   {
    "duration": 3,
    "start_time": "2022-12-22T19:21:52.499Z"
   },
   {
    "duration": 9,
    "start_time": "2022-12-22T19:21:52.504Z"
   },
   {
    "duration": 189,
    "start_time": "2022-12-22T19:21:52.514Z"
   },
   {
    "duration": 220,
    "start_time": "2022-12-22T19:21:52.705Z"
   },
   {
    "duration": 236,
    "start_time": "2022-12-22T19:21:52.927Z"
   },
   {
    "duration": 1636,
    "start_time": "2022-12-22T19:21:53.165Z"
   },
   {
    "duration": 966,
    "start_time": "2022-12-22T19:21:54.803Z"
   },
   {
    "duration": 24,
    "start_time": "2022-12-22T19:21:55.772Z"
   },
   {
    "duration": 1031,
    "start_time": "2022-12-22T19:21:55.798Z"
   },
   {
    "duration": 4,
    "start_time": "2022-12-22T19:21:56.831Z"
   },
   {
    "duration": 8,
    "start_time": "2022-12-22T19:21:56.837Z"
   },
   {
    "duration": 7,
    "start_time": "2022-12-22T19:21:56.847Z"
   },
   {
    "duration": 6,
    "start_time": "2022-12-22T19:21:56.855Z"
   },
   {
    "duration": 66,
    "start_time": "2022-12-22T19:21:56.862Z"
   },
   {
    "duration": 3531,
    "start_time": "2022-12-22T19:21:56.930Z"
   },
   {
    "duration": 114010,
    "start_time": "2022-12-22T19:22:00.464Z"
   },
   {
    "duration": 1519,
    "start_time": "2022-12-22T19:28:15.478Z"
   },
   {
    "duration": 1315,
    "start_time": "2022-12-22T19:28:16.999Z"
   },
   {
    "duration": 5,
    "start_time": "2022-12-22T19:28:18.316Z"
   },
   {
    "duration": 683,
    "start_time": "2022-12-22T19:28:18.324Z"
   },
   {
    "duration": 219,
    "start_time": "2022-12-22T19:28:19.011Z"
   },
   {
    "duration": 432,
    "start_time": "2022-12-22T19:28:19.231Z"
   },
   {
    "duration": 8,
    "start_time": "2022-12-22T19:28:19.665Z"
   },
   {
    "duration": 23,
    "start_time": "2022-12-22T19:28:19.675Z"
   },
   {
    "duration": 11,
    "start_time": "2022-12-22T19:28:19.699Z"
   },
   {
    "duration": 25,
    "start_time": "2022-12-22T19:28:19.713Z"
   },
   {
    "duration": 3,
    "start_time": "2022-12-22T19:28:19.740Z"
   },
   {
    "duration": 9,
    "start_time": "2022-12-22T19:28:19.744Z"
   },
   {
    "duration": 213,
    "start_time": "2022-12-22T19:28:19.755Z"
   },
   {
    "duration": 170,
    "start_time": "2022-12-22T19:28:19.970Z"
   },
   {
    "duration": 254,
    "start_time": "2022-12-22T19:28:20.142Z"
   },
   {
    "duration": 1580,
    "start_time": "2022-12-22T19:28:20.398Z"
   },
   {
    "duration": 1020,
    "start_time": "2022-12-22T19:28:21.981Z"
   },
   {
    "duration": 23,
    "start_time": "2022-12-22T19:28:23.003Z"
   },
   {
    "duration": 1053,
    "start_time": "2022-12-22T19:28:23.029Z"
   },
   {
    "duration": 4,
    "start_time": "2022-12-22T19:28:24.084Z"
   },
   {
    "duration": 4,
    "start_time": "2022-12-22T19:28:24.097Z"
   },
   {
    "duration": 6,
    "start_time": "2022-12-22T19:28:24.103Z"
   },
   {
    "duration": 6,
    "start_time": "2022-12-22T19:28:24.111Z"
   },
   {
    "duration": 60,
    "start_time": "2022-12-22T19:28:24.119Z"
   },
   {
    "duration": 3686,
    "start_time": "2022-12-22T19:28:24.181Z"
   },
   {
    "duration": 112020,
    "start_time": "2022-12-22T19:28:27.869Z"
   },
   {
    "duration": 447099,
    "start_time": "2022-12-22T19:30:19.890Z"
   },
   {
    "duration": 13802,
    "start_time": "2022-12-22T19:37:46.998Z"
   },
   {
    "duration": 111,
    "start_time": "2022-12-22T19:38:00.802Z"
   },
   {
    "duration": 7287,
    "start_time": "2022-12-22T19:38:00.914Z"
   },
   {
    "duration": 113271,
    "start_time": "2022-12-22T19:38:08.202Z"
   },
   {
    "duration": 152517,
    "start_time": "2022-12-22T19:40:01.475Z"
   },
   {
    "duration": 7106,
    "start_time": "2022-12-22T19:42:33.994Z"
   },
   {
    "duration": 106,
    "start_time": "2022-12-22T19:42:41.102Z"
   },
   {
    "duration": 5,
    "start_time": "2022-12-22T19:42:41.210Z"
   },
   {
    "duration": 10,
    "start_time": "2022-12-22T19:42:41.217Z"
   },
   {
    "duration": 31,
    "start_time": "2022-12-22T19:53:57.319Z"
   },
   {
    "duration": 988,
    "start_time": "2022-12-22T19:53:58.469Z"
   },
   {
    "duration": 290727,
    "start_time": "2022-12-22T19:54:19.709Z"
   },
   {
    "duration": 4,
    "start_time": "2022-12-22T19:59:10.439Z"
   },
   {
    "duration": 22,
    "start_time": "2022-12-22T20:01:06.709Z"
   },
   {
    "duration": 4,
    "start_time": "2022-12-22T20:01:10.038Z"
   },
   {
    "duration": 11,
    "start_time": "2022-12-22T20:01:12.938Z"
   },
   {
    "duration": 1521,
    "start_time": "2022-12-22T20:02:18.766Z"
   },
   {
    "duration": 721,
    "start_time": "2022-12-22T20:02:20.291Z"
   },
   {
    "duration": 7,
    "start_time": "2022-12-22T20:02:21.014Z"
   },
   {
    "duration": 449,
    "start_time": "2022-12-22T20:02:21.023Z"
   },
   {
    "duration": 227,
    "start_time": "2022-12-22T20:02:21.473Z"
   },
   {
    "duration": 459,
    "start_time": "2022-12-22T20:02:21.701Z"
   },
   {
    "duration": 9,
    "start_time": "2022-12-22T20:02:22.162Z"
   },
   {
    "duration": 26,
    "start_time": "2022-12-22T20:02:22.173Z"
   },
   {
    "duration": 21,
    "start_time": "2022-12-22T20:02:22.201Z"
   },
   {
    "duration": 47,
    "start_time": "2022-12-22T20:02:22.225Z"
   },
   {
    "duration": 4,
    "start_time": "2022-12-22T20:02:22.273Z"
   },
   {
    "duration": 8,
    "start_time": "2022-12-22T20:02:22.279Z"
   },
   {
    "duration": 172,
    "start_time": "2022-12-22T20:02:22.289Z"
   },
   {
    "duration": 174,
    "start_time": "2022-12-22T20:02:22.463Z"
   },
   {
    "duration": 229,
    "start_time": "2022-12-22T20:02:22.639Z"
   },
   {
    "duration": 1584,
    "start_time": "2022-12-22T20:02:22.870Z"
   },
   {
    "duration": 1031,
    "start_time": "2022-12-22T20:02:24.456Z"
   },
   {
    "duration": 26,
    "start_time": "2022-12-22T20:02:25.489Z"
   },
   {
    "duration": 1069,
    "start_time": "2022-12-22T20:02:25.517Z"
   },
   {
    "duration": 10,
    "start_time": "2022-12-22T20:02:26.587Z"
   },
   {
    "duration": 3,
    "start_time": "2022-12-22T20:02:26.599Z"
   },
   {
    "duration": 33,
    "start_time": "2022-12-22T20:02:26.603Z"
   },
   {
    "duration": 4,
    "start_time": "2022-12-22T20:02:26.638Z"
   },
   {
    "duration": 52,
    "start_time": "2022-12-22T20:02:26.644Z"
   },
   {
    "duration": 3628,
    "start_time": "2022-12-22T20:02:26.697Z"
   },
   {
    "duration": 114027,
    "start_time": "2022-12-22T20:02:30.327Z"
   },
   {
    "duration": 498661,
    "start_time": "2022-12-22T20:04:24.357Z"
   },
   {
    "duration": 15779,
    "start_time": "2022-12-22T20:12:43.021Z"
   },
   {
    "duration": 118,
    "start_time": "2022-12-22T20:12:58.802Z"
   },
   {
    "duration": 7352,
    "start_time": "2022-12-22T20:12:58.921Z"
   },
   {
    "duration": 113710,
    "start_time": "2022-12-22T20:13:06.275Z"
   },
   {
    "duration": 442444,
    "start_time": "2022-12-22T20:14:59.987Z"
   },
   {
    "duration": 16771,
    "start_time": "2022-12-22T20:22:22.433Z"
   },
   {
    "duration": 102,
    "start_time": "2022-12-22T20:22:39.206Z"
   },
   {
    "duration": 4,
    "start_time": "2022-12-22T20:22:39.310Z"
   },
   {
    "duration": 10,
    "start_time": "2022-12-22T20:22:39.316Z"
   },
   {
    "duration": 1519,
    "start_time": "2022-12-22T20:59:43.567Z"
   },
   {
    "duration": 1252,
    "start_time": "2022-12-22T20:59:45.088Z"
   },
   {
    "duration": 64,
    "start_time": "2022-12-22T20:59:46.342Z"
   },
   {
    "duration": 929,
    "start_time": "2022-12-22T20:59:46.410Z"
   },
   {
    "duration": 394,
    "start_time": "2022-12-22T20:59:47.341Z"
   },
   {
    "duration": 442,
    "start_time": "2022-12-22T20:59:47.737Z"
   },
   {
    "duration": 8,
    "start_time": "2022-12-22T20:59:48.180Z"
   },
   {
    "duration": 17,
    "start_time": "2022-12-22T20:59:48.196Z"
   },
   {
    "duration": 13,
    "start_time": "2022-12-22T20:59:48.214Z"
   },
   {
    "duration": 25,
    "start_time": "2022-12-22T20:59:48.230Z"
   },
   {
    "duration": 4,
    "start_time": "2022-12-22T20:59:48.256Z"
   },
   {
    "duration": 16,
    "start_time": "2022-12-22T20:59:48.261Z"
   },
   {
    "duration": 185,
    "start_time": "2022-12-22T20:59:48.279Z"
   },
   {
    "duration": 165,
    "start_time": "2022-12-22T20:59:48.466Z"
   },
   {
    "duration": 242,
    "start_time": "2022-12-22T20:59:48.632Z"
   },
   {
    "duration": 1736,
    "start_time": "2022-12-22T20:59:48.876Z"
   },
   {
    "duration": 989,
    "start_time": "2022-12-22T20:59:50.615Z"
   },
   {
    "duration": 28,
    "start_time": "2022-12-22T20:59:51.609Z"
   },
   {
    "duration": 1043,
    "start_time": "2022-12-22T20:59:51.639Z"
   },
   {
    "duration": 4,
    "start_time": "2022-12-22T20:59:52.683Z"
   },
   {
    "duration": 30,
    "start_time": "2022-12-22T20:59:52.689Z"
   },
   {
    "duration": 6,
    "start_time": "2022-12-22T20:59:52.721Z"
   },
   {
    "duration": 13,
    "start_time": "2022-12-22T20:59:52.729Z"
   },
   {
    "duration": 57,
    "start_time": "2022-12-22T20:59:52.744Z"
   },
   {
    "duration": 3710,
    "start_time": "2022-12-22T20:59:52.803Z"
   },
   {
    "duration": 117439,
    "start_time": "2022-12-22T20:59:56.515Z"
   },
   {
    "duration": 514255,
    "start_time": "2022-12-22T21:01:53.956Z"
   },
   {
    "duration": 16306,
    "start_time": "2022-12-22T21:10:28.214Z"
   },
   {
    "duration": 111,
    "start_time": "2022-12-22T21:10:44.597Z"
   },
   {
    "duration": 7282,
    "start_time": "2022-12-22T21:10:44.711Z"
   },
   {
    "duration": 115615,
    "start_time": "2022-12-22T21:10:51.996Z"
   },
   {
    "duration": 466926,
    "start_time": "2022-12-22T21:12:47.613Z"
   },
   {
    "duration": 17175,
    "start_time": "2022-12-22T21:20:34.541Z"
   },
   {
    "duration": 182,
    "start_time": "2022-12-22T21:20:51.720Z"
   },
   {
    "duration": 6,
    "start_time": "2022-12-22T21:20:51.909Z"
   },
   {
    "duration": 15,
    "start_time": "2022-12-22T21:20:51.918Z"
   },
   {
    "duration": 43,
    "start_time": "2022-12-23T05:27:15.181Z"
   },
   {
    "duration": 1550,
    "start_time": "2022-12-23T05:27:20.651Z"
   },
   {
    "duration": 1860,
    "start_time": "2022-12-23T05:27:22.203Z"
   },
   {
    "duration": 5,
    "start_time": "2022-12-23T05:27:24.065Z"
   },
   {
    "duration": 390,
    "start_time": "2022-12-23T05:27:24.072Z"
   },
   {
    "duration": 194,
    "start_time": "2022-12-23T05:27:24.464Z"
   },
   {
    "duration": 406,
    "start_time": "2022-12-23T05:27:24.660Z"
   },
   {
    "duration": 7,
    "start_time": "2022-12-23T05:27:25.068Z"
   },
   {
    "duration": 6,
    "start_time": "2022-12-23T05:27:25.076Z"
   },
   {
    "duration": 23,
    "start_time": "2022-12-23T05:27:25.083Z"
   },
   {
    "duration": 24,
    "start_time": "2022-12-23T05:27:25.108Z"
   },
   {
    "duration": 3,
    "start_time": "2022-12-23T05:27:25.134Z"
   },
   {
    "duration": 7,
    "start_time": "2022-12-23T05:27:25.138Z"
   },
   {
    "duration": 181,
    "start_time": "2022-12-23T05:27:25.147Z"
   },
   {
    "duration": 157,
    "start_time": "2022-12-23T05:27:25.329Z"
   },
   {
    "duration": 223,
    "start_time": "2022-12-23T05:27:25.487Z"
   },
   {
    "duration": 1559,
    "start_time": "2022-12-23T05:27:25.711Z"
   },
   {
    "duration": 1066,
    "start_time": "2022-12-23T05:27:27.272Z"
   },
   {
    "duration": 21,
    "start_time": "2022-12-23T05:27:28.340Z"
   },
   {
    "duration": 995,
    "start_time": "2022-12-23T05:27:28.362Z"
   },
   {
    "duration": 4,
    "start_time": "2022-12-23T05:27:29.359Z"
   },
   {
    "duration": 4,
    "start_time": "2022-12-23T05:27:29.366Z"
   },
   {
    "duration": 6,
    "start_time": "2022-12-23T05:27:29.372Z"
   },
   {
    "duration": 27,
    "start_time": "2022-12-23T05:27:29.379Z"
   },
   {
    "duration": 52,
    "start_time": "2022-12-23T05:27:29.408Z"
   },
   {
    "duration": 3565,
    "start_time": "2022-12-23T05:27:29.462Z"
   },
   {
    "duration": 110098,
    "start_time": "2022-12-23T05:27:33.029Z"
   },
   {
    "duration": 493574,
    "start_time": "2022-12-23T05:29:23.129Z"
   },
   {
    "duration": 15103,
    "start_time": "2022-12-23T05:37:36.707Z"
   },
   {
    "duration": 128,
    "start_time": "2022-12-23T05:37:51.813Z"
   },
   {
    "duration": 7204,
    "start_time": "2022-12-23T05:37:51.943Z"
   },
   {
    "duration": 113492,
    "start_time": "2022-12-23T05:37:59.149Z"
   },
   {
    "duration": 443056,
    "start_time": "2022-12-23T05:39:52.643Z"
   },
   {
    "duration": 17004,
    "start_time": "2022-12-23T05:47:15.701Z"
   },
   {
    "duration": 17,
    "start_time": "2022-12-23T05:47:32.708Z"
   },
   {
    "duration": 9,
    "start_time": "2022-12-23T05:47:32.806Z"
   },
   {
    "duration": 12,
    "start_time": "2022-12-23T05:47:32.818Z"
   },
   {
    "duration": 1383,
    "start_time": "2022-12-23T06:20:59.156Z"
   },
   {
    "duration": 669,
    "start_time": "2022-12-23T06:21:00.541Z"
   },
   {
    "duration": 5,
    "start_time": "2022-12-23T06:21:01.212Z"
   },
   {
    "duration": 400,
    "start_time": "2022-12-23T06:21:01.219Z"
   },
   {
    "duration": 219,
    "start_time": "2022-12-23T06:21:01.620Z"
   },
   {
    "duration": 778,
    "start_time": "2022-12-23T06:21:01.840Z"
   },
   {
    "duration": 8,
    "start_time": "2022-12-23T06:21:02.621Z"
   },
   {
    "duration": 6,
    "start_time": "2022-12-23T06:21:02.630Z"
   },
   {
    "duration": 6,
    "start_time": "2022-12-23T06:21:02.637Z"
   },
   {
    "duration": 70,
    "start_time": "2022-12-23T06:21:02.645Z"
   },
   {
    "duration": 2,
    "start_time": "2022-12-23T06:21:02.717Z"
   },
   {
    "duration": 9,
    "start_time": "2022-12-23T06:21:02.721Z"
   },
   {
    "duration": 300,
    "start_time": "2022-12-23T06:21:02.731Z"
   },
   {
    "duration": 320,
    "start_time": "2022-12-23T06:21:03.033Z"
   },
   {
    "duration": 354,
    "start_time": "2022-12-23T06:21:03.354Z"
   },
   {
    "duration": 1495,
    "start_time": "2022-12-23T06:21:03.709Z"
   },
   {
    "duration": 929,
    "start_time": "2022-12-23T06:21:05.206Z"
   },
   {
    "duration": 18,
    "start_time": "2022-12-23T06:21:06.137Z"
   },
   {
    "duration": 850,
    "start_time": "2022-12-23T06:21:06.157Z"
   },
   {
    "duration": 4,
    "start_time": "2022-12-23T06:21:07.008Z"
   },
   {
    "duration": 7,
    "start_time": "2022-12-23T06:21:07.014Z"
   },
   {
    "duration": 10,
    "start_time": "2022-12-23T06:21:07.022Z"
   },
   {
    "duration": 9,
    "start_time": "2022-12-23T06:21:07.034Z"
   },
   {
    "duration": 143,
    "start_time": "2022-12-23T06:21:07.044Z"
   },
   {
    "duration": 0,
    "start_time": "2022-12-23T06:21:07.189Z"
   },
   {
    "duration": 0,
    "start_time": "2022-12-23T06:21:07.190Z"
   },
   {
    "duration": 0,
    "start_time": "2022-12-23T06:21:07.192Z"
   },
   {
    "duration": 0,
    "start_time": "2022-12-23T06:21:07.193Z"
   },
   {
    "duration": 0,
    "start_time": "2022-12-23T06:21:07.194Z"
   },
   {
    "duration": 0,
    "start_time": "2022-12-23T06:21:07.195Z"
   },
   {
    "duration": 0,
    "start_time": "2022-12-23T06:21:07.196Z"
   },
   {
    "duration": 0,
    "start_time": "2022-12-23T06:21:07.197Z"
   },
   {
    "duration": 0,
    "start_time": "2022-12-23T06:21:07.204Z"
   },
   {
    "duration": 0,
    "start_time": "2022-12-23T06:21:07.205Z"
   },
   {
    "duration": 0,
    "start_time": "2022-12-23T06:21:07.207Z"
   },
   {
    "duration": 0,
    "start_time": "2022-12-23T06:21:07.208Z"
   },
   {
    "duration": 1363,
    "start_time": "2022-12-23T06:21:35.934Z"
   },
   {
    "duration": 1014,
    "start_time": "2022-12-23T06:21:37.299Z"
   },
   {
    "duration": 4,
    "start_time": "2022-12-23T06:21:38.315Z"
   },
   {
    "duration": 819,
    "start_time": "2022-12-23T06:21:38.322Z"
   },
   {
    "duration": 384,
    "start_time": "2022-12-23T06:21:39.143Z"
   },
   {
    "duration": 555,
    "start_time": "2022-12-23T06:21:39.528Z"
   },
   {
    "duration": 20,
    "start_time": "2022-12-23T06:21:40.085Z"
   },
   {
    "duration": 4,
    "start_time": "2022-12-23T06:21:40.107Z"
   },
   {
    "duration": 10,
    "start_time": "2022-12-23T06:21:40.113Z"
   },
   {
    "duration": 34,
    "start_time": "2022-12-23T06:21:40.126Z"
   },
   {
    "duration": 3,
    "start_time": "2022-12-23T06:21:40.163Z"
   },
   {
    "duration": 26,
    "start_time": "2022-12-23T06:21:40.168Z"
   },
   {
    "duration": 165,
    "start_time": "2022-12-23T06:21:40.196Z"
   },
   {
    "duration": 147,
    "start_time": "2022-12-23T06:21:40.362Z"
   },
   {
    "duration": 208,
    "start_time": "2022-12-23T06:21:40.511Z"
   },
   {
    "duration": 1445,
    "start_time": "2022-12-23T06:21:40.720Z"
   },
   {
    "duration": 862,
    "start_time": "2022-12-23T06:21:42.167Z"
   },
   {
    "duration": 19,
    "start_time": "2022-12-23T06:21:43.031Z"
   },
   {
    "duration": 850,
    "start_time": "2022-12-23T06:21:43.052Z"
   },
   {
    "duration": 3,
    "start_time": "2022-12-23T06:21:43.904Z"
   },
   {
    "duration": 8,
    "start_time": "2022-12-23T06:21:43.909Z"
   },
   {
    "duration": 5,
    "start_time": "2022-12-23T06:21:43.918Z"
   },
   {
    "duration": 7,
    "start_time": "2022-12-23T06:21:43.925Z"
   },
   {
    "duration": 55,
    "start_time": "2022-12-23T06:21:43.933Z"
   },
   {
    "duration": 3426,
    "start_time": "2022-12-23T06:21:43.990Z"
   },
   {
    "duration": 107819,
    "start_time": "2022-12-23T06:21:47.418Z"
   },
   {
    "duration": 463548,
    "start_time": "2022-12-23T06:23:35.239Z"
   },
   {
    "duration": 15515,
    "start_time": "2022-12-23T06:31:18.790Z"
   },
   {
    "duration": 128,
    "start_time": "2022-12-23T06:31:34.307Z"
   },
   {
    "duration": 6983,
    "start_time": "2022-12-23T06:31:34.437Z"
   },
   {
    "duration": 110786,
    "start_time": "2022-12-23T06:31:41.422Z"
   },
   {
    "duration": 440980,
    "start_time": "2022-12-23T06:33:32.210Z"
   },
   {
    "duration": 16018,
    "start_time": "2022-12-23T06:40:53.192Z"
   },
   {
    "duration": 102,
    "start_time": "2022-12-23T06:41:09.215Z"
   },
   {
    "duration": 3,
    "start_time": "2022-12-23T06:41:09.319Z"
   },
   {
    "duration": 8,
    "start_time": "2022-12-23T06:41:09.323Z"
   },
   {
    "duration": 1392,
    "start_time": "2022-12-23T06:41:44.213Z"
   },
   {
    "duration": 703,
    "start_time": "2022-12-23T06:41:45.607Z"
   },
   {
    "duration": 5,
    "start_time": "2022-12-23T06:41:46.311Z"
   },
   {
    "duration": 413,
    "start_time": "2022-12-23T06:41:46.319Z"
   },
   {
    "duration": 197,
    "start_time": "2022-12-23T06:41:46.734Z"
   },
   {
    "duration": 404,
    "start_time": "2022-12-23T06:41:46.932Z"
   },
   {
    "duration": 9,
    "start_time": "2022-12-23T06:41:47.338Z"
   },
   {
    "duration": 17,
    "start_time": "2022-12-23T06:41:47.350Z"
   },
   {
    "duration": 27,
    "start_time": "2022-12-23T06:41:47.370Z"
   },
   {
    "duration": 34,
    "start_time": "2022-12-23T06:41:47.399Z"
   },
   {
    "duration": 4,
    "start_time": "2022-12-23T06:41:47.435Z"
   },
   {
    "duration": 11,
    "start_time": "2022-12-23T06:41:47.441Z"
   },
   {
    "duration": 202,
    "start_time": "2022-12-23T06:41:47.454Z"
   },
   {
    "duration": 2101,
    "start_time": "2022-12-23T16:28:41.616Z"
   },
   {
    "duration": 798,
    "start_time": "2022-12-23T16:28:43.719Z"
   },
   {
    "duration": 6,
    "start_time": "2022-12-23T16:28:44.520Z"
   },
   {
    "duration": 502,
    "start_time": "2022-12-23T16:28:44.529Z"
   },
   {
    "duration": 255,
    "start_time": "2022-12-23T16:28:45.033Z"
   },
   {
    "duration": 430,
    "start_time": "2022-12-23T16:28:45.290Z"
   },
   {
    "duration": 10,
    "start_time": "2022-12-23T16:28:45.721Z"
   },
   {
    "duration": 18,
    "start_time": "2022-12-23T16:28:45.733Z"
   },
   {
    "duration": 30,
    "start_time": "2022-12-23T16:28:45.754Z"
   },
   {
    "duration": 53,
    "start_time": "2022-12-23T16:28:45.789Z"
   },
   {
    "duration": 3,
    "start_time": "2022-12-23T16:28:45.844Z"
   },
   {
    "duration": 10,
    "start_time": "2022-12-23T16:28:45.848Z"
   },
   {
    "duration": 183,
    "start_time": "2022-12-23T16:28:45.859Z"
   },
   {
    "duration": 186,
    "start_time": "2022-12-23T16:28:46.043Z"
   },
   {
    "duration": 254,
    "start_time": "2022-12-23T16:28:46.231Z"
   },
   {
    "duration": 1748,
    "start_time": "2022-12-23T16:28:46.486Z"
   },
   {
    "duration": 1096,
    "start_time": "2022-12-23T16:28:48.236Z"
   },
   {
    "duration": 25,
    "start_time": "2022-12-23T16:28:49.335Z"
   },
   {
    "duration": 1121,
    "start_time": "2022-12-23T16:28:49.379Z"
   },
   {
    "duration": 10,
    "start_time": "2022-12-23T16:28:50.501Z"
   },
   {
    "duration": 4,
    "start_time": "2022-12-23T16:31:26.255Z"
   },
   {
    "duration": 3,
    "start_time": "2022-12-23T16:31:27.122Z"
   },
   {
    "duration": 2,
    "start_time": "2022-12-23T16:31:29.374Z"
   },
   {
    "duration": 59,
    "start_time": "2022-12-23T16:31:34.910Z"
   },
   {
    "duration": 48,
    "start_time": "2022-12-23T16:32:05.065Z"
   },
   {
    "duration": 115764,
    "start_time": "2022-12-23T16:39:24.844Z"
   },
   {
    "duration": 457551,
    "start_time": "2022-12-23T16:41:20.613Z"
   },
   {
    "duration": 119,
    "start_time": "2022-12-23T17:09:56.710Z"
   },
   {
    "duration": 113671,
    "start_time": "2022-12-23T17:10:51.321Z"
   },
   {
    "duration": 495307,
    "start_time": "2022-12-23T17:12:45.000Z"
   },
   {
    "duration": 16,
    "start_time": "2022-12-23T17:28:15.410Z"
   },
   {
    "duration": 5,
    "start_time": "2022-12-23T17:28:21.044Z"
   },
   {
    "duration": 9,
    "start_time": "2022-12-23T17:28:23.311Z"
   }
  ],
  "kernelspec": {
   "display_name": "Python 3 (ipykernel)",
   "language": "python",
   "name": "python3"
  },
  "language_info": {
   "codemirror_mode": {
    "name": "ipython",
    "version": 3
   },
   "file_extension": ".py",
   "mimetype": "text/x-python",
   "name": "python",
   "nbconvert_exporter": "python",
   "pygments_lexer": "ipython3",
   "version": "3.9.12"
  },
  "toc": {
   "base_numbering": 1,
   "nav_menu": {},
   "number_sections": true,
   "sideBar": true,
   "skip_h1_title": true,
   "title_cell": "Содержание",
   "title_sidebar": "Contents",
   "toc_cell": true,
   "toc_position": {
    "height": "calc(100% - 180px)",
    "left": "10px",
    "top": "150px",
    "width": "286.075px"
   },
   "toc_section_display": true,
   "toc_window_display": true
  }
 },
 "nbformat": 4,
 "nbformat_minor": 2
}
